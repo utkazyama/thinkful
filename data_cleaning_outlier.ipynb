{
 "cells": [
  {
   "cell_type": "code",
   "execution_count": 1,
   "metadata": {},
   "outputs": [],
   "source": [
    "import matplotlib.pyplot as plt\n",
    "import numpy as np\n",
    "import pandas as pd\n",
    "from sqlalchemy import create_engine\n",
    "import warnings\n",
    "\n",
    "warnings.filterwarnings('ignore')\n",
    "\n",
    "postgres_user = 'dsbc_student'\n",
    "postgres_pw = '7*.8G9QH21'\n",
    "postgres_host = '142.93.121.174'\n",
    "postgres_port = '5432'\n",
    "postgres_db = 'useducation'\n",
    "\n",
    "engine = create_engine('postgresql://{}:{}@{}:{}/{}'.format(\n",
    "    postgres_user, postgres_pw, postgres_host, postgres_port, postgres_db))\n",
    "\n",
    "education_df = pd.read_sql_query('select * from useducation',con=engine)\n",
    "\n",
    "# no need for an open connection, \n",
    "# as we're only doing a single query\n",
    "engine.dispose()"
   ]
  },
  {
   "cell_type": "code",
   "execution_count": 2,
   "metadata": {},
   "outputs": [
    {
     "data": {
      "text/html": [
       "<div>\n",
       "<style scoped>\n",
       "    .dataframe tbody tr th:only-of-type {\n",
       "        vertical-align: middle;\n",
       "    }\n",
       "\n",
       "    .dataframe tbody tr th {\n",
       "        vertical-align: top;\n",
       "    }\n",
       "\n",
       "    .dataframe thead th {\n",
       "        text-align: right;\n",
       "    }\n",
       "</style>\n",
       "<table border=\"1\" class=\"dataframe\">\n",
       "  <thead>\n",
       "    <tr style=\"text-align: right;\">\n",
       "      <th></th>\n",
       "      <th>PRIMARY_KEY</th>\n",
       "      <th>STATE</th>\n",
       "      <th>YEAR</th>\n",
       "      <th>ENROLL</th>\n",
       "      <th>TOTAL_REVENUE</th>\n",
       "      <th>FEDERAL_REVENUE</th>\n",
       "      <th>STATE_REVENUE</th>\n",
       "      <th>LOCAL_REVENUE</th>\n",
       "      <th>TOTAL_EXPENDITURE</th>\n",
       "      <th>INSTRUCTION_EXPENDITURE</th>\n",
       "      <th>...</th>\n",
       "      <th>GRADES_4_G</th>\n",
       "      <th>GRADES_8_G</th>\n",
       "      <th>GRADES_12_G</th>\n",
       "      <th>GRADES_1_8_G</th>\n",
       "      <th>GRADES_9_12_G</th>\n",
       "      <th>GRADES_ALL_G</th>\n",
       "      <th>AVG_MATH_4_SCORE</th>\n",
       "      <th>AVG_MATH_8_SCORE</th>\n",
       "      <th>AVG_READING_4_SCORE</th>\n",
       "      <th>AVG_READING_8_SCORE</th>\n",
       "    </tr>\n",
       "  </thead>\n",
       "  <tbody>\n",
       "    <tr>\n",
       "      <td>0</td>\n",
       "      <td>1992_ALABAMA</td>\n",
       "      <td>ALABAMA</td>\n",
       "      <td>1992</td>\n",
       "      <td>NaN</td>\n",
       "      <td>2678885.0</td>\n",
       "      <td>304177.0</td>\n",
       "      <td>1659028.0</td>\n",
       "      <td>715680.0</td>\n",
       "      <td>2653798.0</td>\n",
       "      <td>1481703.0</td>\n",
       "      <td>...</td>\n",
       "      <td>57948.0</td>\n",
       "      <td>58025.0</td>\n",
       "      <td>41167.0</td>\n",
       "      <td>471564.0</td>\n",
       "      <td>196386.0</td>\n",
       "      <td>676174.0</td>\n",
       "      <td>208.327876</td>\n",
       "      <td>252.187522</td>\n",
       "      <td>207.963517</td>\n",
       "      <td>NaN</td>\n",
       "    </tr>\n",
       "    <tr>\n",
       "      <td>1</td>\n",
       "      <td>1992_ALASKA</td>\n",
       "      <td>ALASKA</td>\n",
       "      <td>1992</td>\n",
       "      <td>NaN</td>\n",
       "      <td>1049591.0</td>\n",
       "      <td>106780.0</td>\n",
       "      <td>720711.0</td>\n",
       "      <td>222100.0</td>\n",
       "      <td>972488.0</td>\n",
       "      <td>498362.0</td>\n",
       "      <td>...</td>\n",
       "      <td>9748.0</td>\n",
       "      <td>8789.0</td>\n",
       "      <td>6714.0</td>\n",
       "      <td>79117.0</td>\n",
       "      <td>30847.0</td>\n",
       "      <td>112335.0</td>\n",
       "      <td>NaN</td>\n",
       "      <td>NaN</td>\n",
       "      <td>NaN</td>\n",
       "      <td>258.859712</td>\n",
       "    </tr>\n",
       "    <tr>\n",
       "      <td>2</td>\n",
       "      <td>1992_ARIZONA</td>\n",
       "      <td>ARIZONA</td>\n",
       "      <td>1992</td>\n",
       "      <td>NaN</td>\n",
       "      <td>3258079.0</td>\n",
       "      <td>297888.0</td>\n",
       "      <td>1369815.0</td>\n",
       "      <td>1590376.0</td>\n",
       "      <td>3401580.0</td>\n",
       "      <td>1435908.0</td>\n",
       "      <td>...</td>\n",
       "      <td>55433.0</td>\n",
       "      <td>49081.0</td>\n",
       "      <td>37410.0</td>\n",
       "      <td>437127.0</td>\n",
       "      <td>175210.0</td>\n",
       "      <td>614881.0</td>\n",
       "      <td>215.253932</td>\n",
       "      <td>265.366278</td>\n",
       "      <td>206.212716</td>\n",
       "      <td>262.169895</td>\n",
       "    </tr>\n",
       "    <tr>\n",
       "      <td>3</td>\n",
       "      <td>1992_ARKANSAS</td>\n",
       "      <td>ARKANSAS</td>\n",
       "      <td>1992</td>\n",
       "      <td>NaN</td>\n",
       "      <td>1711959.0</td>\n",
       "      <td>178571.0</td>\n",
       "      <td>958785.0</td>\n",
       "      <td>574603.0</td>\n",
       "      <td>1743022.0</td>\n",
       "      <td>964323.0</td>\n",
       "      <td>...</td>\n",
       "      <td>34632.0</td>\n",
       "      <td>36011.0</td>\n",
       "      <td>27651.0</td>\n",
       "      <td>281338.0</td>\n",
       "      <td>123113.0</td>\n",
       "      <td>405259.0</td>\n",
       "      <td>210.206028</td>\n",
       "      <td>256.312090</td>\n",
       "      <td>208.634458</td>\n",
       "      <td>264.619665</td>\n",
       "    </tr>\n",
       "    <tr>\n",
       "      <td>4</td>\n",
       "      <td>1992_CALIFORNIA</td>\n",
       "      <td>CALIFORNIA</td>\n",
       "      <td>1992</td>\n",
       "      <td>NaN</td>\n",
       "      <td>26260025.0</td>\n",
       "      <td>2072470.0</td>\n",
       "      <td>16546514.0</td>\n",
       "      <td>7641041.0</td>\n",
       "      <td>27138832.0</td>\n",
       "      <td>14358922.0</td>\n",
       "      <td>...</td>\n",
       "      <td>418418.0</td>\n",
       "      <td>363296.0</td>\n",
       "      <td>270675.0</td>\n",
       "      <td>3286034.0</td>\n",
       "      <td>1372011.0</td>\n",
       "      <td>4717112.0</td>\n",
       "      <td>208.398961</td>\n",
       "      <td>260.892247</td>\n",
       "      <td>196.764414</td>\n",
       "      <td>NaN</td>\n",
       "    </tr>\n",
       "    <tr>\n",
       "      <td>5</td>\n",
       "      <td>1992_COLORADO</td>\n",
       "      <td>COLORADO</td>\n",
       "      <td>1992</td>\n",
       "      <td>NaN</td>\n",
       "      <td>3185173.0</td>\n",
       "      <td>163253.0</td>\n",
       "      <td>1307986.0</td>\n",
       "      <td>1713934.0</td>\n",
       "      <td>3264826.0</td>\n",
       "      <td>1642466.0</td>\n",
       "      <td>...</td>\n",
       "      <td>50648.0</td>\n",
       "      <td>45025.0</td>\n",
       "      <td>34533.0</td>\n",
       "      <td>394904.0</td>\n",
       "      <td>160299.0</td>\n",
       "      <td>562613.0</td>\n",
       "      <td>221.023429</td>\n",
       "      <td>272.398433</td>\n",
       "      <td>213.480890</td>\n",
       "      <td>266.419687</td>\n",
       "    </tr>\n",
       "    <tr>\n",
       "      <td>6</td>\n",
       "      <td>1992_CONNECTICUT</td>\n",
       "      <td>CONNECTICUT</td>\n",
       "      <td>1992</td>\n",
       "      <td>NaN</td>\n",
       "      <td>3834302.0</td>\n",
       "      <td>143542.0</td>\n",
       "      <td>1342539.0</td>\n",
       "      <td>2348221.0</td>\n",
       "      <td>3721338.0</td>\n",
       "      <td>2148041.0</td>\n",
       "      <td>...</td>\n",
       "      <td>38058.0</td>\n",
       "      <td>33691.0</td>\n",
       "      <td>28366.0</td>\n",
       "      <td>304284.0</td>\n",
       "      <td>126917.0</td>\n",
       "      <td>436932.0</td>\n",
       "      <td>226.798480</td>\n",
       "      <td>273.739345</td>\n",
       "      <td>222.417599</td>\n",
       "      <td>264.713904</td>\n",
       "    </tr>\n",
       "    <tr>\n",
       "      <td>7</td>\n",
       "      <td>1992_DELAWARE</td>\n",
       "      <td>DELAWARE</td>\n",
       "      <td>1992</td>\n",
       "      <td>NaN</td>\n",
       "      <td>645233.0</td>\n",
       "      <td>45945.0</td>\n",
       "      <td>420942.0</td>\n",
       "      <td>178346.0</td>\n",
       "      <td>638784.0</td>\n",
       "      <td>372722.0</td>\n",
       "      <td>...</td>\n",
       "      <td>8272.0</td>\n",
       "      <td>8012.0</td>\n",
       "      <td>6129.0</td>\n",
       "      <td>67495.0</td>\n",
       "      <td>28338.0</td>\n",
       "      <td>96296.0</td>\n",
       "      <td>217.899972</td>\n",
       "      <td>262.868585</td>\n",
       "      <td>206.389052</td>\n",
       "      <td>261.577921</td>\n",
       "    </tr>\n",
       "    <tr>\n",
       "      <td>8</td>\n",
       "      <td>1992_DISTRICT_OF_COLUMBIA</td>\n",
       "      <td>DISTRICT_OF_COLUMBIA</td>\n",
       "      <td>1992</td>\n",
       "      <td>NaN</td>\n",
       "      <td>709480.0</td>\n",
       "      <td>64749.0</td>\n",
       "      <td>0.0</td>\n",
       "      <td>644731.0</td>\n",
       "      <td>742893.0</td>\n",
       "      <td>329160.0</td>\n",
       "      <td>...</td>\n",
       "      <td>5832.0</td>\n",
       "      <td>5000.0</td>\n",
       "      <td>3433.0</td>\n",
       "      <td>47009.0</td>\n",
       "      <td>18173.0</td>\n",
       "      <td>70000.0</td>\n",
       "      <td>192.600553</td>\n",
       "      <td>234.924621</td>\n",
       "      <td>178.557612</td>\n",
       "      <td>265.976765</td>\n",
       "    </tr>\n",
       "    <tr>\n",
       "      <td>9</td>\n",
       "      <td>1992_FLORIDA</td>\n",
       "      <td>FLORIDA</td>\n",
       "      <td>1992</td>\n",
       "      <td>NaN</td>\n",
       "      <td>11506299.0</td>\n",
       "      <td>788420.0</td>\n",
       "      <td>5683949.0</td>\n",
       "      <td>5033930.0</td>\n",
       "      <td>11305642.0</td>\n",
       "      <td>5166374.0</td>\n",
       "      <td>...</td>\n",
       "      <td>164416.0</td>\n",
       "      <td>142372.0</td>\n",
       "      <td>100835.0</td>\n",
       "      <td>1276685.0</td>\n",
       "      <td>511557.0</td>\n",
       "      <td>1819706.0</td>\n",
       "      <td>213.689751</td>\n",
       "      <td>259.908848</td>\n",
       "      <td>204.882606</td>\n",
       "      <td>262.118986</td>\n",
       "    </tr>\n",
       "  </tbody>\n",
       "</table>\n",
       "<p>10 rows × 25 columns</p>\n",
       "</div>"
      ],
      "text/plain": [
       "                 PRIMARY_KEY                 STATE  YEAR  ENROLL  \\\n",
       "0               1992_ALABAMA               ALABAMA  1992     NaN   \n",
       "1                1992_ALASKA                ALASKA  1992     NaN   \n",
       "2               1992_ARIZONA               ARIZONA  1992     NaN   \n",
       "3              1992_ARKANSAS              ARKANSAS  1992     NaN   \n",
       "4            1992_CALIFORNIA            CALIFORNIA  1992     NaN   \n",
       "5              1992_COLORADO              COLORADO  1992     NaN   \n",
       "6           1992_CONNECTICUT           CONNECTICUT  1992     NaN   \n",
       "7              1992_DELAWARE              DELAWARE  1992     NaN   \n",
       "8  1992_DISTRICT_OF_COLUMBIA  DISTRICT_OF_COLUMBIA  1992     NaN   \n",
       "9               1992_FLORIDA               FLORIDA  1992     NaN   \n",
       "\n",
       "   TOTAL_REVENUE  FEDERAL_REVENUE  STATE_REVENUE  LOCAL_REVENUE  \\\n",
       "0      2678885.0         304177.0      1659028.0       715680.0   \n",
       "1      1049591.0         106780.0       720711.0       222100.0   \n",
       "2      3258079.0         297888.0      1369815.0      1590376.0   \n",
       "3      1711959.0         178571.0       958785.0       574603.0   \n",
       "4     26260025.0        2072470.0     16546514.0      7641041.0   \n",
       "5      3185173.0         163253.0      1307986.0      1713934.0   \n",
       "6      3834302.0         143542.0      1342539.0      2348221.0   \n",
       "7       645233.0          45945.0       420942.0       178346.0   \n",
       "8       709480.0          64749.0            0.0       644731.0   \n",
       "9     11506299.0         788420.0      5683949.0      5033930.0   \n",
       "\n",
       "   TOTAL_EXPENDITURE  INSTRUCTION_EXPENDITURE  ...  GRADES_4_G  GRADES_8_G  \\\n",
       "0          2653798.0                1481703.0  ...     57948.0     58025.0   \n",
       "1           972488.0                 498362.0  ...      9748.0      8789.0   \n",
       "2          3401580.0                1435908.0  ...     55433.0     49081.0   \n",
       "3          1743022.0                 964323.0  ...     34632.0     36011.0   \n",
       "4         27138832.0               14358922.0  ...    418418.0    363296.0   \n",
       "5          3264826.0                1642466.0  ...     50648.0     45025.0   \n",
       "6          3721338.0                2148041.0  ...     38058.0     33691.0   \n",
       "7           638784.0                 372722.0  ...      8272.0      8012.0   \n",
       "8           742893.0                 329160.0  ...      5832.0      5000.0   \n",
       "9         11305642.0                5166374.0  ...    164416.0    142372.0   \n",
       "\n",
       "   GRADES_12_G  GRADES_1_8_G  GRADES_9_12_G  GRADES_ALL_G  AVG_MATH_4_SCORE  \\\n",
       "0      41167.0      471564.0       196386.0      676174.0        208.327876   \n",
       "1       6714.0       79117.0        30847.0      112335.0               NaN   \n",
       "2      37410.0      437127.0       175210.0      614881.0        215.253932   \n",
       "3      27651.0      281338.0       123113.0      405259.0        210.206028   \n",
       "4     270675.0     3286034.0      1372011.0     4717112.0        208.398961   \n",
       "5      34533.0      394904.0       160299.0      562613.0        221.023429   \n",
       "6      28366.0      304284.0       126917.0      436932.0        226.798480   \n",
       "7       6129.0       67495.0        28338.0       96296.0        217.899972   \n",
       "8       3433.0       47009.0        18173.0       70000.0        192.600553   \n",
       "9     100835.0     1276685.0       511557.0     1819706.0        213.689751   \n",
       "\n",
       "   AVG_MATH_8_SCORE  AVG_READING_4_SCORE  AVG_READING_8_SCORE  \n",
       "0        252.187522           207.963517                  NaN  \n",
       "1               NaN                  NaN           258.859712  \n",
       "2        265.366278           206.212716           262.169895  \n",
       "3        256.312090           208.634458           264.619665  \n",
       "4        260.892247           196.764414                  NaN  \n",
       "5        272.398433           213.480890           266.419687  \n",
       "6        273.739345           222.417599           264.713904  \n",
       "7        262.868585           206.389052           261.577921  \n",
       "8        234.924621           178.557612           265.976765  \n",
       "9        259.908848           204.882606           262.118986  \n",
       "\n",
       "[10 rows x 25 columns]"
      ]
     },
     "execution_count": 2,
     "metadata": {},
     "output_type": "execute_result"
    }
   ],
   "source": [
    "education_df.head(10)"
   ]
  },
  {
   "cell_type": "code",
   "execution_count": 3,
   "metadata": {},
   "outputs": [
    {
     "name": "stdout",
     "output_type": "stream",
     "text": [
      "<class 'pandas.core.frame.DataFrame'>\n",
      "RangeIndex: 1492 entries, 0 to 1491\n",
      "Data columns (total 25 columns):\n",
      "PRIMARY_KEY                     1492 non-null object\n",
      "STATE                           1492 non-null object\n",
      "YEAR                            1492 non-null int64\n",
      "ENROLL                          1229 non-null float64\n",
      "TOTAL_REVENUE                   1280 non-null float64\n",
      "FEDERAL_REVENUE                 1280 non-null float64\n",
      "STATE_REVENUE                   1280 non-null float64\n",
      "LOCAL_REVENUE                   1280 non-null float64\n",
      "TOTAL_EXPENDITURE               1280 non-null float64\n",
      "INSTRUCTION_EXPENDITURE         1280 non-null float64\n",
      "SUPPORT_SERVICES_EXPENDITURE    1280 non-null float64\n",
      "OTHER_EXPENDITURE               1229 non-null float64\n",
      "CAPITAL_OUTLAY_EXPENDITURE      1280 non-null float64\n",
      "GRADES_PK_G                     1319 non-null float64\n",
      "GRADES_KG_G                     1360 non-null float64\n",
      "GRADES_4_G                      1361 non-null float64\n",
      "GRADES_8_G                      1361 non-null float64\n",
      "GRADES_12_G                     1361 non-null float64\n",
      "GRADES_1_8_G                    1361 non-null float64\n",
      "GRADES_9_12_G                   1361 non-null float64\n",
      "GRADES_ALL_G                    1319 non-null float64\n",
      "AVG_MATH_4_SCORE                536 non-null float64\n",
      "AVG_MATH_8_SCORE                532 non-null float64\n",
      "AVG_READING_4_SCORE             533 non-null float64\n",
      "AVG_READING_8_SCORE             498 non-null float64\n",
      "dtypes: float64(22), int64(1), object(2)\n",
      "memory usage: 291.5+ KB\n"
     ]
    }
   ],
   "source": [
    "education_df.info()"
   ]
  },
  {
   "cell_type": "markdown",
   "metadata": {},
   "source": [
    "1.Consider the two variables: TOTAL_REVENUE and TOTAL_EXPENDITURE. Do these variables have outlier values?\n",
    "\n",
    "\n",
    "2.If you detect outliers in the TOTAL_REVENUE and TOTAL_EXPENDITURE variables, apply the techniques you learned in this checkpoint to eliminate them and validate that there's no outlier values after you handled them.\n",
    "\n",
    "\n",
    "3.Create another variable by subtracting the original TOTAL_EXPENDITURE from TOTAL_REVENUE (before you eliminated the outliers). You can think of it as a kind of budget deficit in education. Do you find any outlier values in this new variable? If so, eliminate them using the technique you think most suitable.\n",
    "\n",
    "\n",
    "4.Now create another variable by subtracting the TOTAL_EXPENDITURE from TOTAL_REVENUE. This time, use the outlier eliminated versions of TOTAL_EXPENDITURE from TOTAL_REVENUE. In this newly created variable, can you find any outliers? If so, eliminate them.\n",
    "\n",
    "\n",
    "5.Compare some basic descriptive statistics of the budget variables you end up with in the 3rd and the 4th questions. Do you see any differences?\n",
    "\n",
    "\n",
    "6.If our variable of interest is the budget deficit variable, which method do you think is the appropriate in dealing with the outliers in this variable: the method in the 3rd question or the one in the 4th question?"
   ]
  },
  {
   "cell_type": "markdown",
   "metadata": {},
   "source": [
    "### 1.Consider the two variables: TOTAL_REVENUE and TOTAL_EXPENDITURE. Do these variables have outlier values?"
   ]
  },
  {
   "cell_type": "code",
   "execution_count": 4,
   "metadata": {},
   "outputs": [],
   "source": [
    "# We fill in the missing values using interpolation since our data is a time series data: <= why?\n",
    "\n",
    "\n",
    "education2_df = education_df.copy()\n",
    "\n",
    "fill_list=[\"TOTAL_REVENUE\", \"TOTAL_EXPENDITURE\"]\n",
    "\n",
    "states = education2_df[\"STATE\"].unique()\n",
    "\n",
    "\n",
    "for state in states:\n",
    "    education2_df.loc[education2_df[\"STATE\"] == state, fill_list] = education2_df.loc[education2_df[\"STATE\"] == state, fill_list].interpolate()\n",
    "\n",
    "education2_df.dropna(inplace=True)"
   ]
  },
  {
   "cell_type": "code",
   "execution_count": 5,
   "metadata": {},
   "outputs": [
    {
     "data": {
      "image/png": "[encoded data removed]",
      "text/plain": [
       "<Figure size 1080x360 with 2 Axes>"
      ]
     },
     "metadata": {
      "needs_background": "light"
     },
     "output_type": "display_data"
    }
   ],
   "source": [
    "plt.figure(figsize = (15, 5))\n",
    "\n",
    "plt.subplot(1,2,1)\n",
    "plt.boxplot(education2_df[\"TOTAL_REVENUE\"])\n",
    "plt.title(\"Total revenue (whis=1.5)\")\n",
    "\n",
    "\n",
    "plt.subplot(1,2,2)\n",
    "plt.boxplot(education2_df[\"TOTAL_EXPENDITURE\"])\n",
    "plt.title(\"Total expenditure (whis=1.5)\")\n",
    "\n",
    "plt.show()"
   ]
  },
  {
   "cell_type": "markdown",
   "metadata": {},
   "source": [
    "### 2.If you detect outliers in the TOTAL_REVENUE and TOTAL_EXPENDITURE variables, apply the techniques you learned in this checkpoint to eliminate them and validate that there's no outlier values after you handled them."
   ]
  },
  {
   "cell_type": "code",
   "execution_count": 6,
   "metadata": {},
   "outputs": [],
   "source": [
    "from scipy.stats.mstats import winsorize\n",
    "\n",
    "# how to decide winsorized value?\n",
    "\n",
    "winsorized_revenue = winsorize(education2_df[\"TOTAL_REVENUE\"], (0, 0.05))\n",
    "winsorized_expenditure = winsorize(education2_df[\"TOTAL_EXPENDITURE\"],(0, 0.05))"
   ]
  },
  {
   "cell_type": "code",
   "execution_count": 10,
   "metadata": {},
   "outputs": [
    {
     "data": {
      "image/png": "[encoded data removed]",
      "text/plain": [
       "<Figure size 1080x360 with 2 Axes>"
      ]
     },
     "metadata": {
      "needs_background": "light"
     },
     "output_type": "display_data"
    }
   ],
   "source": [
    "plt.figure(figsize = (15, 5))\n",
    "\n",
    "\n",
    "#  what is this whis=5 doing?\n",
    "plt.subplot(1,2,1)\n",
    "plt.boxplot(winsorized_revenue, whis=5)\n",
    "\n",
    "plt.subplot(1,2,2)\n",
    "plt.boxplot(winsorized_expenditure, whis=5)\n",
    "\n",
    "plt.show()"
   ]
  },
  {
   "cell_type": "markdown",
   "metadata": {},
   "source": [
    "### 3.Create another variable by subtracting the original TOTAL_EXPENDITURE from TOTAL_REVENUE (before you eliminated the outliers). You can think of it as a kind of budget deficit in education. Do you find any outlier values in this new variable? If so, eliminate them using the technique you think most suitable."
   ]
  },
  {
   "cell_type": "code",
   "execution_count": 12,
   "metadata": {},
   "outputs": [],
   "source": [
    "budget_deficit = education2_df.TOTAL_REVENUE - education2_df.TOTAL_EXPENDITURE"
   ]
  },
  {
   "cell_type": "code",
   "execution_count": 16,
   "metadata": {},
   "outputs": [
    {
     "data": {
      "text/plain": [
       "Text(0.5, 1.0, 'Budget deficit')"
      ]
     },
     "execution_count": 16,
     "metadata": {},
     "output_type": "execute_result"
    },
    {
     "data": {
      "image/png": "[encoded data removed]",
      "text/plain": [
       "<Figure size 432x288 with 1 Axes>"
      ]
     },
     "metadata": {
      "needs_background": "light"
     },
     "output_type": "display_data"
    }
   ],
   "source": [
    "plt.boxplot(budget_deficit, whis=5)\n",
    "plt.title(\"Budget deficit\")"
   ]
  },
  {
   "cell_type": "code",
   "execution_count": 17,
   "metadata": {},
   "outputs": [],
   "source": [
    "winsorized_budget = winsorize(budget_deficit, (0.05, 0.05))"
   ]
  },
  {
   "cell_type": "code",
   "execution_count": 18,
   "metadata": {},
   "outputs": [
    {
     "data": {
      "text/plain": [
       "Text(0.5, 1.0, 'Budget deficit')"
      ]
     },
     "execution_count": 18,
     "metadata": {},
     "output_type": "execute_result"
    },
    {
     "data": {
      "image/png": "[encoded data removed]",
      "text/plain": [
       "<Figure size 432x288 with 1 Axes>"
      ]
     },
     "metadata": {
      "needs_background": "light"
     },
     "output_type": "display_data"
    }
   ],
   "source": [
    "plt.boxplot(winsorized_budget, whis=5)\n",
    "plt.title(\"Budget deficit\")"
   ]
  },
  {
   "cell_type": "markdown",
   "metadata": {},
   "source": [
    "### 4. Now create another variable by subtracting the TOTAL_EXPENDITURE from TOTAL_REVENUE. But this time, use the outlier eliminated versions of TOTAL_EXPENDITURE from TOTAL_REVENUE. In this newly created variable, can you find any outliers? If so, eliminate them."
   ]
  },
  {
   "cell_type": "code",
   "execution_count": 19,
   "metadata": {},
   "outputs": [],
   "source": [
    "budget_deficit2 = winsorized_revenue - winsorized_expenditure"
   ]
  },
  {
   "cell_type": "code",
   "execution_count": 20,
   "metadata": {},
   "outputs": [
    {
     "data": {
      "text/plain": [
       "Text(0.5, 1.0, 'Budget deficit 2')"
      ]
     },
     "execution_count": 20,
     "metadata": {},
     "output_type": "execute_result"
    },
    {
     "data": {
      "image/png": "[encoded data removed]",
      "text/plain": [
       "<Figure size 432x288 with 1 Axes>"
      ]
     },
     "metadata": {
      "needs_background": "light"
     },
     "output_type": "display_data"
    }
   ],
   "source": [
    "plt.boxplot(budget_deficit2, whis=5)\n",
    "plt.title(\"Budget deficit 2\")"
   ]
  },
  {
   "cell_type": "code",
   "execution_count": 23,
   "metadata": {},
   "outputs": [
    {
     "data": {
      "text/plain": [
       "Text(0.5, 1.0, 'Budget defict 2')"
      ]
     },
     "execution_count": 23,
     "metadata": {},
     "output_type": "execute_result"
    },
    {
     "data": {
      "image/png": "[encoded data removed]",
      "text/plain": [
       "<Figure size 432x288 with 1 Axes>"
      ]
     },
     "metadata": {
      "needs_background": "light"
     },
     "output_type": "display_data"
    }
   ],
   "source": [
    "winsorized_budget2 = winsorize(budget_deficit2,(0.05,0.05))\n",
    "plt.boxplot(winsorized_budget2, whis=5)\n",
    "plt.title(\"Budget defict 2\")"
   ]
  },
  {
   "cell_type": "markdown",
   "metadata": {},
   "source": [
    "### 5. Compare some basic statistics of the budget variables you end up with in the third and the fourth questions. Do you see any differences?"
   ]
  },
  {
   "cell_type": "code",
   "execution_count": 24,
   "metadata": {},
   "outputs": [
    {
     "data": {
      "text/html": [
       "<div>\n",
       "<style scoped>\n",
       "    .dataframe tbody tr th:only-of-type {\n",
       "        vertical-align: middle;\n",
       "    }\n",
       "\n",
       "    .dataframe tbody tr th {\n",
       "        vertical-align: top;\n",
       "    }\n",
       "\n",
       "    .dataframe thead th {\n",
       "        text-align: right;\n",
       "    }\n",
       "</style>\n",
       "<table border=\"1\" class=\"dataframe\">\n",
       "  <thead>\n",
       "    <tr style=\"text-align: right;\">\n",
       "      <th></th>\n",
       "      <th>original_budget</th>\n",
       "      <th>winsorized_budget1</th>\n",
       "      <th>winsorized_budget2</th>\n",
       "    </tr>\n",
       "  </thead>\n",
       "  <tbody>\n",
       "    <tr>\n",
       "      <td>count</td>\n",
       "      <td>4.130000e+02</td>\n",
       "      <td>413.000000</td>\n",
       "      <td>4.130000e+02</td>\n",
       "    </tr>\n",
       "    <tr>\n",
       "      <td>mean</td>\n",
       "      <td>-1.073359e+05</td>\n",
       "      <td>-73128.285714</td>\n",
       "      <td>-1.613745e+05</td>\n",
       "    </tr>\n",
       "    <tr>\n",
       "      <td>std</td>\n",
       "      <td>6.026989e+05</td>\n",
       "      <td>345241.074194</td>\n",
       "      <td>5.813592e+05</td>\n",
       "    </tr>\n",
       "    <tr>\n",
       "      <td>min</td>\n",
       "      <td>-5.487742e+06</td>\n",
       "      <td>-940187.000000</td>\n",
       "      <td>-2.190438e+06</td>\n",
       "    </tr>\n",
       "    <tr>\n",
       "      <td>25%</td>\n",
       "      <td>-2.051510e+05</td>\n",
       "      <td>-205151.000000</td>\n",
       "      <td>-2.125430e+05</td>\n",
       "    </tr>\n",
       "    <tr>\n",
       "      <td>50%</td>\n",
       "      <td>-1.455000e+04</td>\n",
       "      <td>-14550.000000</td>\n",
       "      <td>-1.575500e+04</td>\n",
       "    </tr>\n",
       "    <tr>\n",
       "      <td>75%</td>\n",
       "      <td>8.356300e+04</td>\n",
       "      <td>83563.000000</td>\n",
       "      <td>8.197400e+04</td>\n",
       "    </tr>\n",
       "    <tr>\n",
       "      <td>max</td>\n",
       "      <td>1.816932e+06</td>\n",
       "      <td>557170.000000</td>\n",
       "      <td>5.400550e+05</td>\n",
       "    </tr>\n",
       "  </tbody>\n",
       "</table>\n",
       "</div>"
      ],
      "text/plain": [
       "       original_budget  winsorized_budget1  winsorized_budget2\n",
       "count     4.130000e+02          413.000000        4.130000e+02\n",
       "mean     -1.073359e+05       -73128.285714       -1.613745e+05\n",
       "std       6.026989e+05       345241.074194        5.813592e+05\n",
       "min      -5.487742e+06      -940187.000000       -2.190438e+06\n",
       "25%      -2.051510e+05      -205151.000000       -2.125430e+05\n",
       "50%      -1.455000e+04       -14550.000000       -1.575500e+04\n",
       "75%       8.356300e+04        83563.000000        8.197400e+04\n",
       "max       1.816932e+06       557170.000000        5.400550e+05"
      ]
     },
     "execution_count": 24,
     "metadata": {},
     "output_type": "execute_result"
    }
   ],
   "source": [
    "pd.DataFrame({\"original_budget\":budget_deficit, \"winsorized_budget1\": winsorized_budget, \"winsorized_budget2\":winsorized_budget2}).describe()"
   ]
  },
  {
   "cell_type": "markdown",
   "metadata": {},
   "source": [
    "### 6. If our variable of interest is the budget deficit variable, which method do you think is the most appropriate one in dealing with the outliers in this variable. The method in the third question or the one in the fourth question?"
   ]
  },
  {
   "cell_type": "code",
   "execution_count": 25,
   "metadata": {},
   "outputs": [],
   "source": [
    "#use originals and then winsorize?"
   ]
  },
  {
   "cell_type": "code",
   "execution_count": null,
   "metadata": {},
   "outputs": [],
   "source": []
  }
 ],
 "metadata": {
  "kernelspec": {
   "display_name": "Python 3",
   "language": "python",
   "name": "python3"
  },
  "language_info": {
   "codemirror_mode": {
    "name": "ipython",
    "version": 3
   },
   "file_extension": ".py",
   "mimetype": "text/x-python",
   "name": "python",
   "nbconvert_exporter": "python",
   "pygments_lexer": "ipython3",
   "version": "3.7.4"
  }
 },
 "nbformat": 4,
 "nbformat_minor": 2
}
