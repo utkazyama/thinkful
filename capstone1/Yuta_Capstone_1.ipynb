{
 "cells": [
  {
   "cell_type": "markdown",
   "metadata": {},
   "source": [
    "REQUIREMENTS\n",
    "\n",
    "1. Describe your dataset. Describe and explore your dataset in the initial section of your Report. What does your data contain and what is its background? Where does it come from? Why is it interesting or significant? Conduct summary statistics and produce visualizations for the particular variables from the dataset that you will use.\n",
    "\n",
    "2. Ask and answer analytic questions. Ask three analytic questions and answer each one with a combination of statistics and visualizations. These analytic questions can focus on individuals behaviors or comparisons of the population.\n",
    "\n",
    "3. Propose further research. Lastly, make a proposal for a realistic future research project on this dataset that would use some data science techniques you'd like to learn in the bootcamp. Just like your earlier questions, your research proposal should present one or more clear questions. Then you should describe the techniques you would apply in order to arrive at an answer."
   ]
  },
  {
   "cell_type": "markdown",
   "metadata": {},
   "source": [
    "MY THEME: Ramen data analytics\n",
    "    \n",
    "    \n",
    "ANALYTIC QUESTIONS\n",
    " #1 Which country produces ramen the most? Are there any outliers in number?\n",
    " #2 Which ramens are popular in terms of star ratings? How does that vary by country, brand, and style?\n",
    " #3 What are the most popular flavor? (*need to categorize based on the ramen package labels)"
   ]
  },
  {
   "cell_type": "code",
   "execution_count": 8,
   "metadata": {},
   "outputs": [
    {
     "name": "stdout",
     "output_type": "stream",
     "text": [
      "      Review #           Brand  \\\n",
      "0         2580       New Touch   \n",
      "1         2579        Just Way   \n",
      "2         2578          Nissin   \n",
      "3         2577         Wei Lih   \n",
      "4         2576  Ching's Secret   \n",
      "...        ...             ...   \n",
      "2575         5           Vifon   \n",
      "2576         4         Wai Wai   \n",
      "2577         3         Wai Wai   \n",
      "2578         2         Wai Wai   \n",
      "2579         1        Westbrae   \n",
      "\n",
      "                                                Variety Style   Country Stars  \\\n",
      "0                             T's Restaurant Tantanmen    Cup     Japan  3.75   \n",
      "1     Noodles Spicy Hot Sesame Spicy Hot Sesame Guan...  Pack    Taiwan     1   \n",
      "2                         Cup Noodles Chicken Vegetable   Cup       USA  2.25   \n",
      "3                         GGE Ramen Snack Tomato Flavor  Pack    Taiwan  2.75   \n",
      "4                                       Singapore Curry  Pack     India  3.75   \n",
      "...                                                 ...   ...       ...   ...   \n",
      "2575  Hu Tiu Nam Vang [\"Phnom Penh\" style] Asian Sty...  Bowl   Vietnam   3.5   \n",
      "2576                     Oriental Style Instant Noodles  Pack  Thailand     1   \n",
      "2577                                     Tom Yum Shrimp  Pack  Thailand     2   \n",
      "2578                               Tom Yum Chili Flavor  Pack  Thailand     2   \n",
      "2579                                         Miso Ramen  Pack       USA   0.5   \n",
      "\n",
      "     Top Ten  \n",
      "0        NaN  \n",
      "1        NaN  \n",
      "2        NaN  \n",
      "3        NaN  \n",
      "4        NaN  \n",
      "...      ...  \n",
      "2575     NaN  \n",
      "2576     NaN  \n",
      "2577     NaN  \n",
      "2578     NaN  \n",
      "2579     NaN  \n",
      "\n",
      "[2580 rows x 7 columns]\n"
     ]
    }
   ],
   "source": [
    "import pandas as pd\n",
    "import numpy as np\n",
    "import matplotlib.pyplot as plt\n",
    "%matplotlib inline\n",
    "\n",
    "ramens = pd.read_csv('ramen-ratings.csv')\n",
    "\n",
    "print(ramens)"
   ]
  },
  {
   "cell_type": "markdown",
   "metadata": {},
   "source": [
    "Next step: work on #1 Which country produces ramen the most? Are there any outliers in number?"
   ]
  },
  {
   "cell_type": "code",
   "execution_count": null,
   "metadata": {},
   "outputs": [],
   "source": []
  }
 ],
 "metadata": {
  "kernelspec": {
   "display_name": "Python 3",
   "language": "python",
   "name": "python3"
  },
  "language_info": {
   "codemirror_mode": {
    "name": "ipython",
    "version": 3
   },
   "file_extension": ".py",
   "mimetype": "text/x-python",
   "name": "python",
   "nbconvert_exporter": "python",
   "pygments_lexer": "ipython3",
   "version": "3.7.4"
  }
 },
 "nbformat": 4,
 "nbformat_minor": 2
}
