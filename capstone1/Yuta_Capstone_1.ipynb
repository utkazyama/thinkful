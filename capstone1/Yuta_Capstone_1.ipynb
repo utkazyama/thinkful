{
 "cells": [
  {
   "cell_type": "markdown",
   "metadata": {},
   "source": [
    "REQUIREMENTS\n",
    "\n",
    "1. Describe your dataset. Describe and explore your dataset in the initial section of your Report. What does your data contain and what is its background? Where does it come from? Why is it interesting or significant? Conduct summary statistics and produce visualizations for the particular variables from the dataset that you will use.\n",
    "\n",
    "2. Ask and answer analytic questions. Ask three analytic questions and answer each one with a combination of statistics and visualizations. These analytic questions can focus on individuals behaviors or comparisons of the population.\n",
    "\n",
    "3. Propose further research. Lastly, make a proposal for a realistic future research project on this dataset that would use some data science techniques you'd like to learn in the bootcamp. Just like your earlier questions, your research proposal should present one or more clear questions. Then you should describe the techniques you would apply in order to arrive at an answer."
   ]
  },
  {
   "cell_type": "markdown",
   "metadata": {},
   "source": [
    "MY THEME: Ramen data analytics\n",
    "\n",
    "DESCRIPTION OF THE DATASET\n",
    "\n",
    "This dataset was originally published by \"The Ramen Rater\", and released on Kaggle. The Ramen Rater is a product review website for the hardcore ramen enthusiast (or \"ramenphile\"), with over 2500 reviews to date. It contains a review id, brand, variety(the product name), style(cup, bowl, or tray?), country, and stars. Stars indicate the ramen quality assessed by the reviewer on 5 point scale.\n",
    "I chose this dataset because I am interested in food (especially in Japanese food) and want to see people's preferences in Japanese food."
   ]
  },
  {
   "cell_type": "markdown",
   "metadata": {},
   "source": [
    "ANALYTIC QUESTIONS\n",
    " #1 Which country produces ramen the most? And which countries makes highly rated ramens?\n",
    " #2 How stars distributed by countries, styles and brands?\n",
    " #3 What are the most popular flavor? (*need to categorize based on the ramen package labels)"
   ]
  },
  {
   "cell_type": "markdown",
   "metadata": {},
   "source": [
    "****************************************************************************************************************************************\n",
    "#1 Which country produces ramen the most? And which countries makes highly rated ramens?"
   ]
  },
  {
   "cell_type": "code",
   "execution_count": 147,
   "metadata": {},
   "outputs": [
    {
     "ename": "ModuleNotFoundError",
     "evalue": "No module named 'seaborn'",
     "output_type": "error",
     "traceback": [
      "\u001b[0;31m---------------------------------------------------------------------------\u001b[0m",
      "\u001b[0;31mModuleNotFoundError\u001b[0m                       Traceback (most recent call last)",
      "\u001b[0;32m<ipython-input-147-f9408437cfe7>\u001b[0m in \u001b[0;36m<module>\u001b[0;34m\u001b[0m\n\u001b[1;32m      1\u001b[0m \u001b[0;32mimport\u001b[0m \u001b[0mpandas\u001b[0m \u001b[0;32mas\u001b[0m \u001b[0mpd\u001b[0m\u001b[0;34m\u001b[0m\u001b[0;34m\u001b[0m\u001b[0m\n\u001b[1;32m      2\u001b[0m \u001b[0;32mimport\u001b[0m \u001b[0mnumpy\u001b[0m \u001b[0;32mas\u001b[0m \u001b[0mnp\u001b[0m\u001b[0;34m\u001b[0m\u001b[0;34m\u001b[0m\u001b[0m\n\u001b[0;32m----> 3\u001b[0;31m \u001b[0;32mimport\u001b[0m \u001b[0mseaborn\u001b[0m \u001b[0;32mas\u001b[0m \u001b[0msns\u001b[0m\u001b[0;34m\u001b[0m\u001b[0;34m\u001b[0m\u001b[0m\n\u001b[0m\u001b[1;32m      4\u001b[0m \u001b[0;32mimport\u001b[0m \u001b[0mmatplotlib\u001b[0m\u001b[0;34m.\u001b[0m\u001b[0mpyplot\u001b[0m \u001b[0;32mas\u001b[0m \u001b[0mplt\u001b[0m\u001b[0;34m\u001b[0m\u001b[0;34m\u001b[0m\u001b[0m\n\u001b[1;32m      5\u001b[0m \u001b[0mget_ipython\u001b[0m\u001b[0;34m(\u001b[0m\u001b[0;34m)\u001b[0m\u001b[0;34m.\u001b[0m\u001b[0mrun_line_magic\u001b[0m\u001b[0;34m(\u001b[0m\u001b[0;34m'matplotlib'\u001b[0m\u001b[0;34m,\u001b[0m \u001b[0;34m'inline'\u001b[0m\u001b[0;34m)\u001b[0m\u001b[0;34m\u001b[0m\u001b[0;34m\u001b[0m\u001b[0m\n",
      "\u001b[0;31mModuleNotFoundError\u001b[0m: No module named 'seaborn'"
     ]
    }
   ],
   "source": [
    "import pandas as pd\n",
    "import numpy as np\n",
    "import seaborn as sns\n",
    "import matplotlib.pyplot as plt\n",
    "%matplotlib inline\n",
    "\n",
    "ramens = pd.read_csv('ramen-ratings.csv')\n",
    "\n",
    "ramens.info()\n",
    "\n",
    "# Need to integrate \"United States\" & \"USA\"\n",
    "\n",
    "# 1. find ramen produced in \"United States\"\n",
    "# 2. update ramen's country to \"USA\"\n",
    "# 3. create new dictionaly??\n",
    "\n",
    "ramens[\"Country\"].replace(\"United States\", \"USA\", inplace=True)\n",
    "        \n",
    "ramens.Country.value_counts().plot(kind=\"bar\")\n",
    "plt.ylabel(\"Ramen Brands Count\")"
   ]
  },
  {
   "cell_type": "markdown",
   "metadata": {},
   "source": [
    "There are clear reasons for the top 3 countries. Understandably, Japan makes ramens the most because ramen is originally from Japan. Also, the number of USA ramens is the second biggest since this dataset is made in the USA. Regarding South Korea, they have a similar culture like Japan, and they make many ramens because ramen is also popular in South Korea."
   ]
  },
  {
   "cell_type": "code",
   "execution_count": 148,
   "metadata": {},
   "outputs": [
    {
     "data": {
      "text/plain": [
       "Text(0, 0.5, 'Highly Rated Brands Count')"
      ]
     },
     "execution_count": 148,
     "metadata": {},
     "output_type": "execute_result"
    },
    {
     "data": {
      "image/png": "[encoded data removed]",
      "text/plain": [
       "<Figure size 432x288 with 1 Axes>"
      ]
     },
     "metadata": {
      "needs_background": "light"
     },
     "output_type": "display_data"
    }
   ],
   "source": [
    "high_rated = ramens[ramens[\"Stars\"] >= \"4\"]\n",
    "\n",
    "high_rated.Country.value_counts().plot(kind=\"bar\")\n",
    "plt.ylabel(\"Highly Rated Brands Count\")"
   ]
  },
  {
   "cell_type": "markdown",
   "metadata": {},
   "source": [
    "When we see the top 3 countries, it is natural that Japan has highly rated ramens the most because they produce ramens the most as well. However, the ranking of South Korea and the USA is flipped compared to the number of ramens. Also, the difference between Japan and other countries got bigger. Let's see the ratio of highly rated ramens for each country to investigate the reason for the above."
   ]
  },
  {
   "cell_type": "code",
   "execution_count": 149,
   "metadata": {},
   "outputs": [
    {
     "name": "stdout",
     "output_type": "stream",
     "text": [
      "Japan:  43.803743045017704\n",
      "South Korea:  36.40065146579804\n",
      "USA:  30.787037037037035\n"
     ]
    }
   ],
   "source": [
    "japanese_ramen = ramens[(ramens[\"Country\"] >= \"Japan\")]\n",
    "korean_ramen = ramens[ramens[\"Country\"] >= \"South Korea\"]\n",
    "us_ramen = ramens[ramens[\"Country\"] >= \"USA\"]\n",
    "\n",
    "high_rated_japanese_ramen = ramens[(ramens[\"Country\"] >= \"Japan\")& (ramens[\"Stars\"] >= '4')]\n",
    "high_rated_korean_ramen = ramens[(ramens[\"Country\"] >= \"South Korea\")& (ramens[\"Stars\"] >= '4')]\n",
    "high_rated_us_ramen = ramens[(ramens[\"Country\"] >= \"USA\")& (ramens[\"Stars\"] >= '4')]\n",
    "\n",
    "japanese_high_ratio=len(high_rated_japanese_ramen)/len(japanese_ramen)*100\n",
    "korean_high_ratio=len(high_rated_korean_ramen)/len(korean_ramen)*100\n",
    "us_high_ratio=len(high_rated_us_ramen)/len(us_ramen)*100\n",
    "\n",
    "print(\"Japan: \", japanese_high_ratio)\n",
    "print(\"South Korea: \", korean_high_ratio)\n",
    "print(\"USA: \", us_high_ratio)\n",
    "\n",
    "\n",
    "# How can I plot this??? I want to show them in stacked bar chart.\n"
   ]
  },
  {
   "cell_type": "markdown",
   "metadata": {},
   "source": [
    "About 44% of Japanese ramens get a high score, on the other hand, Korean ramens has 36%, and the USA's ramens have 31%. That is the reason for the change in the chart.\n",
    "************************************"
   ]
  },
  {
   "cell_type": "markdown",
   "metadata": {},
   "source": [
    "#2 Stars distribution by countries, styles and brands."
   ]
  },
  {
   "cell_type": "code",
   "execution_count": 150,
   "metadata": {},
   "outputs": [
    {
     "ename": "NameError",
     "evalue": "name 'sns' is not defined",
     "output_type": "error",
     "traceback": [
      "\u001b[0;31m---------------------------------------------------------------------------\u001b[0m",
      "\u001b[0;31mNameError\u001b[0m                                 Traceback (most recent call last)",
      "\u001b[0;32m<ipython-input-150-1bf0f986ea8f>\u001b[0m in \u001b[0;36m<module>\u001b[0;34m\u001b[0m\n\u001b[1;32m      3\u001b[0m \u001b[0;34m\u001b[0m\u001b[0m\n\u001b[1;32m      4\u001b[0m \u001b[0;31m# plt.boxplot(data_top3countries)\u001b[0m\u001b[0;34m\u001b[0m\u001b[0;34m\u001b[0m\u001b[0;34m\u001b[0m\u001b[0m\n\u001b[0;32m----> 5\u001b[0;31m sns.boxplot(y='Stars', x='Country', \n\u001b[0m\u001b[1;32m      6\u001b[0m                  \u001b[0mdata\u001b[0m\u001b[0;34m=\u001b[0m\u001b[0mdata_top3countries\u001b[0m\u001b[0;34m,\u001b[0m\u001b[0;34m\u001b[0m\u001b[0;34m\u001b[0m\u001b[0m\n\u001b[1;32m      7\u001b[0m                  \u001b[0mwidth\u001b[0m\u001b[0;34m=\u001b[0m\u001b[0;36m0.5\u001b[0m\u001b[0;34m,\u001b[0m\u001b[0;34m\u001b[0m\u001b[0;34m\u001b[0m\u001b[0m\n",
      "\u001b[0;31mNameError\u001b[0m: name 'sns' is not defined"
     ]
    }
   ],
   "source": [
    "top3countries_list = ramens[\"Country\"].value_counts()[:3].index\n",
    "data_top3countries = ramens[ramens['Country'].isin(top3countries_list)]\n",
    "\n",
    "# plt.boxplot(data_top3countries)\n",
    "sns.boxplot(y='Stars', x='Country', \n",
    "                 data=data_top3countries, \n",
    "                 width=0.5,\n",
    "                 palette=\"colorblind\")\n",
    "\n",
    "df= pd.DataFrame(data_top3countries)\n",
    "df.boxplot(by=[\"Country\"], column=[\"Stars\"])\n",
    "    "
   ]
  },
  {
   "cell_type": "markdown",
   "metadata": {},
   "source": [
    "#3 What are the most popular flavor? (*need to categorize based on the ramen package labels)"
   ]
  },
  {
   "cell_type": "code",
   "execution_count": 14,
   "metadata": {},
   "outputs": [],
   "source": [
    "# Create category (shoyu, miso, shio, tom yam, kimuchi, etc..)\n",
    "# Create dictionaly with array({shoyu:[], miso:[], tom_yam:[], kimuchi:[]})\n",
    "# Iterate through database and see title of the ramen\n",
    "# If the title contains some of the created category, append the ramen to the appropriate array\n",
    "# count each category and show in bar chart?\n",
    "\n"
   ]
  },
  {
   "cell_type": "code",
   "execution_count": null,
   "metadata": {},
   "outputs": [],
   "source": []
  },
  {
   "cell_type": "code",
   "execution_count": null,
   "metadata": {},
   "outputs": [],
   "source": []
  }
 ],
 "metadata": {
  "kernelspec": {
   "display_name": "Python 3",
   "language": "python",
   "name": "python3"
  },
  "language_info": {
   "codemirror_mode": {
    "name": "ipython",
    "version": 3
   },
   "file_extension": ".py",
   "mimetype": "text/x-python",
   "name": "python",
   "nbconvert_exporter": "python",
   "pygments_lexer": "ipython3",
   "version": "3.7.4"
  }
 },
 "nbformat": 4,
 "nbformat_minor": 2
}
