{
 "cells": [
  {
   "cell_type": "markdown",
   "metadata": {},
   "source": [
    "### CAPSTONE 1 REQUIREMENTS"
   ]
  },
  {
   "cell_type": "markdown",
   "metadata": {},
   "source": [
    "1. Describe your dataset. Describe and explore your dataset in the initial section of your Report. What does your data contain and what is its background? Where does it come from? Why is it interesting or significant? Conduct summary statistics and produce visualizations for the particular variables from the dataset that you will use.\n",
    "\n",
    "2. Ask and answer analytic questions. Ask three analytic questions and answer each one with a combination of statistics and visualizations. These analytic questions can focus on individuals behaviors or comparisons of the population.\n",
    "\n",
    "3. Propose further research. Lastly, make a proposal for a realistic future research project on this dataset that would use some data science techniques you'd like to learn in the bootcamp. Just like your earlier questions, your research proposal should present one or more clear questions. Then you should describe the techniques you would apply in order to arrive at an answer.\n",
    "*****************************************"
   ]
  },
  {
   "cell_type": "markdown",
   "metadata": {},
   "source": [
    "# 1. DESCRIPTION OF THE DATASET"
   ]
  },
  {
   "cell_type": "markdown",
   "metadata": {},
   "source": [
    "This dataset was originally published by \"The Ramen Rater\", and released on Kaggle. The Ramen Rater is a product review website for the hardcore ramen enthusiast (or \"ramenphile\"), with over 2500 reviews to date. It contains a review id, brand, variety(the product name), style(cup, bowl, or tray?), country, and stars. Stars indicate the ramen quality assessed by the reviewer on 5 point scale.\n",
    "I chose this dataset because I am interested in food (especially in Japanese food) and want to see people's preferences in Japanese food.\n",
    "\n",
    "********************"
   ]
  },
  {
   "cell_type": "markdown",
   "metadata": {},
   "source": [
    "# 2. ANALYTIC QUESTIONS"
   ]
  },
  {
   "cell_type": "markdown",
   "metadata": {},
   "source": [
    " a. Which country produces ramen the most? And which countries make highly rated ramens? (Find top 3 countries)\n",
    " \n",
    " b. How stars distributed in each top 3 country's ramens?\n",
    " \n",
    " c. How brand and style affect the ratings?\n",
    "****************************************************************************************************************************************"
   ]
  },
  {
   "cell_type": "markdown",
   "metadata": {},
   "source": [
    "## a. Which country produces ramen the most? And which countries make highly rated ramens? (Find top 3 countries)"
   ]
  },
  {
   "cell_type": "code",
   "execution_count": 1,
   "metadata": {},
   "outputs": [],
   "source": [
    "import pandas as pd\n",
    "import numpy as np\n",
    "import matplotlib.pyplot as plt\n",
    "import seaborn as sns\n",
    "%matplotlib inline"
   ]
  },
  {
   "cell_type": "code",
   "execution_count": 2,
   "metadata": {},
   "outputs": [
    {
     "data": {
      "text/html": [
       "<div>\n",
       "<style scoped>\n",
       "    .dataframe tbody tr th:only-of-type {\n",
       "        vertical-align: middle;\n",
       "    }\n",
       "\n",
       "    .dataframe tbody tr th {\n",
       "        vertical-align: top;\n",
       "    }\n",
       "\n",
       "    .dataframe thead th {\n",
       "        text-align: right;\n",
       "    }\n",
       "</style>\n",
       "<table border=\"1\" class=\"dataframe\">\n",
       "  <thead>\n",
       "    <tr style=\"text-align: right;\">\n",
       "      <th></th>\n",
       "      <th>Review #</th>\n",
       "      <th>Brand</th>\n",
       "      <th>Variety</th>\n",
       "      <th>Style</th>\n",
       "      <th>Country</th>\n",
       "      <th>Stars</th>\n",
       "      <th>Top Ten</th>\n",
       "    </tr>\n",
       "  </thead>\n",
       "  <tbody>\n",
       "    <tr>\n",
       "      <td>0</td>\n",
       "      <td>2580</td>\n",
       "      <td>New Touch</td>\n",
       "      <td>T's Restaurant Tantanmen</td>\n",
       "      <td>Cup</td>\n",
       "      <td>Japan</td>\n",
       "      <td>3.75</td>\n",
       "      <td>NaN</td>\n",
       "    </tr>\n",
       "    <tr>\n",
       "      <td>1</td>\n",
       "      <td>2579</td>\n",
       "      <td>Just Way</td>\n",
       "      <td>Noodles Spicy Hot Sesame Spicy Hot Sesame Guan...</td>\n",
       "      <td>Pack</td>\n",
       "      <td>Taiwan</td>\n",
       "      <td>1</td>\n",
       "      <td>NaN</td>\n",
       "    </tr>\n",
       "    <tr>\n",
       "      <td>2</td>\n",
       "      <td>2578</td>\n",
       "      <td>Nissin</td>\n",
       "      <td>Cup Noodles Chicken Vegetable</td>\n",
       "      <td>Cup</td>\n",
       "      <td>USA</td>\n",
       "      <td>2.25</td>\n",
       "      <td>NaN</td>\n",
       "    </tr>\n",
       "    <tr>\n",
       "      <td>3</td>\n",
       "      <td>2577</td>\n",
       "      <td>Wei Lih</td>\n",
       "      <td>GGE Ramen Snack Tomato Flavor</td>\n",
       "      <td>Pack</td>\n",
       "      <td>Taiwan</td>\n",
       "      <td>2.75</td>\n",
       "      <td>NaN</td>\n",
       "    </tr>\n",
       "    <tr>\n",
       "      <td>4</td>\n",
       "      <td>2576</td>\n",
       "      <td>Ching's Secret</td>\n",
       "      <td>Singapore Curry</td>\n",
       "      <td>Pack</td>\n",
       "      <td>India</td>\n",
       "      <td>3.75</td>\n",
       "      <td>NaN</td>\n",
       "    </tr>\n",
       "  </tbody>\n",
       "</table>\n",
       "</div>"
      ],
      "text/plain": [
       "   Review #           Brand  \\\n",
       "0      2580       New Touch   \n",
       "1      2579        Just Way   \n",
       "2      2578          Nissin   \n",
       "3      2577         Wei Lih   \n",
       "4      2576  Ching's Secret   \n",
       "\n",
       "                                             Variety Style Country Stars  \\\n",
       "0                          T's Restaurant Tantanmen    Cup   Japan  3.75   \n",
       "1  Noodles Spicy Hot Sesame Spicy Hot Sesame Guan...  Pack  Taiwan     1   \n",
       "2                      Cup Noodles Chicken Vegetable   Cup     USA  2.25   \n",
       "3                      GGE Ramen Snack Tomato Flavor  Pack  Taiwan  2.75   \n",
       "4                                    Singapore Curry  Pack   India  3.75   \n",
       "\n",
       "  Top Ten  \n",
       "0     NaN  \n",
       "1     NaN  \n",
       "2     NaN  \n",
       "3     NaN  \n",
       "4     NaN  "
      ]
     },
     "execution_count": 2,
     "metadata": {},
     "output_type": "execute_result"
    }
   ],
   "source": [
    "ramens = pd.read_csv('ramen-ratings.csv')\n",
    "ramens.head(5)"
   ]
  },
  {
   "cell_type": "code",
   "execution_count": 3,
   "metadata": {},
   "outputs": [
    {
     "name": "stdout",
     "output_type": "stream",
     "text": [
      "<class 'pandas.core.frame.DataFrame'>\n",
      "RangeIndex: 2580 entries, 0 to 2579\n",
      "Data columns (total 7 columns):\n",
      "Review #    2580 non-null int64\n",
      "Brand       2580 non-null object\n",
      "Variety     2580 non-null object\n",
      "Style       2578 non-null object\n",
      "Country     2580 non-null object\n",
      "Stars       2580 non-null object\n",
      "Top Ten     41 non-null object\n",
      "dtypes: int64(1), object(6)\n",
      "memory usage: 141.2+ KB\n"
     ]
    }
   ],
   "source": [
    "ramens.info()"
   ]
  },
  {
   "cell_type": "markdown",
   "metadata": {},
   "source": [
    "Let's start with checking the number of ramens for each country."
   ]
  },
  {
   "cell_type": "code",
   "execution_count": 4,
   "metadata": {},
   "outputs": [
    {
     "data": {
      "text/plain": [
       "Text(0, 0.5, 'Ramens Count')"
      ]
     },
     "execution_count": 4,
     "metadata": {},
     "output_type": "execute_result"
    },
    {
     "data": {
      "image/png": "[encoded data removed]",
      "text/plain": [
       "<Figure size 432x288 with 1 Axes>"
      ]
     },
     "metadata": {
      "needs_background": "light"
     },
     "output_type": "display_data"
    }
   ],
   "source": [
    "# Integrate data of \"United States\" & \"USA\"\n",
    "ramens[\"Country\"].replace(\"United States\", \"USA\", inplace=True)\n",
    "        \n",
    "ramens.Country.value_counts().plot(kind=\"bar\")\n",
    "plt.ylabel(\"Ramens Count\")"
   ]
  },
  {
   "cell_type": "markdown",
   "metadata": {},
   "source": [
    "There are clear reasons for the top 3 countries. Understandably, Japan makes ramens the most because ramen is originally from Japan. Also, the number of USA ramens is the second biggest since this dataset is made in the USA. Regarding South Korea, they have a similar culture like Japan, and they make many ramens because ramen is also popular in South Korea.\n",
    "\n",
    "__Next, let's see which countries make highly rated ramens?__ I define \"highly rated ramen\" as \"the ramen which has over four stars rating.\""
   ]
  },
  {
   "cell_type": "code",
   "execution_count": 5,
   "metadata": {},
   "outputs": [
    {
     "data": {
      "text/plain": [
       "Text(0, 0.5, 'Highly Rated Ramens Count')"
      ]
     },
     "execution_count": 5,
     "metadata": {},
     "output_type": "execute_result"
    },
    {
     "data": {
      "image/png": "[encoded data removed]",
      "text/plain": [
       "<Figure size 432x288 with 1 Axes>"
      ]
     },
     "metadata": {
      "needs_background": "light"
     },
     "output_type": "display_data"
    }
   ],
   "source": [
    "# Find ramens which has over 4 stars\n",
    "high_rated = ramens[ramens[\"Stars\"] >= \"4\"]\n",
    "\n",
    "high_rated.Country.value_counts().plot(kind=\"bar\")\n",
    "plt.ylabel(\"Highly Rated Ramens Count\")"
   ]
  },
  {
   "cell_type": "markdown",
   "metadata": {},
   "source": [
    "When we see the top 3 countries, it is natural that Japan has highly rated ramens the most because they produce ramens the most. However, the difference between Japan and other countries got bigger. Also, the ranking of South Korea and the USA is flipped compared to the number of ramens.\n",
    "\n",
    "Let's see the ratio of highly rated ramens for each country to investigate the reason for the above."
   ]
  },
  {
   "cell_type": "code",
   "execution_count": 6,
   "metadata": {},
   "outputs": [
    {
     "name": "stdout",
     "output_type": "stream",
     "text": [
      "Japan:  61.36363636363637 %\n",
      "South Korea:  47.57281553398058 %\n",
      "USA:  36.11111111111111 %\n"
     ]
    },
    {
     "data": {
      "text/plain": [
       "Text(0, 0.5, 'Highly Rated Ratio')"
      ]
     },
     "execution_count": 6,
     "metadata": {},
     "output_type": "execute_result"
    },
    {
     "data": {
      "image/png": "[encoded data removed]",
      "text/plain": [
       "<Figure size 432x288 with 1 Axes>"
      ]
     },
     "metadata": {
      "needs_background": "light"
     },
     "output_type": "display_data"
    }
   ],
   "source": [
    "# Find each country's total number of ramens\n",
    "japanese_ramen = ramens[(ramens[\"Country\"] == \"Japan\")]\n",
    "korean_ramen = ramens[ramens[\"Country\"] == \"South Korea\"]\n",
    "us_ramen = ramens[ramens[\"Country\"] == \"USA\"]\n",
    "\n",
    "# Find each country's number of highly rated ramens\n",
    "high_rated_japanese_ramen = ramens[(ramens[\"Country\"] == \"Japan\")& (ramens[\"Stars\"] >= '4')]\n",
    "high_rated_korean_ramen = ramens[(ramens[\"Country\"] == \"South Korea\")& (ramens[\"Stars\"] >= '4')]\n",
    "high_rated_us_ramen = ramens[(ramens[\"Country\"] == \"USA\")& (ramens[\"Stars\"] >= '4')]\n",
    "\n",
    "# Check the ratio for highly rated ramens in each country\n",
    "japanese_high_ratio=len(high_rated_japanese_ramen)/len(japanese_ramen)*100\n",
    "korean_high_ratio=len(high_rated_korean_ramen)/len(korean_ramen)*100\n",
    "us_high_ratio=len(high_rated_us_ramen)/len(us_ramen)*100\n",
    "\n",
    "print(\"Japan: \", japanese_high_ratio,\"%\")\n",
    "print(\"South Korea: \", korean_high_ratio,\"%\")\n",
    "print(\"USA: \", us_high_ratio,\"%\")\n",
    "\n",
    "names = [\"Japan\", \"South Korea\", \"USA\"]\n",
    "values =[japanese_high_ratio, korean_high_ratio, us_high_ratio]\n",
    "plt.bar(names, values)\n",
    "plt.ylabel(\"Highly Rated Ratio\")\n",
    "\n"
   ]
  },
  {
   "cell_type": "markdown",
   "metadata": {},
   "source": [
    "Over 60% of Japanese ramens get a high score; on the other hand, only 47 % of Korean ramens, and 36% of the USA ramens get a high score. That is the reason for the change in the previous chart.\n",
    "************************************"
   ]
  },
  {
   "cell_type": "markdown",
   "metadata": {},
   "source": [
    "## b. How stars distributed in each top 3 country's ramens?"
   ]
  },
  {
   "cell_type": "markdown",
   "metadata": {},
   "source": [
    "Next, I will analyze star distribution in each top 3 countries."
   ]
  },
  {
   "cell_type": "code",
   "execution_count": 7,
   "metadata": {},
   "outputs": [
    {
     "name": "stderr",
     "output_type": "stream",
     "text": [
      "/Users/yutakatsuyama/anaconda3/lib/python3.7/site-packages/ipykernel_launcher.py:6: UserWarning: Boolean Series key will be reindexed to match DataFrame index.\n",
      "  \n",
      "/Users/yutakatsuyama/anaconda3/lib/python3.7/site-packages/ipykernel_launcher.py:7: SettingWithCopyWarning: \n",
      "A value is trying to be set on a copy of a slice from a DataFrame.\n",
      "Try using .loc[row_indexer,col_indexer] = value instead\n",
      "\n",
      "See the caveats in the documentation: http://pandas.pydata.org/pandas-docs/stable/user_guide/indexing.html#returning-a-view-versus-a-copy\n",
      "  import sys\n"
     ]
    },
    {
     "data": {
      "text/plain": [
       "Text(0.5, 1.0, 'Stars Distribution')"
      ]
     },
     "execution_count": 7,
     "metadata": {},
     "output_type": "execute_result"
    },
    {
     "data": {
      "image/png": "[encoded data removed]",
      "text/plain": [
       "<Figure size 360x360 with 1 Axes>"
      ]
     },
     "metadata": {
      "needs_background": "light"
     },
     "output_type": "display_data"
    }
   ],
   "source": [
    "# Find top 3 countries by the number of ramens\n",
    "top3countries_list = ramens[\"Country\"].value_counts()[:3].index\n",
    "data_top3countries = ramens[ramens['Country'].isin(top3countries_list)]\n",
    "\n",
    "# Clean up the data in \"Stars\" because some ramens are unrated. Then, convert strings to float numbers.\n",
    "stars=(data_top3countries[ramens['Stars'] != 'Unrated'])\n",
    "stars[\"Stars\"]=stars[\"Stars\"].astype(float)\n",
    "\n",
    "stars.boxplot(by=['Country'], column=[\"Stars\"], grid=False, figsize=(5, 5))\n",
    "\n",
    "plt.title('Stars Distribution')"
   ]
  },
  {
   "cell_type": "code",
   "execution_count": 8,
   "metadata": {},
   "outputs": [
    {
     "data": {
      "text/html": [
       "<div>\n",
       "<style scoped>\n",
       "    .dataframe tbody tr th:only-of-type {\n",
       "        vertical-align: middle;\n",
       "    }\n",
       "\n",
       "    .dataframe tbody tr th {\n",
       "        vertical-align: top;\n",
       "    }\n",
       "\n",
       "    .dataframe thead th {\n",
       "        text-align: right;\n",
       "    }\n",
       "</style>\n",
       "<table border=\"1\" class=\"dataframe\">\n",
       "  <thead>\n",
       "    <tr style=\"text-align: right;\">\n",
       "      <th></th>\n",
       "      <th>count</th>\n",
       "      <th>mean</th>\n",
       "      <th>std</th>\n",
       "      <th>min</th>\n",
       "      <th>25%</th>\n",
       "      <th>50%</th>\n",
       "      <th>75%</th>\n",
       "      <th>max</th>\n",
       "    </tr>\n",
       "    <tr>\n",
       "      <th>Country</th>\n",
       "      <th></th>\n",
       "      <th></th>\n",
       "      <th></th>\n",
       "      <th></th>\n",
       "      <th></th>\n",
       "      <th></th>\n",
       "      <th></th>\n",
       "      <th></th>\n",
       "    </tr>\n",
       "  </thead>\n",
       "  <tbody>\n",
       "    <tr>\n",
       "      <td>Japan</td>\n",
       "      <td>352.0</td>\n",
       "      <td>3.981605</td>\n",
       "      <td>0.913755</td>\n",
       "      <td>0.0</td>\n",
       "      <td>3.5</td>\n",
       "      <td>4.000</td>\n",
       "      <td>4.75</td>\n",
       "      <td>5.0</td>\n",
       "    </tr>\n",
       "    <tr>\n",
       "      <td>South Korea</td>\n",
       "      <td>307.0</td>\n",
       "      <td>3.790554</td>\n",
       "      <td>0.869436</td>\n",
       "      <td>0.0</td>\n",
       "      <td>3.5</td>\n",
       "      <td>3.750</td>\n",
       "      <td>4.25</td>\n",
       "      <td>5.0</td>\n",
       "    </tr>\n",
       "    <tr>\n",
       "      <td>USA</td>\n",
       "      <td>324.0</td>\n",
       "      <td>3.457948</td>\n",
       "      <td>1.054263</td>\n",
       "      <td>0.0</td>\n",
       "      <td>3.0</td>\n",
       "      <td>3.625</td>\n",
       "      <td>4.00</td>\n",
       "      <td>5.0</td>\n",
       "    </tr>\n",
       "  </tbody>\n",
       "</table>\n",
       "</div>"
      ],
      "text/plain": [
       "             count      mean       std  min  25%    50%   75%  max\n",
       "Country                                                           \n",
       "Japan        352.0  3.981605  0.913755  0.0  3.5  4.000  4.75  5.0\n",
       "South Korea  307.0  3.790554  0.869436  0.0  3.5  3.750  4.25  5.0\n",
       "USA          324.0  3.457948  1.054263  0.0  3.0  3.625  4.00  5.0"
      ]
     },
     "execution_count": 8,
     "metadata": {},
     "output_type": "execute_result"
    }
   ],
   "source": [
    "stars.groupby(['Country'])[\"Stars\"].describe()"
   ]
  },
  {
   "cell_type": "markdown",
   "metadata": {},
   "source": [
    "As we can see, Japanese ramen's mean is nearly 4 stars, and the interquartile range（IQR） is in 3.5 to 4.75. Korean ramen's mean is nearly 3.8, and IQR is in 3.5 to 4.25. USA ramens' mean is 3.4, and IQR is in 3.0 to 4.0.\n",
    "\n",
    "Also, let's check distribution plot."
   ]
  },
  {
   "cell_type": "code",
   "execution_count": 9,
   "metadata": {},
   "outputs": [
    {
     "data": {
      "text/plain": [
       "Text(0.5, 1.0, 'USA Distribution of Stars')"
      ]
     },
     "execution_count": 9,
     "metadata": {},
     "output_type": "execute_result"
    },
    {
     "data": {
      "image/png": "[encoded data removed]",
      "text/plain": [
       "<Figure size 1440x360 with 3 Axes>"
      ]
     },
     "metadata": {
      "needs_background": "light"
     },
     "output_type": "display_data"
    }
   ],
   "source": [
    "japan_stars=stars[(stars[\"Country\"] == \"Japan\")]\n",
    "korea_stars=stars[(stars[\"Country\"]==\"South Korea\")]\n",
    "us_stars=stars[(stars[\"Country\"]==\"USA\")]\n",
    "\n",
    "\n",
    "f, ax = plt.subplots(1, 3, figsize=(20, 5))\n",
    "\n",
    "sns.distplot(japan_stars[\"Stars\"], ax=ax[0]).set_title(\"Japan Distribution of Stars\")\n",
    "sns.distplot(korea_stars[\"Stars\"], ax=ax[1]).set_title(\"Korea Distribution of Stars\")\n",
    "sns.distplot(us_stars[\"Stars\"], ax=ax[2]).set_title(\"USA Distribution of Stars\")\n"
   ]
  },
  {
   "cell_type": "markdown",
   "metadata": {},
   "source": [
    "As we can see, stars in Japan distribute 4 - 5, and there are only a few lowly rated ramens. Korean stars accumulate in 4 stars, and fewer 5 stars. The USA stars histogram has the most spread shape.  Also, all three country's data shows dipping between 4 and 5 stars.\n",
    "\n",
    "From these data, we can know that Japanese ramens tend to be of high quality, most of the Korean ramens are stable quality, but fewer excellent tastes compared to Japanese ramens. Also, choosing USA ramens can be a hit or miss. \n",
    "\n",
    "Now we know the tendency of ramen's quality based on country of production. Let's see how styles and brand affect the ratings next.\n",
    "***************************"
   ]
  },
  {
   "cell_type": "markdown",
   "metadata": {},
   "source": [
    "## c. How brand and style affect the ratings?"
   ]
  },
  {
   "cell_type": "markdown",
   "metadata": {},
   "source": [
    "First, let's check how brand affects the ratings."
   ]
  },
  {
   "cell_type": "code",
   "execution_count": 10,
   "metadata": {},
   "outputs": [
    {
     "name": "stdout",
     "output_type": "stream",
     "text": [
      "Total number of brands: 355\n"
     ]
    }
   ],
   "source": [
    "#  Check how many brands the dataset have.\n",
    "print(\"Total number of brands:\", ramens[\"Brand\"].nunique())"
   ]
  },
  {
   "cell_type": "markdown",
   "metadata": {},
   "source": [
    "There are 355 brands in this dataset. This is too many. Let's check only the top 5 brands."
   ]
  },
  {
   "cell_type": "code",
   "execution_count": 11,
   "metadata": {},
   "outputs": [
    {
     "data": {
      "text/plain": [
       "Text(0, 0.5, 'Ramens Count')"
      ]
     },
     "execution_count": 11,
     "metadata": {},
     "output_type": "execute_result"
    },
    {
     "data": {
      "image/png": "[encoded data removed]",
      "text/plain": [
       "<Figure size 432x288 with 1 Axes>"
      ]
     },
     "metadata": {
      "needs_background": "light"
     },
     "output_type": "display_data"
    }
   ],
   "source": [
    "# Filter out minor styles\n",
    "top5brands_list = ramens[\"Brand\"].value_counts()[:5].index\n",
    "data_top5brands = ramens[ramens['Brand'].isin(top5brands_list)]\n",
    "\n",
    "# Before checking the distributions of stars, let's check how many ramens each brand have\n",
    "data_top5brands.Brand.value_counts().plot(kind=\"bar\").set_title(\"Number of Ramens for each Brand\")\n",
    "plt.ylabel(\"Ramens Count\")"
   ]
  },
  {
   "cell_type": "markdown",
   "metadata": {},
   "source": [
    "Nissin is a prominent brand regarding the number of ramens. Now, let's see the distributions of Stars for the brands.\n",
    "\n",
    "Also, let me explain which brand is which country's brand before we move on to boxploting.\n",
    "\n",
    "__Japanese Brand__: Nissin, Maruchan\n",
    "\n",
    "__Korean Brand__: Nongshim, Paldo\n",
    "\n",
    "__Thailand Brand__: Mama"
   ]
  },
  {
   "cell_type": "code",
   "execution_count": 12,
   "metadata": {},
   "outputs": [
    {
     "name": "stderr",
     "output_type": "stream",
     "text": [
      "/Users/yutakatsuyama/anaconda3/lib/python3.7/site-packages/ipykernel_launcher.py:2: UserWarning: Boolean Series key will be reindexed to match DataFrame index.\n",
      "  \n"
     ]
    },
    {
     "data": {
      "text/plain": [
       "Text(0.5, 1.0, 'Stars Distribution')"
      ]
     },
     "execution_count": 12,
     "metadata": {},
     "output_type": "execute_result"
    },
    {
     "data": {
      "image/png": "[encoded data removed]",
      "text/plain": [
       "<Figure size 432x288 with 1 Axes>"
      ]
     },
     "metadata": {
      "needs_background": "light"
     },
     "output_type": "display_data"
    }
   ],
   "source": [
    "# Clean up the data\n",
    "top5_brands_stars=(data_top5brands[ramens['Stars'] != 'Unrated'])\n",
    "top5_brands_stars[\"Stars\"]=top5_brands_stars[\"Stars\"].astype(float)\n",
    "\n",
    "sns.boxplot(x='Brand', y=\"Stars\", data=top5_brands_stars, order=[\"Nissin\", \"Nongshim\", \"Maruchan\", \"Mama\", \"Paldo\"])\n",
    "plt.title('Stars Distribution')"
   ]
  },
  {
   "cell_type": "markdown",
   "metadata": {},
   "source": [
    "From this chart, we can see that Nissin leads the Japanese ramens high ratings. Also, Korean ramen's stable quality comes from Nongshim and Paldo. (Both are Korean brands.) \n",
    "\n",
    "\n",
    "__Japanese Brand__: Nissin, Maruchan\n",
    "\n",
    "__Korean Brand__: Nongshim, Paldo\n",
    "\n",
    "__Thailand Brand__: Mama"
   ]
  },
  {
   "cell_type": "markdown",
   "metadata": {},
   "source": [
    "Lastly, I will check how style affects the ratings."
   ]
  },
  {
   "cell_type": "code",
   "execution_count": 13,
   "metadata": {},
   "outputs": [
    {
     "data": {
      "text/plain": [
       "Text(0, 0.5, 'Ramens Count')"
      ]
     },
     "execution_count": 13,
     "metadata": {},
     "output_type": "execute_result"
    },
    {
     "data": {
      "image/png": "[encoded data removed]",
      "text/plain": [
       "<Figure size 432x288 with 1 Axes>"
      ]
     },
     "metadata": {
      "needs_background": "light"
     },
     "output_type": "display_data"
    }
   ],
   "source": [
    "# Check how many ramens for each style. \n",
    "        \n",
    "ramens.Style.value_counts().plot(kind=\"bar\")\n",
    "plt.ylabel(\"Ramens Count\")"
   ]
  },
  {
   "cell_type": "markdown",
   "metadata": {},
   "source": [
    "Pack, bowl, and cup are the top 3 styles. Other styles seem to be non-standard.  Therefore, I will check the distribution of the stars only for the top 3 styles."
   ]
  },
  {
   "cell_type": "code",
   "execution_count": 14,
   "metadata": {},
   "outputs": [
    {
     "name": "stderr",
     "output_type": "stream",
     "text": [
      "/Users/yutakatsuyama/anaconda3/lib/python3.7/site-packages/ipykernel_launcher.py:6: UserWarning: Boolean Series key will be reindexed to match DataFrame index.\n",
      "  \n",
      "/Users/yutakatsuyama/anaconda3/lib/python3.7/site-packages/ipykernel_launcher.py:7: SettingWithCopyWarning: \n",
      "A value is trying to be set on a copy of a slice from a DataFrame.\n",
      "Try using .loc[row_indexer,col_indexer] = value instead\n",
      "\n",
      "See the caveats in the documentation: http://pandas.pydata.org/pandas-docs/stable/user_guide/indexing.html#returning-a-view-versus-a-copy\n",
      "  import sys\n"
     ]
    },
    {
     "data": {
      "text/plain": [
       "Text(0.5, 1.0, 'Distribution of Stars in Styles')"
      ]
     },
     "execution_count": 14,
     "metadata": {},
     "output_type": "execute_result"
    },
    {
     "data": {
      "image/png": "[encoded data removed]",
      "text/plain": [
       "<Figure size 432x288 with 1 Axes>"
      ]
     },
     "metadata": {
      "needs_background": "light"
     },
     "output_type": "display_data"
    }
   ],
   "source": [
    "# Filter out minor styles\n",
    "top3styles_list = ramens[\"Style\"].value_counts()[:3].index\n",
    "data_top3styles = ramens[ramens['Style'].isin(top3styles_list)]\n",
    "\n",
    "# Clean up the data\n",
    "top3_styles_stars=(data_top3styles[ramens['Stars'] != 'Unrated'])\n",
    "top3_styles_stars[\"Stars\"]=top3_styles_stars[\"Stars\"].astype(float)\n",
    "\n",
    "sns.boxplot(x='Style', y=\"Stars\", data=top3_styles_stars, order=[\"Pack\", \"Bowl\", \"Cup\"]).set_title(\"Distribution of Stars in Styles\")"
   ]
  },
  {
   "cell_type": "markdown",
   "metadata": {},
   "source": [
    "This is an interesting outcome. I thought cup style is popular than pack style because cup styles are convenient. (When we cook pack style ramen, we need a pot. On the other hand, for the cup styles, we need only boiled water)  However, I understand why this is happening. In my experience, pack style ramens taste better than cup style ramens. From this data, we can assume that this rating places more importance on tastes than convenience.\n",
    "****************************"
   ]
  },
  {
   "cell_type": "markdown",
   "metadata": {},
   "source": [
    "# 3. PROPOSAL FOR A FURTHER RESEARCH"
   ]
  },
  {
   "cell_type": "markdown",
   "metadata": {},
   "source": [
    "One of the reasons why ramens are popular is its various flavors (Shoyu, Miso, Shio, Kimuchi, etc.. ). So, I want to research which flavor is popular.  Also, if it is possible to get data from other countries, I want to see the people's preference on a global scale since this dataset is only from the US."
   ]
  },
  {
   "cell_type": "markdown",
   "metadata": {},
   "source": [
    "### __Analytic questions & Techniques I would apply__"
   ]
  },
  {
   "cell_type": "markdown",
   "metadata": {},
   "source": [
    "__Which flavors are commonly used in the product name?__\n",
    "-I will make several categories for flavors (Shoyu, Miso, Shio, Kimuchi, etc.. ). Then iterate through the product name, and if the name contains the strings which match the flavors,  append the product name in the flavor's array. (For example, if the product name is \"Tasty Tokyo Shoyu Special Noodle, its flavor category is \"Shoyu\"). Then count the total ramens in each flavor.\n",
    "\n",
    "__Which flavors are popular based on star ratings?__\n",
    "-Use the above analytic question's outcome and make a distribution plotting and boxplot.\n",
    "\n",
    "__How do the ratings change in the US market and Global market?__\n",
    "-Do the same analysis using ramen rating data from the world. And compare to the current report and see the differences."
   ]
  },
  {
   "cell_type": "code",
   "execution_count": null,
   "metadata": {},
   "outputs": [],
   "source": []
  },
  {
   "cell_type": "code",
   "execution_count": null,
   "metadata": {},
   "outputs": [],
   "source": []
  }
 ],
 "metadata": {
  "kernelspec": {
   "display_name": "Python 3",
   "language": "python",
   "name": "python3"
  },
  "language_info": {
   "codemirror_mode": {
    "name": "ipython",
    "version": 3
   },
   "file_extension": ".py",
   "mimetype": "text/x-python",
   "name": "python",
   "nbconvert_exporter": "python",
   "pygments_lexer": "ipython3",
   "version": "3.7.4"
  }
 },
 "nbformat": 4,
 "nbformat_minor": 2
}
