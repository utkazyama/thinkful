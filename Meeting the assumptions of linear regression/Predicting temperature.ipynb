{
 "cells": [
  {
   "cell_type": "code",
   "execution_count": 56,
   "metadata": {},
   "outputs": [
    {
     "data": {
      "text/html": [
       "<div>\n",
       "<style scoped>\n",
       "    .dataframe tbody tr th:only-of-type {\n",
       "        vertical-align: middle;\n",
       "    }\n",
       "\n",
       "    .dataframe tbody tr th {\n",
       "        vertical-align: top;\n",
       "    }\n",
       "\n",
       "    .dataframe thead th {\n",
       "        text-align: right;\n",
       "    }\n",
       "</style>\n",
       "<table border=\"1\" class=\"dataframe\">\n",
       "  <thead>\n",
       "    <tr style=\"text-align: right;\">\n",
       "      <th></th>\n",
       "      <th>date</th>\n",
       "      <th>summary</th>\n",
       "      <th>preciptype</th>\n",
       "      <th>temperature</th>\n",
       "      <th>apparenttemperature</th>\n",
       "      <th>humidity</th>\n",
       "      <th>windspeed</th>\n",
       "      <th>windbearing</th>\n",
       "      <th>visibility</th>\n",
       "      <th>loudcover</th>\n",
       "      <th>pressure</th>\n",
       "      <th>dailysummary</th>\n",
       "    </tr>\n",
       "  </thead>\n",
       "  <tbody>\n",
       "    <tr>\n",
       "      <td>0</td>\n",
       "      <td>2006-03-31 22:00:00+00:00</td>\n",
       "      <td>Partly Cloudy</td>\n",
       "      <td>rain</td>\n",
       "      <td>9.472</td>\n",
       "      <td>7.389</td>\n",
       "      <td>0.890</td>\n",
       "      <td>14.120</td>\n",
       "      <td>251.000</td>\n",
       "      <td>15.826</td>\n",
       "      <td>0.000</td>\n",
       "      <td>1015.130</td>\n",
       "      <td>Partly cloudy throughout the day.</td>\n",
       "    </tr>\n",
       "    <tr>\n",
       "      <td>1</td>\n",
       "      <td>2006-03-31 23:00:00+00:00</td>\n",
       "      <td>Partly Cloudy</td>\n",
       "      <td>rain</td>\n",
       "      <td>9.356</td>\n",
       "      <td>7.228</td>\n",
       "      <td>0.860</td>\n",
       "      <td>14.265</td>\n",
       "      <td>259.000</td>\n",
       "      <td>15.826</td>\n",
       "      <td>0.000</td>\n",
       "      <td>1015.630</td>\n",
       "      <td>Partly cloudy throughout the day.</td>\n",
       "    </tr>\n",
       "    <tr>\n",
       "      <td>2</td>\n",
       "      <td>2006-04-01 00:00:00+00:00</td>\n",
       "      <td>Mostly Cloudy</td>\n",
       "      <td>rain</td>\n",
       "      <td>9.378</td>\n",
       "      <td>9.378</td>\n",
       "      <td>0.890</td>\n",
       "      <td>3.928</td>\n",
       "      <td>204.000</td>\n",
       "      <td>14.957</td>\n",
       "      <td>0.000</td>\n",
       "      <td>1015.940</td>\n",
       "      <td>Partly cloudy throughout the day.</td>\n",
       "    </tr>\n",
       "    <tr>\n",
       "      <td>3</td>\n",
       "      <td>2006-04-01 01:00:00+00:00</td>\n",
       "      <td>Partly Cloudy</td>\n",
       "      <td>rain</td>\n",
       "      <td>8.289</td>\n",
       "      <td>5.944</td>\n",
       "      <td>0.830</td>\n",
       "      <td>14.104</td>\n",
       "      <td>269.000</td>\n",
       "      <td>15.826</td>\n",
       "      <td>0.000</td>\n",
       "      <td>1016.410</td>\n",
       "      <td>Partly cloudy throughout the day.</td>\n",
       "    </tr>\n",
       "    <tr>\n",
       "      <td>4</td>\n",
       "      <td>2006-04-01 02:00:00+00:00</td>\n",
       "      <td>Mostly Cloudy</td>\n",
       "      <td>rain</td>\n",
       "      <td>8.756</td>\n",
       "      <td>6.978</td>\n",
       "      <td>0.830</td>\n",
       "      <td>11.045</td>\n",
       "      <td>259.000</td>\n",
       "      <td>15.826</td>\n",
       "      <td>0.000</td>\n",
       "      <td>1016.510</td>\n",
       "      <td>Partly cloudy throughout the day.</td>\n",
       "    </tr>\n",
       "    <tr>\n",
       "      <td>5</td>\n",
       "      <td>2006-04-01 03:00:00+00:00</td>\n",
       "      <td>Partly Cloudy</td>\n",
       "      <td>rain</td>\n",
       "      <td>9.222</td>\n",
       "      <td>7.111</td>\n",
       "      <td>0.850</td>\n",
       "      <td>13.959</td>\n",
       "      <td>258.000</td>\n",
       "      <td>14.957</td>\n",
       "      <td>0.000</td>\n",
       "      <td>1016.660</td>\n",
       "      <td>Partly cloudy throughout the day.</td>\n",
       "    </tr>\n",
       "    <tr>\n",
       "      <td>6</td>\n",
       "      <td>2006-04-01 04:00:00+00:00</td>\n",
       "      <td>Partly Cloudy</td>\n",
       "      <td>rain</td>\n",
       "      <td>7.733</td>\n",
       "      <td>5.522</td>\n",
       "      <td>0.950</td>\n",
       "      <td>12.365</td>\n",
       "      <td>259.000</td>\n",
       "      <td>9.982</td>\n",
       "      <td>0.000</td>\n",
       "      <td>1016.720</td>\n",
       "      <td>Partly cloudy throughout the day.</td>\n",
       "    </tr>\n",
       "    <tr>\n",
       "      <td>7</td>\n",
       "      <td>2006-04-01 05:00:00+00:00</td>\n",
       "      <td>Partly Cloudy</td>\n",
       "      <td>rain</td>\n",
       "      <td>8.772</td>\n",
       "      <td>6.528</td>\n",
       "      <td>0.890</td>\n",
       "      <td>14.152</td>\n",
       "      <td>260.000</td>\n",
       "      <td>9.982</td>\n",
       "      <td>0.000</td>\n",
       "      <td>1016.840</td>\n",
       "      <td>Partly cloudy throughout the day.</td>\n",
       "    </tr>\n",
       "    <tr>\n",
       "      <td>8</td>\n",
       "      <td>2006-04-01 06:00:00+00:00</td>\n",
       "      <td>Partly Cloudy</td>\n",
       "      <td>rain</td>\n",
       "      <td>10.822</td>\n",
       "      <td>10.822</td>\n",
       "      <td>0.820</td>\n",
       "      <td>11.318</td>\n",
       "      <td>259.000</td>\n",
       "      <td>9.982</td>\n",
       "      <td>0.000</td>\n",
       "      <td>1017.370</td>\n",
       "      <td>Partly cloudy throughout the day.</td>\n",
       "    </tr>\n",
       "    <tr>\n",
       "      <td>9</td>\n",
       "      <td>2006-04-01 07:00:00+00:00</td>\n",
       "      <td>Partly Cloudy</td>\n",
       "      <td>rain</td>\n",
       "      <td>13.772</td>\n",
       "      <td>13.772</td>\n",
       "      <td>0.720</td>\n",
       "      <td>12.526</td>\n",
       "      <td>279.000</td>\n",
       "      <td>9.982</td>\n",
       "      <td>0.000</td>\n",
       "      <td>1017.220</td>\n",
       "      <td>Partly cloudy throughout the day.</td>\n",
       "    </tr>\n",
       "  </tbody>\n",
       "</table>\n",
       "</div>"
      ],
      "text/plain": [
       "                       date        summary preciptype  temperature  \\\n",
       "0 2006-03-31 22:00:00+00:00  Partly Cloudy       rain        9.472   \n",
       "1 2006-03-31 23:00:00+00:00  Partly Cloudy       rain        9.356   \n",
       "2 2006-04-01 00:00:00+00:00  Mostly Cloudy       rain        9.378   \n",
       "3 2006-04-01 01:00:00+00:00  Partly Cloudy       rain        8.289   \n",
       "4 2006-04-01 02:00:00+00:00  Mostly Cloudy       rain        8.756   \n",
       "5 2006-04-01 03:00:00+00:00  Partly Cloudy       rain        9.222   \n",
       "6 2006-04-01 04:00:00+00:00  Partly Cloudy       rain        7.733   \n",
       "7 2006-04-01 05:00:00+00:00  Partly Cloudy       rain        8.772   \n",
       "8 2006-04-01 06:00:00+00:00  Partly Cloudy       rain       10.822   \n",
       "9 2006-04-01 07:00:00+00:00  Partly Cloudy       rain       13.772   \n",
       "\n",
       "   apparenttemperature  humidity  windspeed  windbearing  visibility  \\\n",
       "0                7.389     0.890     14.120      251.000      15.826   \n",
       "1                7.228     0.860     14.265      259.000      15.826   \n",
       "2                9.378     0.890      3.928      204.000      14.957   \n",
       "3                5.944     0.830     14.104      269.000      15.826   \n",
       "4                6.978     0.830     11.045      259.000      15.826   \n",
       "5                7.111     0.850     13.959      258.000      14.957   \n",
       "6                5.522     0.950     12.365      259.000       9.982   \n",
       "7                6.528     0.890     14.152      260.000       9.982   \n",
       "8               10.822     0.820     11.318      259.000       9.982   \n",
       "9               13.772     0.720     12.526      279.000       9.982   \n",
       "\n",
       "   loudcover  pressure                       dailysummary  \n",
       "0      0.000  1015.130  Partly cloudy throughout the day.  \n",
       "1      0.000  1015.630  Partly cloudy throughout the day.  \n",
       "2      0.000  1015.940  Partly cloudy throughout the day.  \n",
       "3      0.000  1016.410  Partly cloudy throughout the day.  \n",
       "4      0.000  1016.510  Partly cloudy throughout the day.  \n",
       "5      0.000  1016.660  Partly cloudy throughout the day.  \n",
       "6      0.000  1016.720  Partly cloudy throughout the day.  \n",
       "7      0.000  1016.840  Partly cloudy throughout the day.  \n",
       "8      0.000  1017.370  Partly cloudy throughout the day.  \n",
       "9      0.000  1017.220  Partly cloudy throughout the day.  "
      ]
     },
     "execution_count": 56,
     "metadata": {},
     "output_type": "execute_result"
    }
   ],
   "source": [
    "import matplotlib.pyplot as plt\n",
    "import numpy as np\n",
    "import pandas as pd\n",
    "from sklearn import linear_model\n",
    "import statsmodels.formula.api as smf\n",
    "from sqlalchemy import create_engine\n",
    "\n",
    "# Display preferences.\n",
    "%matplotlib inline\n",
    "pd.options.display.float_format = '{:.3f}'.format\n",
    "\n",
    "import warnings\n",
    "warnings.filterwarnings(action=\"ignore\")\n",
    "\n",
    "postgres_user = 'dsbc_student'\n",
    "postgres_pw = '7*.8G9QH21'\n",
    "postgres_host = '142.93.121.174'\n",
    "postgres_port = '5432'\n",
    "postgres_db = 'weatherinszeged'\n",
    "\n",
    "engine = create_engine('postgresql://{}:{}@{}:{}/{}'.format(\n",
    "    postgres_user, postgres_pw, postgres_host, postgres_port, postgres_db))\n",
    "\n",
    "df = pd.read_sql_query('select * from weatherinszeged',con=engine)\n",
    "\n",
    "# no need for an open connection, as we're only doing a single query\n",
    "engine.dispose()\n",
    "\n",
    "df.head(10)"
   ]
  },
  {
   "cell_type": "markdown",
   "metadata": {},
   "source": [
    "## Preliminary data exploration"
   ]
  },
  {
   "cell_type": "code",
   "execution_count": 57,
   "metadata": {},
   "outputs": [
    {
     "name": "stdout",
     "output_type": "stream",
     "text": [
      "<class 'pandas.core.frame.DataFrame'>\n",
      "RangeIndex: 96453 entries, 0 to 96452\n",
      "Data columns (total 12 columns):\n",
      "date                   96453 non-null datetime64[ns, UTC]\n",
      "summary                96453 non-null object\n",
      "preciptype             96453 non-null object\n",
      "temperature            96453 non-null float64\n",
      "apparenttemperature    96453 non-null float64\n",
      "humidity               96453 non-null float64\n",
      "windspeed              96453 non-null float64\n",
      "windbearing            96453 non-null float64\n",
      "visibility             96453 non-null float64\n",
      "loudcover              96453 non-null float64\n",
      "pressure               96453 non-null float64\n",
      "dailysummary           96453 non-null object\n",
      "dtypes: datetime64[ns, UTC](1), float64(8), object(3)\n",
      "memory usage: 8.8+ MB\n"
     ]
    }
   ],
   "source": [
    "df.info()"
   ]
  },
  {
   "cell_type": "code",
   "execution_count": 58,
   "metadata": {},
   "outputs": [
    {
     "data": {
      "text/html": [
       "<div>\n",
       "<style scoped>\n",
       "    .dataframe tbody tr th:only-of-type {\n",
       "        vertical-align: middle;\n",
       "    }\n",
       "\n",
       "    .dataframe tbody tr th {\n",
       "        vertical-align: top;\n",
       "    }\n",
       "\n",
       "    .dataframe thead th {\n",
       "        text-align: right;\n",
       "    }\n",
       "</style>\n",
       "<table border=\"1\" class=\"dataframe\">\n",
       "  <thead>\n",
       "    <tr style=\"text-align: right;\">\n",
       "      <th></th>\n",
       "      <th>temperature</th>\n",
       "      <th>apparenttemperature</th>\n",
       "      <th>humidity</th>\n",
       "      <th>windspeed</th>\n",
       "      <th>windbearing</th>\n",
       "      <th>visibility</th>\n",
       "      <th>loudcover</th>\n",
       "      <th>pressure</th>\n",
       "    </tr>\n",
       "  </thead>\n",
       "  <tbody>\n",
       "    <tr>\n",
       "      <td>count</td>\n",
       "      <td>96453.000</td>\n",
       "      <td>96453.000</td>\n",
       "      <td>96453.000</td>\n",
       "      <td>96453.000</td>\n",
       "      <td>96453.000</td>\n",
       "      <td>96453.000</td>\n",
       "      <td>96453.000</td>\n",
       "      <td>96453.000</td>\n",
       "    </tr>\n",
       "    <tr>\n",
       "      <td>mean</td>\n",
       "      <td>11.933</td>\n",
       "      <td>10.855</td>\n",
       "      <td>0.735</td>\n",
       "      <td>10.811</td>\n",
       "      <td>187.509</td>\n",
       "      <td>10.347</td>\n",
       "      <td>0.000</td>\n",
       "      <td>1003.236</td>\n",
       "    </tr>\n",
       "    <tr>\n",
       "      <td>std</td>\n",
       "      <td>9.552</td>\n",
       "      <td>10.697</td>\n",
       "      <td>0.195</td>\n",
       "      <td>6.914</td>\n",
       "      <td>107.383</td>\n",
       "      <td>4.192</td>\n",
       "      <td>0.000</td>\n",
       "      <td>116.970</td>\n",
       "    </tr>\n",
       "    <tr>\n",
       "      <td>min</td>\n",
       "      <td>-21.822</td>\n",
       "      <td>-27.717</td>\n",
       "      <td>0.000</td>\n",
       "      <td>0.000</td>\n",
       "      <td>0.000</td>\n",
       "      <td>0.000</td>\n",
       "      <td>0.000</td>\n",
       "      <td>0.000</td>\n",
       "    </tr>\n",
       "    <tr>\n",
       "      <td>25%</td>\n",
       "      <td>4.689</td>\n",
       "      <td>2.311</td>\n",
       "      <td>0.600</td>\n",
       "      <td>5.828</td>\n",
       "      <td>116.000</td>\n",
       "      <td>8.340</td>\n",
       "      <td>0.000</td>\n",
       "      <td>1011.900</td>\n",
       "    </tr>\n",
       "    <tr>\n",
       "      <td>50%</td>\n",
       "      <td>12.000</td>\n",
       "      <td>12.000</td>\n",
       "      <td>0.780</td>\n",
       "      <td>9.966</td>\n",
       "      <td>180.000</td>\n",
       "      <td>10.046</td>\n",
       "      <td>0.000</td>\n",
       "      <td>1016.450</td>\n",
       "    </tr>\n",
       "    <tr>\n",
       "      <td>75%</td>\n",
       "      <td>18.839</td>\n",
       "      <td>18.839</td>\n",
       "      <td>0.890</td>\n",
       "      <td>14.136</td>\n",
       "      <td>290.000</td>\n",
       "      <td>14.812</td>\n",
       "      <td>0.000</td>\n",
       "      <td>1021.090</td>\n",
       "    </tr>\n",
       "    <tr>\n",
       "      <td>max</td>\n",
       "      <td>39.906</td>\n",
       "      <td>39.344</td>\n",
       "      <td>1.000</td>\n",
       "      <td>63.853</td>\n",
       "      <td>359.000</td>\n",
       "      <td>16.100</td>\n",
       "      <td>0.000</td>\n",
       "      <td>1046.380</td>\n",
       "    </tr>\n",
       "  </tbody>\n",
       "</table>\n",
       "</div>"
      ],
      "text/plain": [
       "       temperature  apparenttemperature  humidity  windspeed  windbearing  \\\n",
       "count    96453.000            96453.000 96453.000  96453.000    96453.000   \n",
       "mean        11.933               10.855     0.735     10.811      187.509   \n",
       "std          9.552               10.697     0.195      6.914      107.383   \n",
       "min        -21.822              -27.717     0.000      0.000        0.000   \n",
       "25%          4.689                2.311     0.600      5.828      116.000   \n",
       "50%         12.000               12.000     0.780      9.966      180.000   \n",
       "75%         18.839               18.839     0.890     14.136      290.000   \n",
       "max         39.906               39.344     1.000     63.853      359.000   \n",
       "\n",
       "       visibility  loudcover  pressure  \n",
       "count   96453.000  96453.000 96453.000  \n",
       "mean       10.347      0.000  1003.236  \n",
       "std         4.192      0.000   116.970  \n",
       "min         0.000      0.000     0.000  \n",
       "25%         8.340      0.000  1011.900  \n",
       "50%        10.046      0.000  1016.450  \n",
       "75%        14.812      0.000  1021.090  \n",
       "max        16.100      0.000  1046.380  "
      ]
     },
     "execution_count": 58,
     "metadata": {},
     "output_type": "execute_result"
    }
   ],
   "source": [
    "df.describe()"
   ]
  },
  {
   "cell_type": "code",
   "execution_count": 59,
   "metadata": {},
   "outputs": [
    {
     "data": {
      "text/html": [
       "<div>\n",
       "<style scoped>\n",
       "    .dataframe tbody tr th:only-of-type {\n",
       "        vertical-align: middle;\n",
       "    }\n",
       "\n",
       "    .dataframe tbody tr th {\n",
       "        vertical-align: top;\n",
       "    }\n",
       "\n",
       "    .dataframe thead th {\n",
       "        text-align: right;\n",
       "    }\n",
       "</style>\n",
       "<table border=\"1\" class=\"dataframe\">\n",
       "  <thead>\n",
       "    <tr style=\"text-align: right;\">\n",
       "      <th></th>\n",
       "      <th>summary</th>\n",
       "      <th>preciptype</th>\n",
       "      <th>dailysummary</th>\n",
       "    </tr>\n",
       "  </thead>\n",
       "  <tbody>\n",
       "    <tr>\n",
       "      <td>count</td>\n",
       "      <td>96453</td>\n",
       "      <td>96453</td>\n",
       "      <td>96453</td>\n",
       "    </tr>\n",
       "    <tr>\n",
       "      <td>unique</td>\n",
       "      <td>27</td>\n",
       "      <td>3</td>\n",
       "      <td>214</td>\n",
       "    </tr>\n",
       "    <tr>\n",
       "      <td>top</td>\n",
       "      <td>Partly Cloudy</td>\n",
       "      <td>rain</td>\n",
       "      <td>Mostly cloudy throughout the day.</td>\n",
       "    </tr>\n",
       "    <tr>\n",
       "      <td>freq</td>\n",
       "      <td>31733</td>\n",
       "      <td>85224</td>\n",
       "      <td>20085</td>\n",
       "    </tr>\n",
       "  </tbody>\n",
       "</table>\n",
       "</div>"
      ],
      "text/plain": [
       "              summary preciptype                       dailysummary\n",
       "count           96453      96453                              96453\n",
       "unique             27          3                                214\n",
       "top     Partly Cloudy       rain  Mostly cloudy throughout the day.\n",
       "freq            31733      85224                              20085"
      ]
     },
     "execution_count": 59,
     "metadata": {},
     "output_type": "execute_result"
    }
   ],
   "source": [
    "df.describe(include=[\"object\"])"
   ]
  },
  {
   "cell_type": "markdown",
   "metadata": {},
   "source": [
    "## Missing values"
   ]
  },
  {
   "cell_type": "code",
   "execution_count": 60,
   "metadata": {},
   "outputs": [
    {
     "data": {
      "text/plain": [
       "date                  0.000\n",
       "summary               0.000\n",
       "preciptype            0.000\n",
       "temperature           0.000\n",
       "apparenttemperature   0.000\n",
       "humidity              0.000\n",
       "windspeed             0.000\n",
       "windbearing           0.000\n",
       "visibility            0.000\n",
       "loudcover             0.000\n",
       "pressure              0.000\n",
       "dailysummary          0.000\n",
       "dtype: float64"
      ]
     },
     "execution_count": 60,
     "metadata": {},
     "output_type": "execute_result"
    }
   ],
   "source": [
    "df.isnull().sum()*100/df.isnull().count()"
   ]
  },
  {
   "cell_type": "markdown",
   "metadata": {},
   "source": [
    "## EDA"
   ]
  },
  {
   "cell_type": "code",
   "execution_count": 61,
   "metadata": {},
   "outputs": [
    {
     "data": {
      "text/plain": [
       "Text(0.5, 1.0, 'The distribution of temperature')"
      ]
     },
     "execution_count": 61,
     "metadata": {},
     "output_type": "execute_result"
    },
    {
     "data": {
      "image/png": "[encoded data removed]",
      "text/plain": [
       "<Figure size 432x288 with 1 Axes>"
      ]
     },
     "metadata": {
      "needs_background": "light"
     },
     "output_type": "display_data"
    }
   ],
   "source": [
    "plt.hist(df[\"temperature\"])\n",
    "\n",
    "plt.xlabel(\"degree\")\n",
    "plt.ylabel(\"number of occurrence\")\n",
    "plt.title(\"The distribution of temperature\")"
   ]
  },
  {
   "cell_type": "code",
   "execution_count": 62,
   "metadata": {},
   "outputs": [
    {
     "data": {
      "text/html": [
       "<div>\n",
       "<style scoped>\n",
       "    .dataframe tbody tr th:only-of-type {\n",
       "        vertical-align: middle;\n",
       "    }\n",
       "\n",
       "    .dataframe tbody tr th {\n",
       "        vertical-align: top;\n",
       "    }\n",
       "\n",
       "    .dataframe thead th {\n",
       "        text-align: right;\n",
       "    }\n",
       "</style>\n",
       "<table border=\"1\" class=\"dataframe\">\n",
       "  <thead>\n",
       "    <tr style=\"text-align: right;\">\n",
       "      <th></th>\n",
       "      <th>temperature</th>\n",
       "      <th>humidity</th>\n",
       "      <th>windspeed</th>\n",
       "      <th>windbearing</th>\n",
       "      <th>pressure</th>\n",
       "    </tr>\n",
       "  </thead>\n",
       "  <tbody>\n",
       "    <tr>\n",
       "      <td>0</td>\n",
       "      <td>9.472</td>\n",
       "      <td>0.890</td>\n",
       "      <td>14.120</td>\n",
       "      <td>251.000</td>\n",
       "      <td>1015.130</td>\n",
       "    </tr>\n",
       "    <tr>\n",
       "      <td>1</td>\n",
       "      <td>9.356</td>\n",
       "      <td>0.860</td>\n",
       "      <td>14.265</td>\n",
       "      <td>259.000</td>\n",
       "      <td>1015.630</td>\n",
       "    </tr>\n",
       "    <tr>\n",
       "      <td>2</td>\n",
       "      <td>9.378</td>\n",
       "      <td>0.890</td>\n",
       "      <td>3.928</td>\n",
       "      <td>204.000</td>\n",
       "      <td>1015.940</td>\n",
       "    </tr>\n",
       "    <tr>\n",
       "      <td>3</td>\n",
       "      <td>8.289</td>\n",
       "      <td>0.830</td>\n",
       "      <td>14.104</td>\n",
       "      <td>269.000</td>\n",
       "      <td>1016.410</td>\n",
       "    </tr>\n",
       "    <tr>\n",
       "      <td>4</td>\n",
       "      <td>8.756</td>\n",
       "      <td>0.830</td>\n",
       "      <td>11.045</td>\n",
       "      <td>259.000</td>\n",
       "      <td>1016.510</td>\n",
       "    </tr>\n",
       "  </tbody>\n",
       "</table>\n",
       "</div>"
      ],
      "text/plain": [
       "   temperature  humidity  windspeed  windbearing  pressure\n",
       "0        9.472     0.890     14.120      251.000  1015.130\n",
       "1        9.356     0.860     14.265      259.000  1015.630\n",
       "2        9.378     0.890      3.928      204.000  1015.940\n",
       "3        8.289     0.830     14.104      269.000  1016.410\n",
       "4        8.756     0.830     11.045      259.000  1016.510"
      ]
     },
     "execution_count": 62,
     "metadata": {},
     "output_type": "execute_result"
    }
   ],
   "source": [
    "df = df[[\"temperature\", \"humidity\", \"windspeed\", \"windbearing\", \"pressure\"]]\n",
    "df.head()"
   ]
  },
  {
   "cell_type": "code",
   "execution_count": 63,
   "metadata": {},
   "outputs": [
    {
     "data": {
      "text/html": [
       "<div>\n",
       "<style scoped>\n",
       "    .dataframe tbody tr th:only-of-type {\n",
       "        vertical-align: middle;\n",
       "    }\n",
       "\n",
       "    .dataframe tbody tr th {\n",
       "        vertical-align: top;\n",
       "    }\n",
       "\n",
       "    .dataframe thead th {\n",
       "        text-align: right;\n",
       "    }\n",
       "</style>\n",
       "<table border=\"1\" class=\"dataframe\">\n",
       "  <thead>\n",
       "    <tr style=\"text-align: right;\">\n",
       "      <th></th>\n",
       "      <th>temperature</th>\n",
       "      <th>humidity</th>\n",
       "      <th>windspeed</th>\n",
       "      <th>windbearing</th>\n",
       "      <th>pressure</th>\n",
       "    </tr>\n",
       "  </thead>\n",
       "  <tbody>\n",
       "    <tr>\n",
       "      <td>temperature</td>\n",
       "      <td>1.000</td>\n",
       "      <td>-0.632</td>\n",
       "      <td>0.009</td>\n",
       "      <td>0.030</td>\n",
       "      <td>-0.005</td>\n",
       "    </tr>\n",
       "    <tr>\n",
       "      <td>humidity</td>\n",
       "      <td>-0.632</td>\n",
       "      <td>1.000</td>\n",
       "      <td>-0.225</td>\n",
       "      <td>0.001</td>\n",
       "      <td>0.005</td>\n",
       "    </tr>\n",
       "    <tr>\n",
       "      <td>windspeed</td>\n",
       "      <td>0.009</td>\n",
       "      <td>-0.225</td>\n",
       "      <td>1.000</td>\n",
       "      <td>0.104</td>\n",
       "      <td>-0.049</td>\n",
       "    </tr>\n",
       "    <tr>\n",
       "      <td>windbearing</td>\n",
       "      <td>0.030</td>\n",
       "      <td>0.001</td>\n",
       "      <td>0.104</td>\n",
       "      <td>1.000</td>\n",
       "      <td>-0.012</td>\n",
       "    </tr>\n",
       "    <tr>\n",
       "      <td>pressure</td>\n",
       "      <td>-0.005</td>\n",
       "      <td>0.005</td>\n",
       "      <td>-0.049</td>\n",
       "      <td>-0.012</td>\n",
       "      <td>1.000</td>\n",
       "    </tr>\n",
       "  </tbody>\n",
       "</table>\n",
       "</div>"
      ],
      "text/plain": [
       "             temperature  humidity  windspeed  windbearing  pressure\n",
       "temperature        1.000    -0.632      0.009        0.030    -0.005\n",
       "humidity          -0.632     1.000     -0.225        0.001     0.005\n",
       "windspeed          0.009    -0.225      1.000        0.104    -0.049\n",
       "windbearing        0.030     0.001      0.104        1.000    -0.012\n",
       "pressure          -0.005     0.005     -0.049       -0.012     1.000"
      ]
     },
     "execution_count": 63,
     "metadata": {},
     "output_type": "execute_result"
    }
   ],
   "source": [
    "df.corr()"
   ]
  },
  {
   "cell_type": "code",
   "execution_count": 64,
   "metadata": {},
   "outputs": [
    {
     "data": {
      "image/png": "[encoded data removed]",
      "text/plain": [
       "<Figure size 432x288 with 2 Axes>"
      ]
     },
     "metadata": {
      "needs_background": "light"
     },
     "output_type": "display_data"
    }
   ],
   "source": [
    "import seaborn as sns\n",
    "\n",
    "sns.heatmap(df.corr(), square=True, annot=True, linewidths=.5)\n",
    "plt.title(\"correlation matrix for features\")\n",
    "plt.show()\n"
   ]
  },
  {
   "cell_type": "markdown",
   "metadata": {},
   "source": [
    "## Build a regression model (estimation the model using OLS)"
   ]
  },
  {
   "cell_type": "code",
   "execution_count": 65,
   "metadata": {},
   "outputs": [
    {
     "name": "stdout",
     "output_type": "stream",
     "text": [
      "\n",
      "Coefficients: \n",
      " [-3.24962454e+01 -2.01413742e-01  4.04836936e-03 -6.91759209e-04]\n",
      "\n",
      "Intercept: \n",
      " 37.92643818528537\n"
     ]
    }
   ],
   "source": [
    "#Y is the target variable\n",
    "Y = df[\"temperature\"]\n",
    "\n",
    "#X is the feature set which includes the following\n",
    "X = df[[\"humidity\", \"windspeed\", \"windbearing\",\"pressure\"]]\n",
    "\n",
    "#We create a LinearRegression model object from scikit-learn's linear model module.\n",
    "lrm = linear_model.LinearRegression()\n",
    "\n",
    "#fit method estimates the coefficients using OLS\n",
    "lrm.fit(X, Y)\n",
    "\n",
    "#Inspect the results\n",
    "\n",
    "print(\"\\nCoefficients: \\n\", lrm.coef_)\n",
    "print(\"\\nIntercept: \\n\", lrm.intercept_)"
   ]
  },
  {
   "cell_type": "markdown",
   "metadata": {},
   "source": [
    "LinearRegression()'s fit() method runs the OLS algorism by default. Since we get the parameters using OLS, we can write our estimated model:\n",
    "\n",
    "Temperature = 37.92 - 32.5Humidity - 0.20 Wind speed +0.004 wind bearing - 0.00069 pressure\n",
    "\n"
   ]
  },
  {
   "cell_type": "code",
   "execution_count": 66,
   "metadata": {},
   "outputs": [
    {
     "data": {
      "text/html": [
       "<table class=\"simpletable\">\n",
       "<caption>OLS Regression Results</caption>\n",
       "<tr>\n",
       "  <th>Dep. Variable:</th>       <td>temperature</td>   <th>  R-squared:         </th>  <td>   0.421</td>  \n",
       "</tr>\n",
       "<tr>\n",
       "  <th>Model:</th>                   <td>OLS</td>       <th>  Adj. R-squared:    </th>  <td>   0.421</td>  \n",
       "</tr>\n",
       "<tr>\n",
       "  <th>Method:</th>             <td>Least Squares</td>  <th>  F-statistic:       </th>  <td>1.750e+04</td> \n",
       "</tr>\n",
       "<tr>\n",
       "  <th>Date:</th>             <td>Sun, 19 Jan 2020</td> <th>  Prob (F-statistic):</th>   <td>  0.00</td>   \n",
       "</tr>\n",
       "<tr>\n",
       "  <th>Time:</th>                 <td>22:10:21</td>     <th>  Log-Likelihood:    </th> <td>-3.2821e+05</td>\n",
       "</tr>\n",
       "<tr>\n",
       "  <th>No. Observations:</th>      <td> 96453</td>      <th>  AIC:               </th>  <td>6.564e+05</td> \n",
       "</tr>\n",
       "<tr>\n",
       "  <th>Df Residuals:</th>          <td> 96448</td>      <th>  BIC:               </th>  <td>6.565e+05</td> \n",
       "</tr>\n",
       "<tr>\n",
       "  <th>Df Model:</th>              <td>     4</td>      <th>                     </th>      <td> </td>     \n",
       "</tr>\n",
       "<tr>\n",
       "  <th>Covariance Type:</th>      <td>nonrobust</td>    <th>                     </th>      <td> </td>     \n",
       "</tr>\n",
       "</table>\n",
       "<table class=\"simpletable\">\n",
       "<tr>\n",
       "       <td></td>          <th>coef</th>     <th>std err</th>      <th>t</th>      <th>P>|t|</th>  <th>[0.025</th>    <th>0.975]</th>  \n",
       "</tr>\n",
       "<tr>\n",
       "  <th>const</th>       <td>   37.9264</td> <td>    0.233</td> <td>  162.709</td> <td> 0.000</td> <td>   37.470</td> <td>   38.383</td>\n",
       "</tr>\n",
       "<tr>\n",
       "  <th>humidity</th>    <td>  -32.4962</td> <td>    0.123</td> <td> -264.288</td> <td> 0.000</td> <td>  -32.737</td> <td>  -32.255</td>\n",
       "</tr>\n",
       "<tr>\n",
       "  <th>windspeed</th>   <td>   -0.2014</td> <td>    0.003</td> <td>  -57.557</td> <td> 0.000</td> <td>   -0.208</td> <td>   -0.195</td>\n",
       "</tr>\n",
       "<tr>\n",
       "  <th>windbearing</th> <td>    0.0040</td> <td>    0.000</td> <td>   18.463</td> <td> 0.000</td> <td>    0.004</td> <td>    0.004</td>\n",
       "</tr>\n",
       "<tr>\n",
       "  <th>pressure</th>    <td>   -0.0007</td> <td>    0.000</td> <td>   -3.452</td> <td> 0.001</td> <td>   -0.001</td> <td>   -0.000</td>\n",
       "</tr>\n",
       "</table>\n",
       "<table class=\"simpletable\">\n",
       "<tr>\n",
       "  <th>Omnibus:</th>       <td>3375.432</td> <th>  Durbin-Watson:     </th> <td>   0.059</td>\n",
       "</tr>\n",
       "<tr>\n",
       "  <th>Prob(Omnibus):</th>  <td> 0.000</td>  <th>  Jarque-Bera (JB):  </th> <td>3793.297</td>\n",
       "</tr>\n",
       "<tr>\n",
       "  <th>Skew:</th>           <td>-0.455</td>  <th>  Prob(JB):          </th> <td>    0.00</td>\n",
       "</tr>\n",
       "<tr>\n",
       "  <th>Kurtosis:</th>       <td> 3.339</td>  <th>  Cond. No.          </th> <td>1.06e+04</td>\n",
       "</tr>\n",
       "</table><br/><br/>Warnings:<br/>[1] Standard Errors assume that the covariance matrix of the errors is correctly specified.<br/>[2] The condition number is large, 1.06e+04. This might indicate that there are<br/>strong multicollinearity or other numerical problems."
      ],
      "text/plain": [
       "<class 'statsmodels.iolib.summary.Summary'>\n",
       "\"\"\"\n",
       "                            OLS Regression Results                            \n",
       "==============================================================================\n",
       "Dep. Variable:            temperature   R-squared:                       0.421\n",
       "Model:                            OLS   Adj. R-squared:                  0.421\n",
       "Method:                 Least Squares   F-statistic:                 1.750e+04\n",
       "Date:                Sun, 19 Jan 2020   Prob (F-statistic):               0.00\n",
       "Time:                        22:10:21   Log-Likelihood:            -3.2821e+05\n",
       "No. Observations:               96453   AIC:                         6.564e+05\n",
       "Df Residuals:                   96448   BIC:                         6.565e+05\n",
       "Df Model:                           4                                         \n",
       "Covariance Type:            nonrobust                                         \n",
       "===============================================================================\n",
       "                  coef    std err          t      P>|t|      [0.025      0.975]\n",
       "-------------------------------------------------------------------------------\n",
       "const          37.9264      0.233    162.709      0.000      37.470      38.383\n",
       "humidity      -32.4962      0.123   -264.288      0.000     -32.737     -32.255\n",
       "windspeed      -0.2014      0.003    -57.557      0.000      -0.208      -0.195\n",
       "windbearing     0.0040      0.000     18.463      0.000       0.004       0.004\n",
       "pressure       -0.0007      0.000     -3.452      0.001      -0.001      -0.000\n",
       "==============================================================================\n",
       "Omnibus:                     3375.432   Durbin-Watson:                   0.059\n",
       "Prob(Omnibus):                  0.000   Jarque-Bera (JB):             3793.297\n",
       "Skew:                          -0.455   Prob(JB):                         0.00\n",
       "Kurtosis:                       3.339   Cond. No.                     1.06e+04\n",
       "==============================================================================\n",
       "\n",
       "Warnings:\n",
       "[1] Standard Errors assume that the covariance matrix of the errors is correctly specified.\n",
       "[2] The condition number is large, 1.06e+04. This might indicate that there are\n",
       "strong multicollinearity or other numerical problems.\n",
       "\"\"\""
      ]
     },
     "execution_count": 66,
     "metadata": {},
     "output_type": "execute_result"
    }
   ],
   "source": [
    "#now we run the same model with statsmodels.\n",
    "\n",
    "import statsmodels.api as sm\n",
    "\n",
    "X = sm.add_constant(X)\n",
    "\n",
    "results = sm.OLS(Y,X).fit()\n",
    "\n",
    "results.summary()"
   ]
  },
  {
   "cell_type": "markdown",
   "metadata": {},
   "source": [
    "## Meeting the assumptions of linear regression"
   ]
  },
  {
   "cell_type": "markdown",
   "metadata": {},
   "source": [
    "### Assumption one: linearity of the model in its coefficients"
   ]
  },
  {
   "cell_type": "code",
   "execution_count": 67,
   "metadata": {},
   "outputs": [
    {
     "name": "stdout",
     "output_type": "stream",
     "text": [
      "\n",
      "Coefficients: \n",
      " [ 5.09233123e-03 -3.51052059e-06]\n",
      "\n",
      "Intercept: \n",
      " 10.685774096616289\n"
     ]
    },
    {
     "data": {
      "image/png": "[encoded data removed]",
      "text/plain": [
       "<Figure size 432x288 with 1 Axes>"
      ]
     },
     "metadata": {
      "needs_background": "light"
     },
     "output_type": "display_data"
    }
   ],
   "source": [
    "df1 = pd.DataFrame()\n",
    "\n",
    "# data from 0 to 999\n",
    "df1[\"X\"] = np.arange(0,1000,1)\n",
    "# we take the square of X\n",
    "df1[\"X_sq\"] = df1[\"X\"]**2\n",
    "\n",
    "# this is our equation: Temperature = 37.92 - 32.5Humidity - 0.20 Wind speed +0.004 wind bearing - 0.00069 pressure\n",
    "df1[\"Y\"] = 37.93 - 32.5*df['humidity'] - 0.21*df['windspeed'] + 0.004 *df['windbearing']  - 0.00069 * df['pressure']\n",
    "\n",
    "# we fit a linear regression where target is Y\n",
    "# and features are X and X^2\n",
    "lrm_example = linear_model.LinearRegression()\n",
    "lrm_example.fit(df1[[\"X\",\"X_sq\"]],df1[\"Y\"])\n",
    "\n",
    "# predictions of the linear regression\n",
    "predictions = lrm_example.predict(df1[[\"X\",\"X_sq\"]])\n",
    "\n",
    "# we print the estimated coefficients\n",
    "print('\\nCoefficients: \\n', lrm_example.coef_)\n",
    "print('\\nIntercept: \\n', lrm_example.intercept_)\n",
    "\n",
    "# we plot the estimated Y and X\n",
    "# the relationship should be quadratic\n",
    "plt.scatter(df1[\"X\"], predictions)\n",
    "plt.xlabel(\"feature\")\n",
    "plt.ylabel(\"target\")\n",
    "plt.title('Linear regression can capture quadratic relationship')\n",
    "plt.show()"
   ]
  },
  {
   "cell_type": "code",
   "execution_count": 68,
   "metadata": {},
   "outputs": [],
   "source": [
    "# NEED TO ASK!!!!!!\n",
    "\n",
    "# df['Y'] = 37.93 - 32.5*df['humidity'] - 0.21*df['windspeed'] + 0.004 *df['windbearing']  - 0.00069 * df['pressure']\n",
    "\n",
    "\n",
    "# lrm_example = linear_model.LinearRegression()\n",
    "# lrm_example.fit(X, df[\"Y\"])\n",
    "\n",
    "# predictions = lrm_example.predict(X)\n",
    "\n",
    "# print('\\nCoefficients: \\n', lrm_example.coef_)\n",
    "# print('\\nIntercept: \\n', lrm_example.intercept_)\n",
    "\n",
    "# plt.scatter(df[\"temperature\"], predictions)\n",
    "# plt.xlabel(\"feature\")\n",
    "# plt.ylabel(\"target\")\n",
    "# plt.title('Linear regression can capture quadratic relationship')\n",
    "# plt.show()\n"
   ]
  },
  {
   "cell_type": "markdown",
   "metadata": {},
   "source": [
    "### Assumption two: the error term should be zero on average"
   ]
  },
  {
   "cell_type": "code",
   "execution_count": 69,
   "metadata": {},
   "outputs": [
    {
     "name": "stdout",
     "output_type": "stream",
     "text": [
      "Mean of the errors in the medical costs model is: -1.9624955657832385e-15\n"
     ]
    }
   ],
   "source": [
    "X = df[[\"humidity\", \"windspeed\", \"windbearing\",\"pressure\"]]\n",
    "Y = df[\"temperature\"]\n",
    "\n",
    "predictions = lrm.predict(X)\n",
    "errors = Y - predictions\n",
    "\n",
    "print(\"Mean of the errors in the medical costs model is: {}\".format(np.mean(errors)))"
   ]
  },
  {
   "cell_type": "markdown",
   "metadata": {},
   "source": [
    "Since, we include the constant term in the model, the average of the model's error is effectively zero."
   ]
  },
  {
   "cell_type": "markdown",
   "metadata": {},
   "source": [
    "### Assumption three: homoscedasticity"
   ]
  },
  {
   "cell_type": "code",
   "execution_count": 73,
   "metadata": {},
   "outputs": [
    {
     "data": {
      "image/png": "[encoded data removed]",
      "text/plain": [
       "<Figure size 432x288 with 1 Axes>"
      ]
     },
     "metadata": {
      "needs_background": "light"
     },
     "output_type": "display_data"
    }
   ],
   "source": [
    "plt.scatter(predictions, errors)\n",
    "plt.xlabel(\"Predicted\")\n",
    "plt.ylabel(\"Residual\")\n",
    "plt.axhline(y=0)\n",
    "plt.title(\"Residual vs Predicted\")\n",
    "plt.show()"
   ]
  },
  {
   "cell_type": "code",
   "execution_count": 74,
   "metadata": {},
   "outputs": [
    {
     "name": "stdout",
     "output_type": "stream",
     "text": [
      "Bartlett test statistic value is 2464.84 and p value is 0\n",
      "Levene test statistic value is 2321.24 and p value is 0\n"
     ]
    }
   ],
   "source": [
    "from scipy.stats import bartlett\n",
    "from scipy.stats import levene\n",
    "\n",
    "bart_stats = bartlett(predictions, errors)\n",
    "lev_stats = levene(predictions, errors)\n",
    "\n",
    "print(\"Bartlett test statistic value is {0:3g} and p value is {1:.3g}\".format(bart_stats[0], bart_stats[1]))\n",
    "print(\"Levene test statistic value is {0:3g} and p value is {1:.3g}\".format(lev_stats[0], lev_stats[1]))"
   ]
  },
  {
   "cell_type": "markdown",
   "metadata": {},
   "source": [
    "The p-values of both tests are lower than 0.05. So, the test results reject the null hypothesis which means our errors are heteroscedastic."
   ]
  },
  {
   "cell_type": "markdown",
   "metadata": {},
   "source": [
    "### Assumption four: low multicollinearity"
   ]
  },
  {
   "cell_type": "code",
   "execution_count": 75,
   "metadata": {},
   "outputs": [
    {
     "data": {
      "text/plain": [
       "Text(0.5, 1, 'Correlation matrix')"
      ]
     },
     "execution_count": 75,
     "metadata": {},
     "output_type": "execute_result"
    },
    {
     "data": {
      "image/png": "[encoded data removed]",
      "text/plain": [
       "<Figure size 432x288 with 2 Axes>"
      ]
     },
     "metadata": {
      "needs_background": "light"
     },
     "output_type": "display_data"
    }
   ],
   "source": [
    "sns.heatmap(df.corr(), annot=True, linewidths = .3, square = True)\n",
    "plt.title(\"Correlation matrix\")"
   ]
  },
  {
   "cell_type": "markdown",
   "metadata": {},
   "source": [
    "### Assumption five: error terms should be uncorrelated with one another"
   ]
  },
  {
   "cell_type": "code",
   "execution_count": 76,
   "metadata": {},
   "outputs": [
    {
     "data": {
      "image/png": "[encoded data removed]",
      "text/plain": [
       "<Figure size 432x288 with 1 Axes>"
      ]
     },
     "metadata": {
      "needs_background": "light"
     },
     "output_type": "display_data"
    }
   ],
   "source": [
    "plt.plot(errors)\n",
    "plt.show()"
   ]
  },
  {
   "cell_type": "code",
   "execution_count": 78,
   "metadata": {},
   "outputs": [
    {
     "data": {
      "image/png": "[encoded data removed]",
      "text/plain": [
       "<Figure size 432x288 with 1 Axes>"
      ]
     },
     "metadata": {
      "needs_background": "light"
     },
     "output_type": "display_data"
    }
   ],
   "source": [
    "from statsmodels.tsa.stattools import acf\n",
    "\n",
    "acf_data = acf(errors)\n",
    "\n",
    "plt.plot(acf_data[1:])\n",
    "plt.show()"
   ]
  },
  {
   "cell_type": "markdown",
   "metadata": {},
   "source": [
    "### Assumption six: features shouldn't be correlated with the errors"
   ]
  },
  {
   "cell_type": "code",
   "execution_count": 79,
   "metadata": {},
   "outputs": [
    {
     "name": "stdout",
     "output_type": "stream",
     "text": [
      "Variable: humidity --- correlation: -0.0000, p-value: 1.0000\n",
      "Variable: windspeed --- correlation: 0.0000, p-value: 1.0000\n",
      "Variable: windbearing --- correlation: 0.0000, p-value: 1.0000\n",
      "Variable: pressure --- correlation: 0.0000, p-value: 1.0000\n"
     ]
    }
   ],
   "source": [
    "from scipy.stats.stats import pearsonr\n",
    "\n",
    "for column in X.columns:\n",
    "    corr_test = pearsonr(X[column], errors)\n",
    "    print(f'Variable: {column} --- correlation: {corr_test[0]:.4f}, p-value: {corr_test[1]:.4f}')"
   ]
  },
  {
   "cell_type": "markdown",
   "metadata": {},
   "source": [
    "### Assumption 7: normality of the errors"
   ]
  },
  {
   "cell_type": "code",
   "execution_count": 80,
   "metadata": {},
   "outputs": [
    {
     "data": {
      "image/png": "[encoded data removed]",
      "text/plain": [
       "<Figure size 864x360 with 2 Axes>"
      ]
     },
     "metadata": {
      "needs_background": "light"
     },
     "output_type": "display_data"
    }
   ],
   "source": [
    "rand_nums = np.random.normal(np.mean(errors), np.std(errors), len(errors))\n",
    "\n",
    "plt.figure(figsize=(12,5))\n",
    "\n",
    "plt.subplot(1,2,1)\n",
    "plt.scatter(np.sort(rand_nums), np.sort(errors)) # we sort the arrays\n",
    "plt.xlabel(\"the normally distributed random variable\")\n",
    "plt.ylabel(\"errors of the model\")\n",
    "plt.title(\"QQ plot\")\n",
    "\n",
    "plt.subplot(1,2,2)\n",
    "plt.hist(errors)\n",
    "plt.xlabel(\"errors\")\n",
    "plt.title(\"Histogram of the errors\")\n",
    "\n",
    "plt.tight_layout()\n",
    "plt.show()"
   ]
  },
  {
   "cell_type": "code",
   "execution_count": 81,
   "metadata": {},
   "outputs": [],
   "source": [
    "from scipy.stats import jarque_bera\n",
    "from scipy.stats import normaltest"
   ]
  },
  {
   "cell_type": "code",
   "execution_count": 82,
   "metadata": {},
   "outputs": [
    {
     "name": "stdout",
     "output_type": "stream",
     "text": [
      "Jarque-Bera test statistics is 3793.296735252356 and p value is 0.0\n",
      "Normality test statistics is 3375.4323076995797 and p value is 0.0\n"
     ]
    }
   ],
   "source": [
    "jb_stats = jarque_bera(errors)\n",
    "norm_stats = normaltest(errors)\n",
    "\n",
    "print(\"Jarque-Bera test statistics is {0} and p value is {1}\".format(jb_stats[0], jb_stats[1]))\n",
    "print(\"Normality test statistics is {0} and p value is {1}\".format(norm_stats[0], norm_stats[1]))"
   ]
  },
  {
   "cell_type": "code",
   "execution_count": null,
   "metadata": {},
   "outputs": [],
   "source": []
  }
 ],
 "metadata": {
  "kernelspec": {
   "display_name": "Python 3",
   "language": "python",
   "name": "python3"
  },
  "language_info": {
   "codemirror_mode": {
    "name": "ipython",
    "version": 3
   },
   "file_extension": ".py",
   "mimetype": "text/x-python",
   "name": "python",
   "nbconvert_exporter": "python",
   "pygments_lexer": "ipython3",
   "version": "3.7.4"
  }
 },
 "nbformat": 4,
 "nbformat_minor": 2
}
