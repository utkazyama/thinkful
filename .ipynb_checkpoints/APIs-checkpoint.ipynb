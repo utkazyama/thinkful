{
 "cells": [
  {
   "cell_type": "code",
   "execution_count": 1,
   "metadata": {},
   "outputs": [],
   "source": [
    "import scrapy\n",
    "from scrapy.crawler import CrawlerProcess\n",
    "import re"
   ]
  },
  {
   "cell_type": "code",
   "execution_count": 2,
   "metadata": {},
   "outputs": [
    {
     "name": "stdout",
     "output_type": "stream",
     "text": [
      "done\n"
     ]
    }
   ],
   "source": [
    "class MLMSpider(scrapy.Spider):\n",
    "    name = \"MLM\"\n",
    "    start_urls=['https://machinelearningmastery.com/category/time-series/']\n",
    "    \n",
    "    def parse(self, response):\n",
    "        for article in response.xpath(\"//article\"):\n",
    "            yield{\n",
    "                \"name\": article.xpath(\"header/h2/a/@title\").extract(),\n",
    "                \"link\": article.xpath(\"header/h2/a/@href\")\n",
    "            }\n",
    "            \n",
    "            next_page = response.xpath(\"//div/a/@class='next page-numbers'\").extract()\n",
    "            \n",
    "            if next_page is not None:\n",
    "                next_page = response.urljoin(next_page)\n",
    "                yield scrapy.Request(next_page, callback=self.parse)\n",
    "                \n",
    "process = CrawlerProcess({\n",
    "    \"FEED_FORMAT\":\"json\",\n",
    "    \"FEED_URI\": \"MLMfirstpage.jason\",\n",
    "    \"LOG_ENABLED\": False\n",
    "})\n",
    "    \n",
    "    \n",
    "process.crawl(MLMSpider)\n",
    "process.start()\n",
    "print(\"done\")"
   ]
  },
  {
   "cell_type": "code",
   "execution_count": 3,
   "metadata": {},
   "outputs": [
    {
     "data": {
      "text/html": [
       "<div>\n",
       "<style scoped>\n",
       "    .dataframe tbody tr th:only-of-type {\n",
       "        vertical-align: middle;\n",
       "    }\n",
       "\n",
       "    .dataframe tbody tr th {\n",
       "        vertical-align: top;\n",
       "    }\n",
       "\n",
       "    .dataframe thead th {\n",
       "        text-align: right;\n",
       "    }\n",
       "</style>\n",
       "<table border=\"1\" class=\"dataframe\">\n",
       "  <thead>\n",
       "    <tr style=\"text-align: right;\">\n",
       "      <th></th>\n",
       "      <th>name</th>\n",
       "      <th>link</th>\n",
       "    </tr>\n",
       "  </thead>\n",
       "  <tbody>\n",
       "    <tr>\n",
       "      <td>0</td>\n",
       "      <td>[How to Model Volatility with ARCH and GARCH f...</td>\n",
       "      <td>[https://machinelearningmastery.com/develop-ar...</td>\n",
       "    </tr>\n",
       "    <tr>\n",
       "      <td>1</td>\n",
       "      <td>[A Gentle Introduction to Exponential Smoothin...</td>\n",
       "      <td>[https://machinelearningmastery.com/exponentia...</td>\n",
       "    </tr>\n",
       "    <tr>\n",
       "      <td>2</td>\n",
       "      <td>[A Gentle Introduction to SARIMA for Time Seri...</td>\n",
       "      <td>[https://machinelearningmastery.com/sarima-for...</td>\n",
       "    </tr>\n",
       "    <tr>\n",
       "      <td>3</td>\n",
       "      <td>[11 Classical Time Series Forecasting Methods ...</td>\n",
       "      <td>[https://machinelearningmastery.com/time-serie...</td>\n",
       "    </tr>\n",
       "    <tr>\n",
       "      <td>4</td>\n",
       "      <td>[A Standard Multivariate, Multi-Step, and Mult...</td>\n",
       "      <td>[https://machinelearningmastery.com/standard-m...</td>\n",
       "    </tr>\n",
       "    <tr>\n",
       "      <td>5</td>\n",
       "      <td>[How to Convert a Time Series to a Supervised ...</td>\n",
       "      <td>[https://machinelearningmastery.com/convert-ti...</td>\n",
       "    </tr>\n",
       "    <tr>\n",
       "      <td>6</td>\n",
       "      <td>[Seasonal Persistence Forecasting With Python]</td>\n",
       "      <td>[https://machinelearningmastery.com/seasonal-p...</td>\n",
       "    </tr>\n",
       "    <tr>\n",
       "      <td>7</td>\n",
       "      <td>[How to Tune ARIMA Parameters in Python]</td>\n",
       "      <td>[https://machinelearningmastery.com/tune-arima...</td>\n",
       "    </tr>\n",
       "    <tr>\n",
       "      <td>8</td>\n",
       "      <td>[Simple Time Series Forecasting Models to Test...</td>\n",
       "      <td>[https://machinelearningmastery.com/simple-tim...</td>\n",
       "    </tr>\n",
       "    <tr>\n",
       "      <td>9</td>\n",
       "      <td>[Feature Selection for Time Series Forecasting...</td>\n",
       "      <td>[https://machinelearningmastery.com/feature-se...</td>\n",
       "    </tr>\n",
       "  </tbody>\n",
       "</table>\n",
       "</div>"
      ],
      "text/plain": [
       "                                                name  \\\n",
       "0  [How to Model Volatility with ARCH and GARCH f...   \n",
       "1  [A Gentle Introduction to Exponential Smoothin...   \n",
       "2  [A Gentle Introduction to SARIMA for Time Seri...   \n",
       "3  [11 Classical Time Series Forecasting Methods ...   \n",
       "4  [A Standard Multivariate, Multi-Step, and Mult...   \n",
       "5  [How to Convert a Time Series to a Supervised ...   \n",
       "6     [Seasonal Persistence Forecasting With Python]   \n",
       "7           [How to Tune ARIMA Parameters in Python]   \n",
       "8  [Simple Time Series Forecasting Models to Test...   \n",
       "9  [Feature Selection for Time Series Forecasting...   \n",
       "\n",
       "                                                link  \n",
       "0  [https://machinelearningmastery.com/develop-ar...  \n",
       "1  [https://machinelearningmastery.com/exponentia...  \n",
       "2  [https://machinelearningmastery.com/sarima-for...  \n",
       "3  [https://machinelearningmastery.com/time-serie...  \n",
       "4  [https://machinelearningmastery.com/standard-m...  \n",
       "5  [https://machinelearningmastery.com/convert-ti...  \n",
       "6  [https://machinelearningmastery.com/seasonal-p...  \n",
       "7  [https://machinelearningmastery.com/tune-arima...  \n",
       "8  [https://machinelearningmastery.com/simple-tim...  \n",
       "9  [https://machinelearningmastery.com/feature-se...  "
      ]
     },
     "execution_count": 3,
     "metadata": {},
     "output_type": "execute_result"
    }
   ],
   "source": [
    "import pandas as pd\n",
    "pd.read_json(\"MLMfirstpage.json\", orient=\"records\")"
   ]
  },
  {
   "cell_type": "code",
   "execution_count": null,
   "metadata": {},
   "outputs": [],
   "source": []
  }
 ],
 "metadata": {
  "kernelspec": {
   "display_name": "Python 3",
   "language": "python",
   "name": "python3"
  },
  "language_info": {
   "codemirror_mode": {
    "name": "ipython",
    "version": 3
   },
   "file_extension": ".py",
   "mimetype": "text/x-python",
   "name": "python",
   "nbconvert_exporter": "python",
   "pygments_lexer": "ipython3",
   "version": "3.7.4"
  }
 },
 "nbformat": 4,
 "nbformat_minor": 2
}
