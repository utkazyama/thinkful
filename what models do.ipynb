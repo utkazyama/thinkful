{
 "cells": [
  {
   "cell_type": "markdown",
   "metadata": {},
   "source": [
    "# 1. Try to model the result of a coin toss. In your model, include any features that you think important in explaining the result. Discuss with your mentor about the pros and cons of adding too many features into your model."
   ]
  },
  {
   "cell_type": "markdown",
   "metadata": {},
   "source": [
    "We should include the factors that affect the result of a coin toss. Here, we assume that coin is fair.\n",
    "\n",
    "1. The angle between the horizontal surface and the coin\n",
    "2. The force applied to the coin\n",
    "3. The weight of the coin\n",
    "4. The horizontal distance between the place the coin is tossed and the place it should fall into\n",
    "5. The frictions of the hand skin and the air\n",
    "6. And there are many others...\n",
    "\n",
    "Too many features force us to collect more experiment trials. Because we need to determine the values for each factors and the more factors we have the more unknowns to determine. So, we may want to include only the most relevant factors into the model."
   ]
  },
  {
   "cell_type": "markdown",
   "metadata": {},
   "source": [
    "# 2. If you ever used Netflix, you should already have realized that it provides some recommendations for you to watch. In data science, this is an example of the so-called recommendations systems. Read this nontechnical blog post of Netflix about how they model their recommendations systems. Then, derive the features they use in their recommendations engines and discuss what else can be incorporated into this model."
   ]
  },
  {
   "cell_type": "code",
   "execution_count": null,
   "metadata": {},
   "outputs": [],
   "source": [
    "According to the article, Netflix feed the following information to its recommendation systems:\n",
    "    - person's interactions with Netflix's service (such as the viewing history and how that person rated other titles)\n",
    "    - other members with similar tastes and preferences on Netflix service\n",
    "    - information about the titles, such as their genre, categories, actors, release year etc\n",
    "    - the time of day the person watch\n",
    "    - the devices the person is watching Netflix on\n",
    "    - how long the person watch\n",
    "\n",
    "Interestingly, they say that they don't feed in the demographic factors. This may be due to eliminate the gender bias in their algorithms.\n",
    "\n",
    "Additional features that might be "
   ]
  }
 ],
 "metadata": {
  "kernelspec": {
   "display_name": "Python 3",
   "language": "python",
   "name": "python3"
  },
  "language_info": {
   "codemirror_mode": {
    "name": "ipython",
    "version": 3
   },
   "file_extension": ".py",
   "mimetype": "text/x-python",
   "name": "python",
   "nbconvert_exporter": "python",
   "pygments_lexer": "ipython3",
   "version": "3.7.4"
  }
 },
 "nbformat": 4,
 "nbformat_minor": 2
}
