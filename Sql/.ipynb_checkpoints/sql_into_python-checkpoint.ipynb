{
 "cells": [
  {
   "cell_type": "code",
   "execution_count": 1,
   "metadata": {},
   "outputs": [],
   "source": [
    "from sqlalchemy import create_engine"
   ]
  },
  {
   "cell_type": "code",
   "execution_count": 2,
   "metadata": {},
   "outputs": [],
   "source": [
    "postgres_user = 'dsbc_student'\n",
    "postgres_pw = '7*.8G9QH21'\n",
    "postgres_host = '142.93.121.174'\n",
    "postgres_port = '5432'\n",
    "postgres_db = 'dvdrentals'"
   ]
  },
  {
   "cell_type": "code",
   "execution_count": 3,
   "metadata": {},
   "outputs": [],
   "source": [
    "engine = create_engine('postgresql://{}:{}@{}:{}/{}'.format(postgres_user, postgres_pw, postgres_host, postgres_port, postgres_db))"
   ]
  },
  {
   "cell_type": "code",
   "execution_count": 14,
   "metadata": {},
   "outputs": [
    {
     "name": "stdout",
     "output_type": "stream",
     "text": [
      "(1, 'ACADEMY DINOSAUR', 'A Epic Drama of a Feminist And a Mad Scientist who must Battle a Teacher in The Canadian Rockies', 2006, 1, None, 6, Decimal('0.99'), 86, Decimal('20.99'), 'PG', datetime.datetime(2007, 9, 10, 17, 46, 3, 905795), ['Deleted Scenes', 'Behind the Scenes'], \"'academi':1 'battl':15 'canadian':20 'dinosaur':2 'drama':5 'epic':4 'feminist':8 'mad':11 'must':14 'rocki':21 'scientist':12 'teacher':17\")\n",
      "(2, 'ACE GOLDFINGER', 'A Astounding Epistle of a Database Administrator And a Explorer who must Find a Car in Ancient China', 2006, 1, None, 3, Decimal('4.99'), 48, Decimal('12.99'), 'G', datetime.datetime(2007, 9, 10, 17, 46, 3, 905795), ['Trailers', 'Deleted Scenes'], \"'ace':1 'administr':9 'ancient':19 'astound':4 'car':17 'china':20 'databas':8 'epistl':5 'explor':12 'find':15 'goldfing':2 'must':14\")\n",
      "(3, 'ADAPTATION HOLES', 'A Astounding Reflection of a Lumberjack And a Car who must Sink a Lumberjack in A Baloon Factory', 2006, 1, None, 7, Decimal('2.99'), 50, Decimal('18.99'), 'NC-17', datetime.datetime(2007, 9, 10, 17, 46, 3, 905795), ['Trailers', 'Deleted Scenes'], \"'adapt':1 'astound':4 'baloon':19 'car':11 'factori':20 'hole':2 'lumberjack':8,16 'must':13 'reflect':5 'sink':14\")\n",
      "(4, 'AFFAIR PREJUDICE', 'A Fanciful Documentary of a Frisbee And a Lumberjack who must Chase a Monkey in A Shark Tank', 2006, 1, None, 5, Decimal('2.99'), 117, Decimal('26.99'), 'G', datetime.datetime(2007, 9, 10, 17, 46, 3, 905795), ['Commentaries', 'Behind the Scenes'], \"'affair':1 'chase':14 'documentari':5 'fanci':4 'frisbe':8 'lumberjack':11 'monkey':16 'must':13 'prejudic':2 'shark':19 'tank':20\")\n",
      "(5, 'AFRICAN EGG', 'A Fast-Paced Documentary of a Pastry Chef And a Dentist who must Pursue a Forensic Psychologist in The Gulf of Mexico', 2006, 1, None, 6, Decimal('2.99'), 130, Decimal('22.99'), 'G', datetime.datetime(2007, 9, 10, 17, 46, 3, 905795), ['Deleted Scenes'], \"'african':1 'chef':11 'dentist':14 'documentari':7 'egg':2 'fast':5 'fast-pac':4 'forens':19 'gulf':23 'mexico':25 'must':16 'pace':6 'pastri':10 'psychologist':20 'pursu':17\")\n",
      "(6, 'AGENT TRUMAN', 'A Intrepid Panorama of a Robot And a Boy who must Escape a Sumo Wrestler in Ancient China', 2006, 1, None, 3, Decimal('2.99'), 169, Decimal('17.99'), 'PG', datetime.datetime(2007, 9, 10, 17, 46, 3, 905795), ['Deleted Scenes'], \"'agent':1 'ancient':19 'boy':11 'china':20 'escap':14 'intrepid':4 'must':13 'panorama':5 'robot':8 'sumo':16 'truman':2 'wrestler':17\")\n",
      "(7, 'AIRPLANE SIERRA', 'A Touching Saga of a Hunter And a Butler who must Discover a Butler in A Jet Boat', 2006, 1, None, 6, Decimal('4.99'), 62, Decimal('28.99'), 'PG-13', datetime.datetime(2007, 9, 10, 17, 46, 3, 905795), ['Trailers', 'Deleted Scenes'], \"'airplan':1 'boat':20 'butler':11,16 'discov':14 'hunter':8 'jet':19 'must':13 'saga':5 'sierra':2 'touch':4\")\n",
      "(8, 'AIRPORT POLLOCK', 'A Epic Tale of a Moose And a Girl who must Confront a Monkey in Ancient India', 2006, 1, None, 6, Decimal('4.99'), 54, Decimal('15.99'), 'R', datetime.datetime(2007, 9, 10, 17, 46, 3, 905795), ['Trailers'], \"'airport':1 'ancient':18 'confront':14 'epic':4 'girl':11 'india':19 'monkey':16 'moos':8 'must':13 'pollock':2 'tale':5\")\n",
      "(9, 'ALABAMA DEVIL', 'A Thoughtful Panorama of a Database Administrator And a Mad Scientist who must Outgun a Mad Scientist in A Jet Boat', 2006, 1, None, 3, Decimal('2.99'), 114, Decimal('21.99'), 'PG-13', datetime.datetime(2007, 9, 10, 17, 46, 3, 905795), ['Trailers', 'Deleted Scenes'], \"'administr':9 'alabama':1 'boat':23 'databas':8 'devil':2 'jet':22 'mad':12,18 'must':15 'outgun':16 'panorama':5 'scientist':13,19 'thought':4\")\n",
      "(10, 'ALADDIN CALENDAR', 'A Action-Packed Tale of a Man And a Lumberjack who must Reach a Feminist in Ancient China', 2006, 1, None, 6, Decimal('4.99'), 63, Decimal('24.99'), 'NC-17', datetime.datetime(2007, 9, 10, 17, 46, 3, 905795), ['Trailers', 'Deleted Scenes'], \"'action':5 'action-pack':4 'aladdin':1 'ancient':20 'calendar':2 'china':21 'feminist':18 'lumberjack':13 'man':10 'must':15 'pack':6 'reach':16 'tale':7\")\n"
     ]
    },
    {
     "data": {
      "text/plain": [
       "['film_id',\n",
       " 'title',\n",
       " 'description',\n",
       " 'release_year',\n",
       " 'language_id',\n",
       " 'original_language_id',\n",
       " 'rental_duration',\n",
       " 'rental_rate',\n",
       " 'length',\n",
       " 'replacement_cost',\n",
       " 'rating',\n",
       " 'last_update',\n",
       " 'special_features',\n",
       " 'fulltext']"
      ]
     },
     "execution_count": 14,
     "metadata": {},
     "output_type": "execute_result"
    }
   ],
   "source": [
    "films = engine.execute('select * from film limit 10')\n",
    "engine.dispose()\n",
    "for row in films:\n",
    "        print(row)\n",
    "        \n",
    "films.keys()"
   ]
  },
  {
   "cell_type": "code",
   "execution_count": 13,
   "metadata": {},
   "outputs": [
    {
     "name": "stdout",
     "output_type": "stream",
     "text": [
      "('G', 178)\n",
      "('PG', 194)\n",
      "('PG-13', 223)\n",
      "('R', 195)\n",
      "('NC-17', 210)\n"
     ]
    }
   ],
   "source": [
    "sql = '''\n",
    "select\n",
    "    distinct rating, count (*)\n",
    "from \n",
    "    film\n",
    "group by rating'''\n",
    "\n",
    "rating_count = engine.execute(sql)\n",
    "engine.dispose()\n",
    "\n",
    "for row in rating_count:\n",
    "        print(row)"
   ]
  },
  {
   "cell_type": "code",
   "execution_count": 21,
   "metadata": {},
   "outputs": [
    {
     "name": "stdout",
     "output_type": "stream",
     "text": [
      "('G', Decimal('4.84'))\n",
      "('PG', Decimal('5.08'))\n",
      "('PG-13', Decimal('5.05'))\n",
      "('R', Decimal('4.77'))\n",
      "('NC-17', Decimal('5.14'))\n"
     ]
    }
   ],
   "source": [
    "sql = '''\n",
    "select\n",
    "    distinct rating, round(avg(rental_duration), 2)\n",
    "from \n",
    "    film\n",
    "group by rating'''\n",
    "\n",
    "ave_duration = engine.execute(sql)\n",
    "engine.dispose()\n",
    "\n",
    "for row in ave_duration:\n",
    "        print(row)"
   ]
  },
  {
   "cell_type": "code",
   "execution_count": 25,
   "metadata": {},
   "outputs": [],
   "source": [
    "def mean(numbers):\n",
    "    total_sum=0;\n",
    "    for n in numbers:\n",
    "        total_sum += n\n",
    "    count = len(numbers)\n",
    "    avg = total_sum / count\n",
    "    return avg"
   ]
  },
  {
   "cell_type": "code",
   "execution_count": 26,
   "metadata": {},
   "outputs": [
    {
     "name": "stdout",
     "output_type": "stream",
     "text": [
      "[86, 48, 50, 117, 130, 169, 62, 54, 114, 63, 126, 136, 104, 150, 94, 46, 180, 82, 57, 113, 79, 129, 85, 92, 181, 74, 86, 179, 91, 168, 82, 92, 119, 153, 62, 147, 127, 121, 68, 99, 148, 137, 170, 170, 113, 83, 108, 153, 118, 162, 182, 75, 173, 87, 113, 65, 129, 90, 122, 160, 89, 175, 106, 73, 151, 100, 53, 77, 122, 85, 142, 100, 93, 150, 162, 163, 103, 61, 85, 114, 148, 103, 71, 50, 102, 63, 121, 76, 179, 63, 63, 98, 72, 121, 176, 123, 169, 56, 73, 136, 161, 73, 60, 133, 119, 125, 61, 63, 67, 89, 53, 52, 120, 75, 61, 167, 70, 135, 85, 176, 92, 151, 114, 85, 163, 61, 179, 112, 183, 179, 110, 152, 114, 117, 51, 70, 146, 66, 71, 114, 87, 185, 122, 142, 61, 124, 107, 101, 132, 150, 101, 143, 90, 165, 81, 150, 164, 143, 124, 58, 65, 70, 95, 139, 55, 70, 149, 109, 67, 76, 120, 59, 112, 65, 180, 122, 87, 172, 115, 173, 184, 166, 185, 112, 92, 146, 64, 57, 136, 139, 172, 143, 50, 153, 104, 112, 69, 112, 184, 56, 133, 176, 161, 84, 106, 58, 144, 121, 89, 99, 130, 165, 185, 59, 57, 113, 120, 122, 51, 106, 100, 64, 76, 81, 76, 56, 88, 143, 87, 107, 63, 147, 141, 94, 68, 100, 47, 57, 122, 120, 125, 68, 49, 139, 177, 154, 47, 177, 176, 170, 133, 135, 61, 159, 175, 178, 110, 96, 116, 132, 171, 119, 154, 101, 168, 141, 140, 96, 98, 85, 148, 153, 107, 67, 85, 115, 126, 155, 152, 177, 143, 92, 85, 77, 51, 158, 176, 167, 66, 163, 174, 51, 167, 138, 97, 178, 122, 172, 144, 102, 155, 131, 58, 130, 91, 104, 77, 142, 98, 158, 72, 75, 118, 91, 156, 173, 148, 103, 125, 80, 123, 100, 179, 148, 145, 69, 158, 131, 63, 112, 90, 159, 126, 65, 133, 99, 73, 51, 111, 183, 82, 83, 94, 178, 161, 128, 119, 86, 185, 80, 106, 176, 125, 85, 101, 102, 114, 163, 173, 103, 89, 115, 54, 73, 154, 93, 153, 84, 56, 108, 129, 140, 156, 117, 85, 155, 135, 93, 166, 176, 150, 137, 111, 49, 139, 53, 100, 70, 127, 84, 146, 51, 47, 146, 108, 62, 107, 47, 100, 72, 168, 52, 121, 107, 76, 181, 47, 69, 59, 48, 49, 102, 169, 75, 84, 110, 93, 157, 141, 128, 78, 136, 69, 149, 88, 185, 103, 141, 84, 49, 176, 139, 95, 139, 181, 122, 109, 68, 151, 105, 125, 65, 49, 83, 100, 150, 131, 172, 119, 84, 160, 122, 178, 180, 103, 167, 157, 135, 74, 178, 123, 78, 116, 107, 59, 63, 181, 97, 46, 79, 84, 174, 181, 174, 135, 130, 118, 112, 128, 84, 58, 102, 171, 172, 60, 59, 124, 105, 54, 121, 74, 134, 92, 120, 169, 179, 54, 161, 184, 163, 141, 71, 171, 46, 46, 67, 113, 144, 78, 181, 175, 110, 153, 69, 113, 59, 167, 140, 138, 91, 147, 137, 174, 50, 140, 120, 85, 155, 67, 108, 137, 80, 98, 70, 181, 65, 75, 162, 152, 97, 74, 52, 116, 147, 178, 98, 117, 53, 171, 74, 138, 130, 136, 159, 133, 127, 177, 71, 114, 62, 123, 151, 165, 161, 56, 72, 80, 77, 147, 104, 161, 64, 105, 86, 48, 122, 64, 142, 149, 166, 59, 162, 164, 180, 105, 60, 77, 175, 74, 135, 182, 107, 158, 126, 83, 171, 184, 57, 103, 166, 79, 146, 53, 160, 157, 160, 50, 166, 185, 129, 73, 180, 92, 178, 180, 92, 50, 132, 161, 131, 75, 159, 75, 149, 83, 57, 67, 172, 128, 48, 64, 145, 54, 48, 58, 161, 131, 156, 92, 102, 76, 120, 118, 115, 118, 169, 129, 148, 85, 144, 84, 126, 102, 93, 109, 128, 48, 121, 109, 107, 157, 118, 99, 65, 175, 145, 160, 80, 74, 48, 99, 82, 118, 99, 60, 137, 136, 77, 50, 103, 100, 134, 60, 173, 132, 84, 138, 61, 137, 185, 159, 179, 115, 98, 144, 114, 53, 71, 106, 115, 155, 89, 100, 121, 88, 163, 177, 112, 147, 120, 154, 82, 74, 73, 147, 136, 97, 73, 182, 179, 182, 123, 82, 110, 167, 61, 117, 63, 177, 46, 153, 58, 149, 158, 102, 134, 102, 178, 145, 153, 81, 101, 60, 89, 162, 118, 171, 109, 153, 145, 181, 101, 48, 150, 99, 80, 106, 125, 73, 110, 154, 154, 75, 150, 182, 84, 183, 102, 151, 147, 104, 137, 80, 112, 182, 110, 90, 158, 109, 54, 98, 127, 60, 93, 47, 80, 113, 125, 79, 67, 167, 154, 139, 52, 111, 135, 67, 74, 51, 126, 152, 132, 179, 129, 64, 137, 87, 84, 156, 147, 60, 50, 184, 110, 74, 62, 185, 180, 165, 184, 184, 169, 143, 52, 165, 124, 141, 79, 138, 149, 138, 175, 134, 151, 112, 136, 85, 112, 130, 75, 181, 113, 143, 140, 48, 93, 160, 94, 57, 163, 151, 103, 139, 119, 132, 73, 144, 127, 114, 93, 111, 53, 141, 92, 135, 48, 58, 114, 47, 123, 176, 185, 108, 155, 173, 91, 64, 74, 148, 152, 71, 99, 53, 88, 179, 184, 135, 53, 111, 172, 69, 104, 91, 68, 142, 157, 179, 152, 144, 136, 142, 170, 139, 71, 132, 171, 168, 110, 102, 87, 64, 52, 115, 61, 92, 80, 152, 152, 82, 62, 172, 107, 78, 129, 164, 120, 174, 84, 128, 145, 48, 73, 126, 122, 142, 123, 85, 173, 90, 64, 145, 174, 76, 179, 164, 144, 59, 139, 157, 132, 78, 152, 112, 73, 135, 107, 80, 178, 83, 128, 161, 85, 78, 61, 112, 70, 134, 79, 159, 52, 109, 59, 183, 181, 137, 111, 85, 98, 100, 75, 55, 126, 105, 126, 111, 85, 116, 139, 74, 171, 185, 176, 178, 100, 86, 183, 179, 105, 101, 50]\n"
     ]
    }
   ],
   "source": [
    "sql = '''\n",
    "select\n",
    "    length\n",
    "from\n",
    "    film\n",
    "'''\n",
    "\n",
    "length = engine.execute(sql)\n",
    "engine.dispose()\n",
    "\n",
    "rows = length.fetchall()\n",
    "\n",
    "length = [x['length'] for x in rows]\n",
    "print(length)"
   ]
  },
  {
   "cell_type": "code",
   "execution_count": 27,
   "metadata": {},
   "outputs": [
    {
     "name": "stdout",
     "output_type": "stream",
     "text": [
      "The mean of the movie length is 115.272\n"
     ]
    }
   ],
   "source": [
    "print('The mean of the movie length is {}'.format(mean(length)))"
   ]
  },
  {
   "cell_type": "code",
   "execution_count": 28,
   "metadata": {},
   "outputs": [
    {
     "name": "stdout",
     "output_type": "stream",
     "text": [
      "[46, 46, 46, 46, 46, 47, 47, 47, 47, 47, 47, 47, 48, 48, 48, 48, 48, 48, 48, 48, 48, 48, 48, 49, 49, 49, 49, 49, 50, 50, 50, 50, 50, 50, 50, 50, 50, 51, 51, 51, 51, 51, 51, 51, 52, 52, 52, 52, 52, 52, 52, 53, 53, 53, 53, 53, 53, 53, 53, 53, 54, 54, 54, 54, 54, 54, 55, 55, 56, 56, 56, 56, 56, 57, 57, 57, 57, 57, 57, 57, 58, 58, 58, 58, 58, 58, 58, 59, 59, 59, 59, 59, 59, 59, 59, 59, 60, 60, 60, 60, 60, 60, 60, 60, 61, 61, 61, 61, 61, 61, 61, 61, 61, 61, 62, 62, 62, 62, 62, 62, 63, 63, 63, 63, 63, 63, 63, 63, 63, 64, 64, 64, 64, 64, 64, 64, 64, 64, 65, 65, 65, 65, 65, 65, 65, 66, 66, 67, 67, 67, 67, 67, 67, 67, 67, 68, 68, 68, 68, 68, 69, 69, 69, 69, 69, 69, 70, 70, 70, 70, 70, 70, 70, 71, 71, 71, 71, 71, 71, 71, 72, 72, 72, 72, 73, 73, 73, 73, 73, 73, 73, 73, 73, 73, 73, 73, 74, 74, 74, 74, 74, 74, 74, 74, 74, 74, 74, 74, 75, 75, 75, 75, 75, 75, 75, 75, 75, 75, 76, 76, 76, 76, 76, 76, 76, 77, 77, 77, 77, 77, 77, 78, 78, 78, 78, 78, 78, 79, 79, 79, 79, 79, 79, 80, 80, 80, 80, 80, 80, 80, 80, 80, 80, 81, 81, 81, 82, 82, 82, 82, 82, 82, 82, 83, 83, 83, 83, 83, 83, 84, 84, 84, 84, 84, 84, 84, 84, 84, 84, 84, 84, 84, 85, 85, 85, 85, 85, 85, 85, 85, 85, 85, 85, 85, 85, 85, 85, 85, 85, 86, 86, 86, 86, 86, 87, 87, 87, 87, 87, 87, 88, 88, 88, 88, 89, 89, 89, 89, 89, 89, 90, 90, 90, 90, 90, 91, 91, 91, 91, 91, 91, 92, 92, 92, 92, 92, 92, 92, 92, 92, 92, 92, 93, 93, 93, 93, 93, 93, 93, 93, 94, 94, 94, 94, 95, 95, 96, 96, 97, 97, 97, 97, 98, 98, 98, 98, 98, 98, 98, 98, 99, 99, 99, 99, 99, 99, 99, 99, 100, 100, 100, 100, 100, 100, 100, 100, 100, 100, 100, 100, 101, 101, 101, 101, 101, 101, 101, 102, 102, 102, 102, 102, 102, 102, 102, 102, 102, 102, 103, 103, 103, 103, 103, 103, 103, 103, 103, 104, 104, 104, 104, 104, 104, 105, 105, 105, 105, 105, 105, 106, 106, 106, 106, 106, 106, 107, 107, 107, 107, 107, 107, 107, 107, 107, 107, 108, 108, 108, 108, 108, 109, 109, 109, 109, 109, 109, 109, 110, 110, 110, 110, 110, 110, 110, 110, 110, 111, 111, 111, 111, 111, 111, 111, 112, 112, 112, 112, 112, 112, 112, 112, 112, 112, 112, 112, 112, 113, 113, 113, 113, 113, 113, 113, 113, 114, 114, 114, 114, 114, 114, 114, 114, 114, 114, 115, 115, 115, 115, 115, 115, 115, 116, 116, 116, 116, 117, 117, 117, 117, 117, 118, 118, 118, 118, 118, 118, 118, 118, 119, 119, 119, 119, 119, 119, 120, 120, 120, 120, 120, 120, 120, 120, 120, 121, 121, 121, 121, 121, 121, 121, 121, 122, 122, 122, 122, 122, 122, 122, 122, 122, 122, 122, 123, 123, 123, 123, 123, 123, 123, 124, 124, 124, 124, 125, 125, 125, 125, 125, 125, 125, 126, 126, 126, 126, 126, 126, 126, 126, 126, 127, 127, 127, 127, 127, 128, 128, 128, 128, 128, 128, 128, 129, 129, 129, 129, 129, 129, 129, 130, 130, 130, 130, 130, 130, 131, 131, 131, 131, 131, 132, 132, 132, 132, 132, 132, 132, 132, 133, 133, 133, 133, 133, 134, 134, 134, 134, 134, 135, 135, 135, 135, 135, 135, 135, 135, 135, 135, 136, 136, 136, 136, 136, 136, 136, 136, 136, 137, 137, 137, 137, 137, 137, 137, 137, 137, 138, 138, 138, 138, 138, 138, 139, 139, 139, 139, 139, 139, 139, 139, 139, 139, 139, 140, 140, 140, 140, 140, 141, 141, 141, 141, 141, 141, 141, 142, 142, 142, 142, 142, 142, 142, 143, 143, 143, 143, 143, 143, 143, 144, 144, 144, 144, 144, 144, 144, 144, 145, 145, 145, 145, 145, 145, 145, 146, 146, 146, 146, 146, 147, 147, 147, 147, 147, 147, 147, 147, 147, 148, 148, 148, 148, 148, 148, 148, 149, 149, 149, 149, 149, 149, 150, 150, 150, 150, 150, 150, 150, 150, 151, 151, 151, 151, 151, 151, 151, 152, 152, 152, 152, 152, 152, 152, 152, 152, 153, 153, 153, 153, 153, 153, 153, 153, 153, 154, 154, 154, 154, 154, 154, 154, 155, 155, 155, 155, 155, 155, 156, 156, 156, 156, 157, 157, 157, 157, 157, 157, 158, 158, 158, 158, 158, 158, 159, 159, 159, 159, 159, 159, 160, 160, 160, 160, 160, 160, 161, 161, 161, 161, 161, 161, 161, 161, 161, 162, 162, 162, 162, 162, 163, 163, 163, 163, 163, 163, 163, 164, 164, 164, 164, 165, 165, 165, 165, 165, 166, 166, 166, 166, 166, 167, 167, 167, 167, 167, 167, 167, 168, 168, 168, 168, 169, 169, 169, 169, 169, 169, 170, 170, 170, 170, 171, 171, 171, 171, 171, 171, 171, 171, 172, 172, 172, 172, 172, 172, 172, 172, 173, 173, 173, 173, 173, 173, 173, 174, 174, 174, 174, 174, 174, 175, 175, 175, 175, 175, 175, 176, 176, 176, 176, 176, 176, 176, 176, 176, 176, 177, 177, 177, 177, 177, 177, 178, 178, 178, 178, 178, 178, 178, 178, 178, 178, 179, 179, 179, 179, 179, 179, 179, 179, 179, 179, 179, 179, 179, 180, 180, 180, 180, 180, 180, 180, 181, 181, 181, 181, 181, 181, 181, 181, 181, 181, 182, 182, 182, 182, 182, 182, 183, 183, 183, 183, 183, 184, 184, 184, 184, 184, 184, 184, 184, 185, 185, 185, 185, 185, 185, 185, 185, 185, 185]\n"
     ]
    }
   ],
   "source": [
    "length.sort()\n",
    "print(length)"
   ]
  },
  {
   "cell_type": "code",
   "execution_count": 31,
   "metadata": {},
   "outputs": [],
   "source": [
    "import math\n",
    "\n",
    "def median(numbers):\n",
    "    numbers.sort()\n",
    "    count = len(numbers)\n",
    "    isEven = count % 2 == 0\n",
    "    \n",
    "    if (isEven):\n",
    "        mid = math.floor(count/2)\n",
    "        a = numbers[mid]\n",
    "        b = numbers[mid + 1]\n",
    "        ans = (a+b)/2\n",
    "    else:\n",
    "        ans = numbers[math.floor(count/2)]\n",
    "    \n",
    "    return ans"
   ]
  },
  {
   "cell_type": "code",
   "execution_count": 32,
   "metadata": {},
   "outputs": [
    {
     "name": "stdout",
     "output_type": "stream",
     "text": [
      "The median of the length is 114.0\n"
     ]
    }
   ],
   "source": [
    "print('The median of the length is {}'.format(median(length)))"
   ]
  },
  {
   "cell_type": "code",
   "execution_count": 33,
   "metadata": {},
   "outputs": [],
   "source": [
    "def standard_deviation(numbers):\n",
    "    X_bar = mean(numbers)\n",
    "    N = len(numbers)\n",
    "    total_sum = 0\n",
    "    for X in numbers:\n",
    "        diff = X - X_bar\n",
    "        squared = math.pow(diff, 2)\n",
    "        total_sum += squared\n",
    "    sigma = math.sqrt(total_sum/(N -1))\n",
    "    return sigma"
   ]
  },
  {
   "cell_type": "code",
   "execution_count": 34,
   "metadata": {},
   "outputs": [
    {
     "name": "stdout",
     "output_type": "stream",
     "text": [
      "The standard deviation of the length is 40.42633181855988\n"
     ]
    }
   ],
   "source": [
    "print ('The standard deviation of the length is {}'.format(standard_deviation(length)))"
   ]
  },
  {
   "cell_type": "code",
   "execution_count": null,
   "metadata": {},
   "outputs": [],
   "source": []
  }
 ],
 "metadata": {
  "kernelspec": {
   "display_name": "Python 3",
   "language": "python",
   "name": "python3"
  },
  "language_info": {
   "codemirror_mode": {
    "name": "ipython",
    "version": 3
   },
   "file_extension": ".py",
   "mimetype": "text/x-python",
   "name": "python",
   "nbconvert_exporter": "python",
   "pygments_lexer": "ipython3",
   "version": "3.7.4"
  }
 },
 "nbformat": 4,
 "nbformat_minor": 2
}
