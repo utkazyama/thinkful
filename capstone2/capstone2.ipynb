{
 "cells": [
  {
   "cell_type": "markdown",
   "metadata": {},
   "source": [
    "### About"
   ]
  },
  {
   "cell_type": "markdown",
   "metadata": {},
   "source": [
    "1. First, dive in and explore the data set. Include your code and visuals from this process in your final write up. While doing this, look for something that provokes a question; specifically one that can be answered with an experiment.\n",
    "\n",
    "\n",
    "2. The main component of this capstone is a research proposal. Using the data set you selected, propose and outline an experiment plan. The plan should consist of three key components:\n",
    "\n",
    "    2-1. Analysis that highlights your experimental hypothesis.\n",
    "    \n",
    "    2-2. A rollout plan showing how you would implement and rollout the experiment\n",
    "   \n",
    "    2-3. An evaluation plan showing what constitutes success in this experiment"
   ]
  },
  {
   "cell_type": "markdown",
   "metadata": {},
   "source": [
    "### 1. First, dive in and explore the data set. Include your code and visuals from this process in your final write up. While doing this, look for something that provokes a question; specifically one that can be answered with an experiment."
   ]
  },
  {
   "cell_type": "markdown",
   "metadata": {},
   "source": [
    "In this project, I will use the dataset originally published by \"The Ramen Rater\", and released on Kaggle. The Ramen Rater is a product review website for the hardcore ramen enthusiast (or \"ramenphile\"), with over 2500 reviews to date. It contains a review id, brand, variety(the product name), style(cup, bowl, or tray?), country, and stars. Stars indicate the ramen quality assessed by the reviewer on 5 point scale. "
   ]
  },
  {
   "cell_type": "code",
   "execution_count": 1,
   "metadata": {},
   "outputs": [],
   "source": [
    "import pandas as pd\n",
    "import numpy as np\n",
    "import matplotlib.pyplot as plt\n",
    "import seaborn as sns\n",
    "%matplotlib inline"
   ]
  },
  {
   "cell_type": "code",
   "execution_count": 2,
   "metadata": {},
   "outputs": [
    {
     "data": {
      "text/html": [
       "<div>\n",
       "<style scoped>\n",
       "    .dataframe tbody tr th:only-of-type {\n",
       "        vertical-align: middle;\n",
       "    }\n",
       "\n",
       "    .dataframe tbody tr th {\n",
       "        vertical-align: top;\n",
       "    }\n",
       "\n",
       "    .dataframe thead th {\n",
       "        text-align: right;\n",
       "    }\n",
       "</style>\n",
       "<table border=\"1\" class=\"dataframe\">\n",
       "  <thead>\n",
       "    <tr style=\"text-align: right;\">\n",
       "      <th></th>\n",
       "      <th>Review #</th>\n",
       "      <th>Brand</th>\n",
       "      <th>Variety</th>\n",
       "      <th>Style</th>\n",
       "      <th>Country</th>\n",
       "      <th>Stars</th>\n",
       "      <th>Top Ten</th>\n",
       "    </tr>\n",
       "  </thead>\n",
       "  <tbody>\n",
       "    <tr>\n",
       "      <td>0</td>\n",
       "      <td>2580</td>\n",
       "      <td>New Touch</td>\n",
       "      <td>T's Restaurant Tantanmen</td>\n",
       "      <td>Cup</td>\n",
       "      <td>Japan</td>\n",
       "      <td>3.75</td>\n",
       "      <td>NaN</td>\n",
       "    </tr>\n",
       "    <tr>\n",
       "      <td>1</td>\n",
       "      <td>2579</td>\n",
       "      <td>Just Way</td>\n",
       "      <td>Noodles Spicy Hot Sesame Spicy Hot Sesame Guan...</td>\n",
       "      <td>Pack</td>\n",
       "      <td>Taiwan</td>\n",
       "      <td>1</td>\n",
       "      <td>NaN</td>\n",
       "    </tr>\n",
       "    <tr>\n",
       "      <td>2</td>\n",
       "      <td>2578</td>\n",
       "      <td>Nissin</td>\n",
       "      <td>Cup Noodles Chicken Vegetable</td>\n",
       "      <td>Cup</td>\n",
       "      <td>USA</td>\n",
       "      <td>2.25</td>\n",
       "      <td>NaN</td>\n",
       "    </tr>\n",
       "    <tr>\n",
       "      <td>3</td>\n",
       "      <td>2577</td>\n",
       "      <td>Wei Lih</td>\n",
       "      <td>GGE Ramen Snack Tomato Flavor</td>\n",
       "      <td>Pack</td>\n",
       "      <td>Taiwan</td>\n",
       "      <td>2.75</td>\n",
       "      <td>NaN</td>\n",
       "    </tr>\n",
       "    <tr>\n",
       "      <td>4</td>\n",
       "      <td>2576</td>\n",
       "      <td>Ching's Secret</td>\n",
       "      <td>Singapore Curry</td>\n",
       "      <td>Pack</td>\n",
       "      <td>India</td>\n",
       "      <td>3.75</td>\n",
       "      <td>NaN</td>\n",
       "    </tr>\n",
       "  </tbody>\n",
       "</table>\n",
       "</div>"
      ],
      "text/plain": [
       "   Review #           Brand  \\\n",
       "0      2580       New Touch   \n",
       "1      2579        Just Way   \n",
       "2      2578          Nissin   \n",
       "3      2577         Wei Lih   \n",
       "4      2576  Ching's Secret   \n",
       "\n",
       "                                             Variety Style Country Stars  \\\n",
       "0                          T's Restaurant Tantanmen    Cup   Japan  3.75   \n",
       "1  Noodles Spicy Hot Sesame Spicy Hot Sesame Guan...  Pack  Taiwan     1   \n",
       "2                      Cup Noodles Chicken Vegetable   Cup     USA  2.25   \n",
       "3                      GGE Ramen Snack Tomato Flavor  Pack  Taiwan  2.75   \n",
       "4                                    Singapore Curry  Pack   India  3.75   \n",
       "\n",
       "  Top Ten  \n",
       "0     NaN  \n",
       "1     NaN  \n",
       "2     NaN  \n",
       "3     NaN  \n",
       "4     NaN  "
      ]
     },
     "execution_count": 2,
     "metadata": {},
     "output_type": "execute_result"
    }
   ],
   "source": [
    "ramens = pd.read_csv('ramen-ratings.csv')\n",
    "ramens.head(5)"
   ]
  },
  {
   "cell_type": "markdown",
   "metadata": {},
   "source": [
    "__Scenario overview__\n",
    "\n",
    "A Japanese ramen company, Nissin is planning to sell new ramen in the US market. To develop successful ramen, they want to know what flavor is popular in the US market (spicy or non-spicy), and also they want to know how their spicy ramen is doing so far. "
   ]
  },
  {
   "cell_type": "code",
   "execution_count": 3,
   "metadata": {},
   "outputs": [],
   "source": [
    "ramens[\"Country\"].replace(\"United States\", \"USA\", inplace=True)"
   ]
  },
  {
   "cell_type": "code",
   "execution_count": 4,
   "metadata": {},
   "outputs": [
    {
     "name": "stderr",
     "output_type": "stream",
     "text": [
      "/Users/yutakatsuyama/anaconda3/lib/python3.7/site-packages/ipykernel_launcher.py:2: SettingWithCopyWarning: \n",
      "A value is trying to be set on a copy of a slice from a DataFrame.\n",
      "Try using .loc[row_indexer,col_indexer] = value instead\n",
      "\n",
      "See the caveats in the documentation: http://pandas.pydata.org/pandas-docs/stable/user_guide/indexing.html#returning-a-view-versus-a-copy\n",
      "  \n"
     ]
    }
   ],
   "source": [
    "stars=(ramens[ramens['Stars'] != 'Unrated'])\n",
    "stars[\"Stars\"]=stars[\"Stars\"].astype(float)"
   ]
  },
  {
   "cell_type": "code",
   "execution_count": 5,
   "metadata": {},
   "outputs": [
    {
     "name": "stderr",
     "output_type": "stream",
     "text": [
      "/Users/yutakatsuyama/anaconda3/lib/python3.7/site-packages/ipykernel_launcher.py:1: SettingWithCopyWarning: \n",
      "A value is trying to be set on a copy of a slice from a DataFrame.\n",
      "Try using .loc[row_indexer,col_indexer] = value instead\n",
      "\n",
      "See the caveats in the documentation: http://pandas.pydata.org/pandas-docs/stable/user_guide/indexing.html#returning-a-view-versus-a-copy\n",
      "  \"\"\"Entry point for launching an IPython kernel.\n"
     ]
    },
    {
     "data": {
      "text/plain": [
       "Non-spicy    2180\n",
       "Spicy         397\n",
       "Name: Spicy, dtype: int64"
      ]
     },
     "execution_count": 5,
     "metadata": {},
     "output_type": "execute_result"
    }
   ],
   "source": [
    "stars['Spicy'] = np.where(stars['Variety'].str.contains('spicy|chili|hot|kimchi', case=False), \"Spicy\", \"Non-spicy\")\n",
    "stars['Spicy'].value_counts()"
   ]
  },
  {
   "cell_type": "code",
   "execution_count": 6,
   "metadata": {},
   "outputs": [
    {
     "data": {
      "text/plain": [
       "Text(0.5, 1.0, 'Spicy Ramens Stars (made in US)')"
      ]
     },
     "execution_count": 6,
     "metadata": {},
     "output_type": "execute_result"
    },
    {
     "data": {
      "image/png": "[encoded data removed]",
      "text/plain": [
       "<Figure size 1440x360 with 2 Axes>"
      ]
     },
     "metadata": {
      "needs_background": "light"
     },
     "output_type": "display_data"
    }
   ],
   "source": [
    "us_spicy_ramens=stars[(stars[\"Spicy\"] == \"Spicy\")&(stars[\"Country\"] == \"USA\")]\n",
    "us_non_spicy_ramens=stars[(stars[\"Spicy\"]==\"Non-spicy\")&(stars[\"Country\"] == \"USA\")]\n",
    "\n",
    "f, ax = plt.subplots(1, 2, figsize=(20, 5))\n",
    "\n",
    "\n",
    "sns.distplot(us_non_spicy_ramens[\"Stars\"], ax=ax[0]).set_title(\"Non Spicy Ramens Stars (made in US)\")\n",
    "sns.distplot(us_spicy_ramens[\"Stars\"], ax=ax[1]).set_title(\"Spicy Ramens Stars (made in US)\")\n"
   ]
  },
  {
   "cell_type": "code",
   "execution_count": 7,
   "metadata": {},
   "outputs": [
    {
     "data": {
      "text/html": [
       "<div>\n",
       "<style scoped>\n",
       "    .dataframe tbody tr th:only-of-type {\n",
       "        vertical-align: middle;\n",
       "    }\n",
       "\n",
       "    .dataframe tbody tr th {\n",
       "        vertical-align: top;\n",
       "    }\n",
       "\n",
       "    .dataframe thead th {\n",
       "        text-align: right;\n",
       "    }\n",
       "</style>\n",
       "<table border=\"1\" class=\"dataframe\">\n",
       "  <thead>\n",
       "    <tr style=\"text-align: right;\">\n",
       "      <th></th>\n",
       "      <th>count</th>\n",
       "      <th>mean</th>\n",
       "      <th>std</th>\n",
       "      <th>min</th>\n",
       "      <th>25%</th>\n",
       "      <th>50%</th>\n",
       "      <th>75%</th>\n",
       "      <th>max</th>\n",
       "    </tr>\n",
       "    <tr>\n",
       "      <th>Spicy</th>\n",
       "      <th></th>\n",
       "      <th></th>\n",
       "      <th></th>\n",
       "      <th></th>\n",
       "      <th></th>\n",
       "      <th></th>\n",
       "      <th></th>\n",
       "      <th></th>\n",
       "    </tr>\n",
       "  </thead>\n",
       "  <tbody>\n",
       "    <tr>\n",
       "      <td>Non-spicy</td>\n",
       "      <td>254.0</td>\n",
       "      <td>3.452264</td>\n",
       "      <td>1.062055</td>\n",
       "      <td>0.00</td>\n",
       "      <td>3.0</td>\n",
       "      <td>3.50</td>\n",
       "      <td>4.0</td>\n",
       "      <td>5.0</td>\n",
       "    </tr>\n",
       "    <tr>\n",
       "      <td>Spicy</td>\n",
       "      <td>70.0</td>\n",
       "      <td>3.478571</td>\n",
       "      <td>1.032745</td>\n",
       "      <td>0.25</td>\n",
       "      <td>3.0</td>\n",
       "      <td>3.75</td>\n",
       "      <td>4.0</td>\n",
       "      <td>5.0</td>\n",
       "    </tr>\n",
       "  </tbody>\n",
       "</table>\n",
       "</div>"
      ],
      "text/plain": [
       "           count      mean       std   min  25%   50%  75%  max\n",
       "Spicy                                                          \n",
       "Non-spicy  254.0  3.452264  1.062055  0.00  3.0  3.50  4.0  5.0\n",
       "Spicy       70.0  3.478571  1.032745  0.25  3.0  3.75  4.0  5.0"
      ]
     },
     "execution_count": 7,
     "metadata": {},
     "output_type": "execute_result"
    }
   ],
   "source": [
    "us_stars = stars[stars[\"Country\"] == \"USA\"]\n",
    "us_stars.groupby(['Spicy'])[\"Stars\"].describe()"
   ]
  },
  {
   "cell_type": "code",
   "execution_count": 8,
   "metadata": {},
   "outputs": [
    {
     "data": {
      "text/plain": [
       "<matplotlib.axes._subplots.AxesSubplot at 0x117b5f2d0>"
      ]
     },
     "execution_count": 8,
     "metadata": {},
     "output_type": "execute_result"
    },
    {
     "data": {
      "image/png": "[encoded data removed]",
      "text/plain": [
       "<Figure size 432x288 with 1 Axes>"
      ]
     },
     "metadata": {
      "needs_background": "light"
     },
     "output_type": "display_data"
    }
   ],
   "source": [
    "sns.boxplot(x='Spicy', y=\"Stars\", data=us_stars)"
   ]
  },
  {
   "cell_type": "code",
   "execution_count": 9,
   "metadata": {},
   "outputs": [],
   "source": [
    "#show how many ramens have over 4 stars\n",
    "us_high_rated_spicy = stars[((stars[\"Spicy\"] == \"Spicy\") & (stars[\"Stars\"] >= 4)& (stars[\"Country\"] == \"USA\"))]\n",
    "us_high_rated_non_spicy = stars[((stars[\"Spicy\"] == \"Non-spicy\") & (stars[\"Stars\"] >= 4) & (stars[\"Country\"] == \"USA\"))]"
   ]
  },
  {
   "cell_type": "code",
   "execution_count": 10,
   "metadata": {},
   "outputs": [
    {
     "name": "stdout",
     "output_type": "stream",
     "text": [
      "High rated spicy ramen ratio: 44.285714285714285 %\n",
      "High rated non-spicy ramen ratio: 33.85826771653544 %\n"
     ]
    }
   ],
   "source": [
    "print(\"High rated spicy ramen ratio:\", (len(us_high_rated_spicy)/len(us_spicy_ramens)*100), \"%\")\n",
    "print(\"High rated non-spicy ramen ratio:\", (len(us_high_rated_non_spicy)/len(us_non_spicy_ramens)*100), \"%\")"
   ]
  },
  {
   "cell_type": "code",
   "execution_count": 11,
   "metadata": {},
   "outputs": [
    {
     "data": {
      "text/html": [
       "<div>\n",
       "<style scoped>\n",
       "    .dataframe tbody tr th:only-of-type {\n",
       "        vertical-align: middle;\n",
       "    }\n",
       "\n",
       "    .dataframe tbody tr th {\n",
       "        vertical-align: top;\n",
       "    }\n",
       "\n",
       "    .dataframe thead th {\n",
       "        text-align: right;\n",
       "    }\n",
       "</style>\n",
       "<table border=\"1\" class=\"dataframe\">\n",
       "  <thead>\n",
       "    <tr style=\"text-align: right;\">\n",
       "      <th></th>\n",
       "      <th>Review #</th>\n",
       "      <th>Brand</th>\n",
       "      <th>Variety</th>\n",
       "      <th>Style</th>\n",
       "      <th>Country</th>\n",
       "      <th>Stars</th>\n",
       "      <th>Top Ten</th>\n",
       "      <th>Spicy</th>\n",
       "    </tr>\n",
       "  </thead>\n",
       "  <tbody>\n",
       "    <tr>\n",
       "      <td>39</td>\n",
       "      <td>2541</td>\n",
       "      <td>Nissin</td>\n",
       "      <td>Cup Noodles Very Veggie Spicy Chicken Flavor R...</td>\n",
       "      <td>Cup</td>\n",
       "      <td>USA</td>\n",
       "      <td>5.0</td>\n",
       "      <td>NaN</td>\n",
       "      <td>Spicy</td>\n",
       "    </tr>\n",
       "    <tr>\n",
       "      <td>482</td>\n",
       "      <td>2098</td>\n",
       "      <td>Nongshim</td>\n",
       "      <td>Kimchi Flavor Noodle Soup</td>\n",
       "      <td>Cup</td>\n",
       "      <td>USA</td>\n",
       "      <td>5.0</td>\n",
       "      <td>NaN</td>\n",
       "      <td>Spicy</td>\n",
       "    </tr>\n",
       "    <tr>\n",
       "      <td>902</td>\n",
       "      <td>1678</td>\n",
       "      <td>Nongshim</td>\n",
       "      <td>Shin Black Spicy Po-Au-Feu Flavor (Mew Edition)</td>\n",
       "      <td>Pack</td>\n",
       "      <td>USA</td>\n",
       "      <td>5.0</td>\n",
       "      <td>NaN</td>\n",
       "      <td>Spicy</td>\n",
       "    </tr>\n",
       "    <tr>\n",
       "      <td>1095</td>\n",
       "      <td>1485</td>\n",
       "      <td>Nongshim</td>\n",
       "      <td>Spicy Tonkotsu Noodle Soup</td>\n",
       "      <td>Pack</td>\n",
       "      <td>USA</td>\n",
       "      <td>5.0</td>\n",
       "      <td>NaN</td>\n",
       "      <td>Spicy</td>\n",
       "    </tr>\n",
       "    <tr>\n",
       "      <td>1402</td>\n",
       "      <td>1178</td>\n",
       "      <td>Nongshim</td>\n",
       "      <td>Shin Black Spicy Pot-au-feu Flavor Premium Noo...</td>\n",
       "      <td>Cup</td>\n",
       "      <td>USA</td>\n",
       "      <td>5.0</td>\n",
       "      <td>NaN</td>\n",
       "      <td>Spicy</td>\n",
       "    </tr>\n",
       "    <tr>\n",
       "      <td>1646</td>\n",
       "      <td>934</td>\n",
       "      <td>Nongshim</td>\n",
       "      <td>Jinjja Jinjja Flamin' Hot &amp; Nutty</td>\n",
       "      <td>Pack</td>\n",
       "      <td>USA</td>\n",
       "      <td>5.0</td>\n",
       "      <td>2013 #4</td>\n",
       "      <td>Spicy</td>\n",
       "    </tr>\n",
       "  </tbody>\n",
       "</table>\n",
       "</div>"
      ],
      "text/plain": [
       "      Review #     Brand                                            Variety  \\\n",
       "39        2541    Nissin  Cup Noodles Very Veggie Spicy Chicken Flavor R...   \n",
       "482       2098  Nongshim                          Kimchi Flavor Noodle Soup   \n",
       "902       1678  Nongshim    Shin Black Spicy Po-Au-Feu Flavor (Mew Edition)   \n",
       "1095      1485  Nongshim                         Spicy Tonkotsu Noodle Soup   \n",
       "1402      1178  Nongshim  Shin Black Spicy Pot-au-feu Flavor Premium Noo...   \n",
       "1646       934  Nongshim                  Jinjja Jinjja Flamin' Hot & Nutty   \n",
       "\n",
       "     Style Country  Stars  Top Ten  Spicy  \n",
       "39     Cup     USA    5.0      NaN  Spicy  \n",
       "482    Cup     USA    5.0      NaN  Spicy  \n",
       "902   Pack     USA    5.0      NaN  Spicy  \n",
       "1095  Pack     USA    5.0      NaN  Spicy  \n",
       "1402   Cup     USA    5.0      NaN  Spicy  \n",
       "1646  Pack     USA    5.0  2013 #4  Spicy  "
      ]
     },
     "execution_count": 11,
     "metadata": {},
     "output_type": "execute_result"
    }
   ],
   "source": [
    "us_high_rated_spicy[(us_high_rated_spicy[\"Stars\"] == 5)]"
   ]
  },
  {
   "cell_type": "code",
   "execution_count": 12,
   "metadata": {},
   "outputs": [],
   "source": [
    "### spicy ramen of Nissin Japan\n",
    "\n",
    "nissin_spicy_ramens = stars[((stars[\"Spicy\"] == \"Spicy\") & (stars[\"Brand\"] == \"Nissin\" )& (stars[\"Country\"] == \"Japan\" ))]\n",
    "nissin_non_spicy_ramens = stars[((stars[\"Spicy\"] == \"Non-spicy\") & (stars[\"Brand\"] == \"Nissin\" )& (stars[\"Country\"] == \"Japan\" ))]"
   ]
  },
  {
   "cell_type": "code",
   "execution_count": 13,
   "metadata": {},
   "outputs": [
    {
     "data": {
      "text/plain": [
       "Text(0.5, 1.0, 'Non Spicy Ramens Stars')"
      ]
     },
     "execution_count": 13,
     "metadata": {},
     "output_type": "execute_result"
    },
    {
     "data": {
      "image/png": "[encoded data removed]",
      "text/plain": [
       "<Figure size 1440x360 with 2 Axes>"
      ]
     },
     "metadata": {
      "needs_background": "light"
     },
     "output_type": "display_data"
    }
   ],
   "source": [
    "f, ax = plt.subplots(1, 2, figsize=(20, 5))\n",
    "\n",
    "sns.distplot(nissin_spicy_ramens[\"Stars\"], ax=ax[0]).set_title(\"Spicy Ramens Stars\")\n",
    "sns.distplot(nissin_non_spicy_ramens[\"Stars\"], ax=ax[1]).set_title(\"Non Spicy Ramens Stars\")"
   ]
  },
  {
   "cell_type": "code",
   "execution_count": 14,
   "metadata": {},
   "outputs": [
    {
     "data": {
      "text/html": [
       "<div>\n",
       "<style scoped>\n",
       "    .dataframe tbody tr th:only-of-type {\n",
       "        vertical-align: middle;\n",
       "    }\n",
       "\n",
       "    .dataframe tbody tr th {\n",
       "        vertical-align: top;\n",
       "    }\n",
       "\n",
       "    .dataframe thead th {\n",
       "        text-align: right;\n",
       "    }\n",
       "</style>\n",
       "<table border=\"1\" class=\"dataframe\">\n",
       "  <thead>\n",
       "    <tr style=\"text-align: right;\">\n",
       "      <th></th>\n",
       "      <th>count</th>\n",
       "      <th>mean</th>\n",
       "      <th>std</th>\n",
       "      <th>min</th>\n",
       "      <th>25%</th>\n",
       "      <th>50%</th>\n",
       "      <th>75%</th>\n",
       "      <th>max</th>\n",
       "    </tr>\n",
       "    <tr>\n",
       "      <th>Spicy</th>\n",
       "      <th></th>\n",
       "      <th></th>\n",
       "      <th></th>\n",
       "      <th></th>\n",
       "      <th></th>\n",
       "      <th></th>\n",
       "      <th></th>\n",
       "      <th></th>\n",
       "    </tr>\n",
       "  </thead>\n",
       "  <tbody>\n",
       "    <tr>\n",
       "      <td>Non-spicy</td>\n",
       "      <td>103.0</td>\n",
       "      <td>4.284951</td>\n",
       "      <td>0.721377</td>\n",
       "      <td>2.5</td>\n",
       "      <td>3.75</td>\n",
       "      <td>4.50</td>\n",
       "      <td>5.0</td>\n",
       "      <td>5.0</td>\n",
       "    </tr>\n",
       "    <tr>\n",
       "      <td>Spicy</td>\n",
       "      <td>8.0</td>\n",
       "      <td>3.937500</td>\n",
       "      <td>1.374188</td>\n",
       "      <td>2.0</td>\n",
       "      <td>2.75</td>\n",
       "      <td>4.75</td>\n",
       "      <td>5.0</td>\n",
       "      <td>5.0</td>\n",
       "    </tr>\n",
       "  </tbody>\n",
       "</table>\n",
       "</div>"
      ],
      "text/plain": [
       "           count      mean       std  min   25%   50%  75%  max\n",
       "Spicy                                                          \n",
       "Non-spicy  103.0  4.284951  0.721377  2.5  3.75  4.50  5.0  5.0\n",
       "Spicy        8.0  3.937500  1.374188  2.0  2.75  4.75  5.0  5.0"
      ]
     },
     "execution_count": 14,
     "metadata": {},
     "output_type": "execute_result"
    }
   ],
   "source": [
    "japanese_nissin_stars = stars[(stars[\"Country\"] == \"Japan\") & (stars[\"Brand\"] == \"Nissin\")]\n",
    "\n",
    "japanese_nissin_stars.groupby(['Spicy'])[\"Stars\"].describe()"
   ]
  },
  {
   "cell_type": "code",
   "execution_count": 15,
   "metadata": {},
   "outputs": [
    {
     "name": "stdout",
     "output_type": "stream",
     "text": [
      "High rated spicy ramen ratio: 62.5 %\n",
      "High rated non-spicy ramen ratio: 72.81553398058253 %\n"
     ]
    }
   ],
   "source": [
    "#show how many ramens have over 4 stars\n",
    "nissin_high_rated_spicy = stars[((stars[\"Spicy\"] == \"Spicy\") & (stars[\"Stars\"] >= 4)& (stars[\"Country\"] == \"Japan\")& (stars[\"Brand\"] == \"Nissin\"))]\n",
    "nissin_high_rated_non_spicy = stars[((stars[\"Spicy\"] == \"Non-spicy\") & (stars[\"Stars\"] >= 4) & (stars[\"Country\"] == \"Japan\") & (stars[\"Brand\"] == \"Nissin\"))]\n",
    "\n",
    "print(\"High rated spicy ramen ratio:\", (len(nissin_high_rated_spicy)/len(nissin_spicy_ramens)*100), \"%\")\n",
    "print(\"High rated non-spicy ramen ratio:\", (len(nissin_high_rated_non_spicy)/len(nissin_non_spicy_ramens)*100), \"%\")"
   ]
  },
  {
   "cell_type": "markdown",
   "metadata": {},
   "source": [
    "__Over view & Question__\n",
    "\n",
    "\n",
    "Spicy flavors are more popular than non-spicy flavors in the US ramens. On the other hand, regarding ramens made by Nissin Japan, Non-spicy flavor is more popular than spicy flavor. \n",
    "\n",
    "Should Nissin Japan make spicy flavor when they want to sell new ramen in the US market?"
   ]
  },
  {
   "cell_type": "markdown",
   "metadata": {},
   "source": [
    "### 2. The main component of this capstone is a research proposal. Using the data set you selected, propose and outline an experiment plan. The plan should consist of three key components:"
   ]
  },
  {
   "cell_type": "markdown",
   "metadata": {},
   "source": [
    "####   2-1. Analysis that highlights your experimental hypothesis."
   ]
  },
  {
   "cell_type": "markdown",
   "metadata": {},
   "source": [
    "A Japanese ramen company, Nissin is planning to sell new ramen in the US market. They have data of that spicy flavor has better ratings in America, and non-spicy ramens have better grades for Nissin's ramens. Therefore, the R&D department of the company created two versions of ramens for conducting the A/B test. One is non-spicy traditional Japanese ramen; the other is US localized spicy ramen.\n",
    "\n",
    "Nissin hypothesizes that they should create spicy flavor ramen as a new product because spicy ramens are more popular than non-spicy ramens in the US. They assumed other Japanese ramen companies failed to develop localized spicy ramens for the US market. Also, they care about the sample size of the data. "
   ]
  },
  {
   "cell_type": "markdown",
   "metadata": {},
   "source": [
    "#### 2-2. A rollout plan showing how you would implement and rollout the experiment"
   ]
  },
  {
   "cell_type": "markdown",
   "metadata": {},
   "source": [
    "In this A/B testing, we will gather 400 samples from random US citizens. We will ask them to eat two types of ramens and review the ramen after the trial. To prevent them from being full for the second ramen, we will conduct this in 2 days. This is also good for participants to forget what ratings they gave for the first ramen. Also, all the tests will be held at lunchtime. Half of the group, 200 samples, will eat non-spicy ramen on the first day and eat spicy on the second day. The other group, also 200 samples, eats ramens in the opposite order. This 50:50 rollout intends to remove potential influence from the order. In addition to that, we will offer the participants to buy ramens after the trial. Often, people give better ratings in the trial. However, if they need to pay, people give us a more severe and realistic review of the products."
   ]
  },
  {
   "cell_type": "markdown",
   "metadata": {},
   "source": [
    "#### 2-3. An evaluation plan showing what constitutes success in this experiment"
   ]
  },
  {
   "cell_type": "markdown",
   "metadata": {},
   "source": [
    "__Success Metric:__ The average ratings of each ramen will be our success metric. We will compare the ratings of each spicy and non-spicy ramens and select a better-rated flavor. We will compare with the previous ratings for Nissin's ramens. If the p-value is that anything less than .05, we reject the null hypothesis of no effect.\n",
    "\n",
    "__Secondary Metric:__ As a secondary metric, we will check how many people will buy the ramens. If the p-value is that anything less than .05, we reject the null hypothesis of no effect."
   ]
  },
  {
   "cell_type": "markdown",
   "metadata": {},
   "source": [
    "__Future plan:__ After checking the popular flavor with the first success metric, we will try to improve the buying rate of the secondary metric by improving the ramen."
   ]
  },
  {
   "cell_type": "code",
   "execution_count": null,
   "metadata": {},
   "outputs": [],
   "source": []
  }
 ],
 "metadata": {
  "kernelspec": {
   "display_name": "Python 3",
   "language": "python",
   "name": "python3"
  },
  "language_info": {
   "codemirror_mode": {
    "name": "ipython",
    "version": 3
   },
   "file_extension": ".py",
   "mimetype": "text/x-python",
   "name": "python",
   "nbconvert_exporter": "python",
   "pygments_lexer": "ipython3",
   "version": "3.7.4"
  }
 },
 "nbformat": 4,
 "nbformat_minor": 2
}
