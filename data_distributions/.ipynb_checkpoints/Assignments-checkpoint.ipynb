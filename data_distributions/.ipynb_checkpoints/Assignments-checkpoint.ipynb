{
 "cells": [
  {
   "cell_type": "code",
   "execution_count": 1,
   "metadata": {},
   "outputs": [],
   "source": [
    "import numpy as np\n",
    "import pandas as pd\n",
    "import matplotlib.pyplot as plt"
   ]
  },
  {
   "cell_type": "code",
   "execution_count": 19,
   "metadata": {},
   "outputs": [
    {
     "data": {
      "image/png": "[encoded data removed]",
      "text/plain": [
       "<Figure size 432x288 with 1 Axes>"
      ]
     },
     "metadata": {
      "needs_background": "light"
     },
     "output_type": "display_data"
    }
   ],
   "source": [
    "rand1 = np.random.normal(20, 1, 100)\n",
    "plt.hist(rand1, bins=20, color=\"c\")\n",
    "plt.axvline(rand1.mean(), color=\"b\", linestyle=\"solid\", linewidth=2)\n",
    "plt.axvline(rand1.mean()+rand1.std(), color=\"b\", linestyle=\"dashed\", linewidth=2)\n",
    "plt.axvline(rand1.mean()-rand1.std(), color=\"b\", linestyle=\"dashed\", linewidth=2)\n",
    "\n",
    "plt.show()"
   ]
  },
  {
   "cell_type": "markdown",
   "metadata": {},
   "source": [
    "Evaluate whether the descriptive statistics provided useful information about the variable. Can you identify any common characteristics of the distributions that could be usefully described using the mean and/or standard deviation, versus the ones that could not?"
   ]
  },
  {
   "cell_type": "markdown",
   "metadata": {},
   "source": [
    "???"
   ]
  },
  {
   "cell_type": "code",
   "execution_count": 29,
   "metadata": {},
   "outputs": [
    {
     "data": {
      "image/png": "[encoded data removed]",
      "text/plain": [
       "<Figure size 432x288 with 1 Axes>"
      ]
     },
     "metadata": {
      "needs_background": "light"
     },
     "output_type": "display_data"
    }
   ],
   "source": [
    "rand2 = np.random.normal(5, 0.5, 100)\n",
    "rand3 = np.random.normal(10,1,100)\n",
    "rand4  = rand2 + rand3\n",
    "plt.hist(rand4, color=\"c\")\n",
    "plt.axvline(rand4.mean(), color=\"b\",linestyle=\"solid\",linewidth=2)\n",
    "plt.axvline(rand4.mean()+rand4.std(), color=\"b\",linestyle=\"dashed\",linewidth=2)\n",
    "plt.axvline(rand4.mean()-rand4.std(), color=\"b\",linestyle=\"dashed\",linewidth=2)\n",
    "plt.show()"
   ]
  },
  {
   "cell_type": "markdown",
   "metadata": {},
   "source": [
    "Evaluate the descriptive statistics against the data."
   ]
  },
  {
   "cell_type": "markdown",
   "metadata": {},
   "source": [
    "???"
   ]
  }
 ],
 "metadata": {
  "kernelspec": {
   "display_name": "Python 3",
   "language": "python",
   "name": "python3"
  },
  "language_info": {
   "codemirror_mode": {
    "name": "ipython",
    "version": 3
   },
   "file_extension": ".py",
   "mimetype": "text/x-python",
   "name": "python",
   "nbconvert_exporter": "python",
   "pygments_lexer": "ipython3",
   "version": "3.7.4"
  }
 },
 "nbformat": 4,
 "nbformat_minor": 2
}
