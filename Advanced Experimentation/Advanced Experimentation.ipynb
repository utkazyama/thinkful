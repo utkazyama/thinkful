{
 "cells": [
  {
   "cell_type": "code",
   "execution_count": 1,
   "metadata": {},
   "outputs": [],
   "source": [
    "import pandas as pd\n",
    "import numpy as np\n",
    "import matplotlib.pyplot as plt\n",
    "import seaborn as sns\n",
    "import scipy.stats as stats\n",
    "%matplotlib inline"
   ]
  },
  {
   "cell_type": "code",
   "execution_count": 2,
   "metadata": {},
   "outputs": [],
   "source": [
    "df = pd.read_csv(\"ESSdata.csv\")"
   ]
  },
  {
   "cell_type": "code",
   "execution_count": 3,
   "metadata": {},
   "outputs": [
    {
     "data": {
      "text/html": [
       "<div>\n",
       "<style scoped>\n",
       "    .dataframe tbody tr th:only-of-type {\n",
       "        vertical-align: middle;\n",
       "    }\n",
       "\n",
       "    .dataframe tbody tr th {\n",
       "        vertical-align: top;\n",
       "    }\n",
       "\n",
       "    .dataframe thead th {\n",
       "        text-align: right;\n",
       "    }\n",
       "</style>\n",
       "<table border=\"1\" class=\"dataframe\">\n",
       "  <thead>\n",
       "    <tr style=\"text-align: right;\">\n",
       "      <th></th>\n",
       "      <th>cntry</th>\n",
       "      <th>idno</th>\n",
       "      <th>year</th>\n",
       "      <th>tvtot</th>\n",
       "      <th>ppltrst</th>\n",
       "      <th>pplfair</th>\n",
       "      <th>pplhlp</th>\n",
       "      <th>happy</th>\n",
       "      <th>sclmeet</th>\n",
       "      <th>sclact</th>\n",
       "      <th>gndr</th>\n",
       "      <th>agea</th>\n",
       "      <th>partner</th>\n",
       "    </tr>\n",
       "  </thead>\n",
       "  <tbody>\n",
       "    <tr>\n",
       "      <td>0</td>\n",
       "      <td>CH</td>\n",
       "      <td>5.0</td>\n",
       "      <td>6</td>\n",
       "      <td>3.0</td>\n",
       "      <td>3.0</td>\n",
       "      <td>10.0</td>\n",
       "      <td>5.0</td>\n",
       "      <td>8.0</td>\n",
       "      <td>5.0</td>\n",
       "      <td>4.0</td>\n",
       "      <td>2.0</td>\n",
       "      <td>60.0</td>\n",
       "      <td>1.0</td>\n",
       "    </tr>\n",
       "    <tr>\n",
       "      <td>773</td>\n",
       "      <td>CH</td>\n",
       "      <td>5.0</td>\n",
       "      <td>7</td>\n",
       "      <td>2.0</td>\n",
       "      <td>8.0</td>\n",
       "      <td>9.0</td>\n",
       "      <td>7.0</td>\n",
       "      <td>9.0</td>\n",
       "      <td>6.0</td>\n",
       "      <td>4.0</td>\n",
       "      <td>1.0</td>\n",
       "      <td>69.0</td>\n",
       "      <td>1.0</td>\n",
       "    </tr>\n",
       "    <tr>\n",
       "      <td>2892</td>\n",
       "      <td>ES</td>\n",
       "      <td>5.0</td>\n",
       "      <td>6</td>\n",
       "      <td>4.0</td>\n",
       "      <td>5.0</td>\n",
       "      <td>7.0</td>\n",
       "      <td>5.0</td>\n",
       "      <td>10.0</td>\n",
       "      <td>6.0</td>\n",
       "      <td>1.0</td>\n",
       "      <td>2.0</td>\n",
       "      <td>38.0</td>\n",
       "      <td>1.0</td>\n",
       "    </tr>\n",
       "    <tr>\n",
       "      <td>4105</td>\n",
       "      <td>ES</td>\n",
       "      <td>5.0</td>\n",
       "      <td>7</td>\n",
       "      <td>2.0</td>\n",
       "      <td>7.0</td>\n",
       "      <td>7.0</td>\n",
       "      <td>6.0</td>\n",
       "      <td>8.0</td>\n",
       "      <td>7.0</td>\n",
       "      <td>3.0</td>\n",
       "      <td>1.0</td>\n",
       "      <td>46.0</td>\n",
       "      <td>1.0</td>\n",
       "    </tr>\n",
       "  </tbody>\n",
       "</table>\n",
       "</div>"
      ],
      "text/plain": [
       "     cntry  idno  year  tvtot  ppltrst  pplfair  pplhlp  happy  sclmeet  \\\n",
       "0       CH   5.0     6    3.0      3.0     10.0     5.0    8.0      5.0   \n",
       "773     CH   5.0     7    2.0      8.0      9.0     7.0    9.0      6.0   \n",
       "2892    ES   5.0     6    4.0      5.0      7.0     5.0   10.0      6.0   \n",
       "4105    ES   5.0     7    2.0      7.0      7.0     6.0    8.0      7.0   \n",
       "\n",
       "      sclact  gndr  agea  partner  \n",
       "0        4.0   2.0  60.0      1.0  \n",
       "773      4.0   1.0  69.0      1.0  \n",
       "2892     1.0   2.0  38.0      1.0  \n",
       "4105     3.0   1.0  46.0      1.0  "
      ]
     },
     "execution_count": 3,
     "metadata": {},
     "output_type": "execute_result"
    }
   ],
   "source": [
    "df[df[\"idno\"]==5.0]"
   ]
  },
  {
   "cell_type": "code",
   "execution_count": 4,
   "metadata": {},
   "outputs": [],
   "source": [
    "countries = df.cntry.unique().tolist()"
   ]
  },
  {
   "cell_type": "markdown",
   "metadata": {},
   "source": [
    "## Question 1: Did people become less trusting from 2012 to 2014? Compute results for each country in the sample."
   ]
  },
  {
   "cell_type": "markdown",
   "metadata": {},
   "source": [
    "A/B Test - All participants experience both versions. Use Paired sample t-test or Wilcoxon signed-rank depending on distibution."
   ]
  },
  {
   "cell_type": "code",
   "execution_count": 9,
   "metadata": {},
   "outputs": [
    {
     "data": {
      "image/png": "[encoded data removed]",
      "text/plain": [
       "<Figure size 432x216 with 2 Axes>"
      ]
     },
     "metadata": {
      "needs_background": "light"
     },
     "output_type": "display_data"
    },
    {
     "data": {
      "image/png": "[encoded data removed]",
      "text/plain": [
       "<Figure size 432x216 with 2 Axes>"
      ]
     },
     "metadata": {
      "needs_background": "light"
     },
     "output_type": "display_data"
    },
    {
     "data": {
      "image/png": "[encoded data removed]",
      "text/plain": [
       "<Figure size 432x216 with 2 Axes>"
      ]
     },
     "metadata": {
      "needs_background": "light"
     },
     "output_type": "display_data"
    },
    {
     "data": {
      "image/png": "[encoded data removed]",
      "text/plain": [
       "<Figure size 432x216 with 2 Axes>"
      ]
     },
     "metadata": {
      "needs_background": "light"
     },
     "output_type": "display_data"
    },
    {
     "data": {
      "image/png": "[encoded data removed]",
      "text/plain": [
       "<Figure size 432x216 with 2 Axes>"
      ]
     },
     "metadata": {
      "needs_background": "light"
     },
     "output_type": "display_data"
    },
    {
     "data": {
      "image/png": "[encoded data removed]",
      "text/plain": [
       "<Figure size 432x216 with 2 Axes>"
      ]
     },
     "metadata": {
      "needs_background": "light"
     },
     "output_type": "display_data"
    }
   ],
   "source": [
    "for country in countries:\n",
    "    \n",
    "    fig, axs = plt.subplots(1, 2, figsize=(6,3))\n",
    "    \n",
    "    axs[0].hist(df[\"ppltrst\"][(df[\"cntry\"] == country)&(df[\"year\"]==6)].dropna())\n",
    "    axs[1].hist(df[\"ppltrst\"][(df[\"cntry\"] == country)&(df[\"year\"]==7)].dropna())\n",
    "    \n",
    "    fig.text(0.5, 0, country)\n",
    "    axs[0].set_title(\"2012\")\n",
    "    axs[1].set_title(\"2014\")\n",
    "    \n",
    "    \n",
    "    plt.tight_layout()\n",
    "    plt.show()"
   ]
  },
  {
   "cell_type": "code",
   "execution_count": 15,
   "metadata": {},
   "outputs": [
    {
     "name": "stdout",
     "output_type": "stream",
     "text": [
      "\n",
      " CH\n",
      "2012 mean: 5.68\n",
      "2014 mean: 5.75\n",
      "Ttest_relResult(statistic=-0.6586851756725737, pvalue=0.5102943511301135)\n",
      "\n",
      " CZ\n",
      "2012 mean: 4.36\n",
      "2014 mean: 4.42\n",
      "Ttest_relResult(statistic=-0.5001638336887216, pvalue=0.617129268240474)\n",
      "\n",
      " DE\n",
      "2012 mean: 5.21\n",
      "2014 mean: 5.36\n",
      "Ttest_relResult(statistic=-0.18399501804849683, pvalue=0.8568563797095805)\n",
      "\n",
      " ES\n",
      "2012 mean: 5.11\n",
      "2014 mean: 4.90\n",
      "Ttest_relResult(statistic=2.4561906976601646, pvalue=0.014181580725320284)\n",
      "\n",
      " NO\n",
      "2012 mean: 6.65\n",
      "2014 mean: 6.60\n",
      "Ttest_relResult(statistic=0.5073077081124404, pvalue=0.61209257015177)\n",
      "\n",
      " SE\n",
      "2012 mean: 6.06\n",
      "2014 mean: 6.26\n",
      "Ttest_relResult(statistic=-2.0671082026033982, pvalue=0.03900781670958545)\n"
     ]
    }
   ],
   "source": [
    "for country in countries:\n",
    "    print('\\n', country)\n",
    "    print('2012 mean: {0:.2f}'.format(df['ppltrst'][(df['cntry'] == country) & (df['year']==6)].mean()))\n",
    "    print('2014 mean: {0:.2f}'.format(df['ppltrst'][(df['cntry'] == country) & (df['year']==7)].mean()))  \n",
    "    print(stats.ttest_rel(df['ppltrst'][(df['cntry'] == country) & (df['year']==6)], \n",
    "                          df['ppltrst'][(df['cntry'] == country) & (df['year']==7)],\n",
    "                          nan_policy='omit'\n",
    "                         ))"
   ]
  },
  {
   "cell_type": "markdown",
   "metadata": {},
   "source": [
    "Using a parametric paired t-test, the only countries with significant differences between the 2012 and 2014 were ES and SE. Spain's level of trust was the only one to decrease."
   ]
  },
  {
   "cell_type": "markdown",
   "metadata": {},
   "source": [
    "Run Germany with non-parametric:"
   ]
  },
  {
   "cell_type": "code",
   "execution_count": 17,
   "metadata": {},
   "outputs": [
    {
     "name": "stdout",
     "output_type": "stream",
     "text": [
      "DE non-parametric\n",
      "2012 mean: 5.00\n",
      "2014 mean: 5.50\n",
      "WilcoxonResult(statistic=44.0, pvalue=0.9157134600899863)\n"
     ]
    }
   ],
   "source": [
    "print('DE non-parametric')\n",
    "print('2012 mean: {0:.2f}'.format(df['ppltrst'][(df['cntry'] == \"DE\") & (df['year']==6)].median()))\n",
    "print('2014 mean: {0:.2f}'.format(df['ppltrst'][(df['cntry'] == \"DE\") & (df['year']==7)].median()))  \n",
    "print(stats.wilcoxon(df['ppltrst'][(df['cntry'] == \"DE\") & (df['year']==6)], \n",
    "                      df['ppltrst'][(df['cntry'] == \"DE\") & (df['year']==7)],\n",
    "                      zero_method='wilcox'\n",
    "                     ))"
   ]
  },
  {
   "cell_type": "markdown",
   "metadata": {},
   "source": [
    "Using non-parametric methods, there was a difference beween years in Germany; however, trust increased."
   ]
  },
  {
   "cell_type": "markdown",
   "metadata": {},
   "source": [
    "## 2. Did people become happier from 2012 to 2014? Compute results for each country in the sample."
   ]
  },
  {
   "cell_type": "code",
   "execution_count": 18,
   "metadata": {},
   "outputs": [
    {
     "data": {
      "image/png": "[encoded data removed]",
      "text/plain": [
       "<Figure size 432x216 with 2 Axes>"
      ]
     },
     "metadata": {
      "needs_background": "light"
     },
     "output_type": "display_data"
    },
    {
     "data": {
      "image/png": "[encoded data removed]",
      "text/plain": [
       "<Figure size 432x216 with 2 Axes>"
      ]
     },
     "metadata": {
      "needs_background": "light"
     },
     "output_type": "display_data"
    },
    {
     "data": {
      "image/png": "[encoded data removed]",
      "text/plain": [
       "<Figure size 432x216 with 2 Axes>"
      ]
     },
     "metadata": {
      "needs_background": "light"
     },
     "output_type": "display_data"
    },
    {
     "data": {
      "image/png": "[encoded data removed]",
      "text/plain": [
       "<Figure size 432x216 with 2 Axes>"
      ]
     },
     "metadata": {
      "needs_background": "light"
     },
     "output_type": "display_data"
    },
    {
     "data": {
      "image/png": "[encoded data removed]",
      "text/plain": [
       "<Figure size 432x216 with 2 Axes>"
      ]
     },
     "metadata": {
      "needs_background": "light"
     },
     "output_type": "display_data"
    },
    {
     "data": {
      "image/png": "[encoded data removed]",
      "text/plain": [
       "<Figure size 432x216 with 2 Axes>"
      ]
     },
     "metadata": {
      "needs_background": "light"
     },
     "output_type": "display_data"
    }
   ],
   "source": [
    "for country in countries:\n",
    "    \n",
    "    fig, axs = plt.subplots(1, 2, figsize=(6, 3))\n",
    "\n",
    "    axs[0].hist(df['happy'][(df['cntry'] == country) & (df['year']==6)].dropna())\n",
    "    axs[1].hist(df['happy'][(df['cntry'] == country) & (df['year']==7)].dropna())\n",
    "\n",
    "    fig.text(0.5, 0, country)\n",
    "    axs[0].set_title('2012')\n",
    "    axs[1].set_title('2014')\n",
    "    \n",
    "    plt.tight_layout()\n",
    "    plt.show()"
   ]
  },
  {
   "cell_type": "code",
   "execution_count": 19,
   "metadata": {},
   "outputs": [
    {
     "name": "stdout",
     "output_type": "stream",
     "text": [
      "Non-parametric\n",
      "\n",
      " CH\n",
      "2012 median: 8.00\n",
      "2014 median: 8.00\n",
      "WilcoxonResult(statistic=92816.5, pvalue=0.8208688161425343)\n",
      "\n",
      " CZ\n",
      "2012 median: 8.00\n",
      "2014 median: 8.00\n",
      "WilcoxonResult(statistic=73213.0, pvalue=0.01064243454053068)\n",
      "\n",
      " DE\n",
      "2012 median: 8.00\n",
      "2014 median: 8.00\n",
      "WilcoxonResult(statistic=23.5, pvalue=0.393351316918508)\n",
      "\n",
      " ES\n",
      "2012 median: 8.00\n",
      "2014 median: 8.00\n",
      "WilcoxonResult(statistic=231958.5, pvalue=0.04923868084306013)\n",
      "\n",
      " NO\n",
      "2012 median: 8.00\n",
      "2014 median: 8.00\n",
      "WilcoxonResult(statistic=67571.5, pvalue=2.7264367804254175e-06)\n",
      "\n",
      " SE\n",
      "2012 median: 8.00\n",
      "2014 median: 8.00\n",
      "WilcoxonResult(statistic=125481.0, pvalue=0.5136403441005022)\n"
     ]
    },
    {
     "name": "stderr",
     "output_type": "stream",
     "text": [
      "/Users/yutakatsuyama/anaconda3/lib/python3.7/site-packages/scipy/stats/morestats.py:2866: RuntimeWarning: invalid value encountered in greater\n",
      "  r_plus = np.sum((d > 0) * r, axis=0)\n",
      "/Users/yutakatsuyama/anaconda3/lib/python3.7/site-packages/scipy/stats/morestats.py:2867: RuntimeWarning: invalid value encountered in less\n",
      "  r_minus = np.sum((d < 0) * r, axis=0)\n"
     ]
    }
   ],
   "source": [
    "\n",
    "print('Non-parametric')\n",
    "for country in countries:\n",
    "    print('\\n', country)\n",
    "    print('2012 median: {0:.2f}'.format(df['happy'][(df['cntry'] == 'DE') & (df['year']==6)].median()))\n",
    "    print('2014 median: {0:.2f}'.format(df['happy'][(df['cntry'] == 'DE') & (df['year']==7)].median()))  \n",
    "    print(stats.wilcoxon(df['happy'][(df['cntry'] == country) & (df['year']==6)], \n",
    "                         df['happy'][(df['cntry'] == country) & (df['year']==7)],\n",
    "                         zero_method='wilcox'\n",
    "                        ))"
   ]
  },
  {
   "cell_type": "markdown",
   "metadata": {},
   "source": [
    "From the results above, CZ and ES had significant differences. How can you tell if it was an increase or decrease in values since it's not really apparent in histgrams?"
   ]
  },
  {
   "cell_type": "markdown",
   "metadata": {},
   "source": [
    "Compare to parametric paired T-test:"
   ]
  },
  {
   "cell_type": "code",
   "execution_count": 20,
   "metadata": {},
   "outputs": [
    {
     "name": "stdout",
     "output_type": "stream",
     "text": [
      "Parametric\n",
      "\n",
      " CH\n",
      "2012 mean: 7.43\n",
      "2014 mean: 7.86\n",
      "Ttest_relResult(statistic=-0.319412957862232, pvalue=0.7495001355429063)\n",
      "\n",
      " CZ\n",
      "2012 mean: 7.43\n",
      "2014 mean: 7.86\n",
      "Ttest_relResult(statistic=-1.4561384833039597, pvalue=0.1458454843389451)\n",
      "\n",
      " DE\n",
      "2012 mean: 7.43\n",
      "2014 mean: 7.86\n",
      "Ttest_relResult(statistic=-0.8062257748298549, pvalue=0.4346138707734991)\n",
      "\n",
      " ES\n",
      "2012 mean: 7.43\n",
      "2014 mean: 7.86\n",
      "Ttest_relResult(statistic=1.613832417735418, pvalue=0.10682451556479494)\n",
      "\n",
      " NO\n",
      "2012 mean: 7.43\n",
      "2014 mean: 7.86\n",
      "Ttest_relResult(statistic=4.2856826576235925, pvalue=2.067453013405473e-05)\n",
      "\n",
      " SE\n",
      "2012 mean: 7.43\n",
      "2014 mean: 7.86\n",
      "Ttest_relResult(statistic=-0.5581637086030012, pvalue=0.5768709591233714)\n"
     ]
    }
   ],
   "source": [
    "print('Parametric')\n",
    "for country in countries:\n",
    "    print('\\n', country)\n",
    "    print('2012 mean: {0:.2f}'.format(df['happy'][(df['cntry'] == 'DE') & (df['year']==6)].mean()))\n",
    "    print('2014 mean: {0:.2f}'.format(df['happy'][(df['cntry'] == 'DE') & (df['year']==7)].mean()))  \n",
    "    print(stats.ttest_rel(df['happy'][(df['cntry'] == country) & (df['year']==6)], \n",
    "                          df['happy'][(df['cntry'] == country) & (df['year']==7)],\n",
    "                          nan_policy='omit'\n",
    "                         ))"
   ]
  },
  {
   "cell_type": "markdown",
   "metadata": {},
   "source": [
    "No change in happiness scores based on parametric tests."
   ]
  },
  {
   "cell_type": "markdown",
   "metadata": {},
   "source": [
    "## 3. Who reported watching more TV in 2012, men or women?"
   ]
  },
  {
   "cell_type": "markdown",
   "metadata": {},
   "source": [
    "Independent t-test for normal(ish) distributions"
   ]
  },
  {
   "cell_type": "code",
   "execution_count": 21,
   "metadata": {},
   "outputs": [
    {
     "data": {
      "text/html": [
       "<div>\n",
       "<style scoped>\n",
       "    .dataframe tbody tr th:only-of-type {\n",
       "        vertical-align: middle;\n",
       "    }\n",
       "\n",
       "    .dataframe tbody tr th {\n",
       "        vertical-align: top;\n",
       "    }\n",
       "\n",
       "    .dataframe thead th {\n",
       "        text-align: right;\n",
       "    }\n",
       "</style>\n",
       "<table border=\"1\" class=\"dataframe\">\n",
       "  <thead>\n",
       "    <tr style=\"text-align: right;\">\n",
       "      <th></th>\n",
       "      <th>cntry</th>\n",
       "      <th>idno</th>\n",
       "      <th>year</th>\n",
       "      <th>tvtot</th>\n",
       "      <th>ppltrst</th>\n",
       "      <th>pplfair</th>\n",
       "      <th>pplhlp</th>\n",
       "      <th>happy</th>\n",
       "      <th>sclmeet</th>\n",
       "      <th>sclact</th>\n",
       "      <th>gndr</th>\n",
       "      <th>agea</th>\n",
       "      <th>partner</th>\n",
       "    </tr>\n",
       "  </thead>\n",
       "  <tbody>\n",
       "    <tr>\n",
       "      <td>0</td>\n",
       "      <td>CH</td>\n",
       "      <td>5.0</td>\n",
       "      <td>6</td>\n",
       "      <td>3.0</td>\n",
       "      <td>3.0</td>\n",
       "      <td>10.0</td>\n",
       "      <td>5.0</td>\n",
       "      <td>8.0</td>\n",
       "      <td>5.0</td>\n",
       "      <td>4.0</td>\n",
       "      <td>2.0</td>\n",
       "      <td>60.0</td>\n",
       "      <td>1.0</td>\n",
       "    </tr>\n",
       "    <tr>\n",
       "      <td>1</td>\n",
       "      <td>CH</td>\n",
       "      <td>25.0</td>\n",
       "      <td>6</td>\n",
       "      <td>6.0</td>\n",
       "      <td>5.0</td>\n",
       "      <td>7.0</td>\n",
       "      <td>5.0</td>\n",
       "      <td>9.0</td>\n",
       "      <td>3.0</td>\n",
       "      <td>2.0</td>\n",
       "      <td>2.0</td>\n",
       "      <td>59.0</td>\n",
       "      <td>1.0</td>\n",
       "    </tr>\n",
       "    <tr>\n",
       "      <td>2</td>\n",
       "      <td>CH</td>\n",
       "      <td>26.0</td>\n",
       "      <td>6</td>\n",
       "      <td>1.0</td>\n",
       "      <td>8.0</td>\n",
       "      <td>8.0</td>\n",
       "      <td>8.0</td>\n",
       "      <td>7.0</td>\n",
       "      <td>6.0</td>\n",
       "      <td>3.0</td>\n",
       "      <td>1.0</td>\n",
       "      <td>24.0</td>\n",
       "      <td>2.0</td>\n",
       "    </tr>\n",
       "    <tr>\n",
       "      <td>3</td>\n",
       "      <td>CH</td>\n",
       "      <td>28.0</td>\n",
       "      <td>6</td>\n",
       "      <td>4.0</td>\n",
       "      <td>6.0</td>\n",
       "      <td>6.0</td>\n",
       "      <td>7.0</td>\n",
       "      <td>10.0</td>\n",
       "      <td>6.0</td>\n",
       "      <td>2.0</td>\n",
       "      <td>2.0</td>\n",
       "      <td>64.0</td>\n",
       "      <td>1.0</td>\n",
       "    </tr>\n",
       "    <tr>\n",
       "      <td>4</td>\n",
       "      <td>CH</td>\n",
       "      <td>29.0</td>\n",
       "      <td>6</td>\n",
       "      <td>5.0</td>\n",
       "      <td>6.0</td>\n",
       "      <td>7.0</td>\n",
       "      <td>5.0</td>\n",
       "      <td>8.0</td>\n",
       "      <td>7.0</td>\n",
       "      <td>2.0</td>\n",
       "      <td>2.0</td>\n",
       "      <td>55.0</td>\n",
       "      <td>1.0</td>\n",
       "    </tr>\n",
       "  </tbody>\n",
       "</table>\n",
       "</div>"
      ],
      "text/plain": [
       "  cntry  idno  year  tvtot  ppltrst  pplfair  pplhlp  happy  sclmeet  sclact  \\\n",
       "0    CH   5.0     6    3.0      3.0     10.0     5.0    8.0      5.0     4.0   \n",
       "1    CH  25.0     6    6.0      5.0      7.0     5.0    9.0      3.0     2.0   \n",
       "2    CH  26.0     6    1.0      8.0      8.0     8.0    7.0      6.0     3.0   \n",
       "3    CH  28.0     6    4.0      6.0      6.0     7.0   10.0      6.0     2.0   \n",
       "4    CH  29.0     6    5.0      6.0      7.0     5.0    8.0      7.0     2.0   \n",
       "\n",
       "   gndr  agea  partner  \n",
       "0   2.0  60.0      1.0  \n",
       "1   2.0  59.0      1.0  \n",
       "2   1.0  24.0      2.0  \n",
       "3   2.0  64.0      1.0  \n",
       "4   2.0  55.0      1.0  "
      ]
     },
     "execution_count": 21,
     "metadata": {},
     "output_type": "execute_result"
    }
   ],
   "source": [
    "df.head()\n",
    "# gender 1 = male\n",
    "# gender 2 = female"
   ]
  },
  {
   "cell_type": "code",
   "execution_count": 22,
   "metadata": {},
   "outputs": [
    {
     "data": {
      "image/png": "[encoded data removed]",
      "text/plain": [
       "<Figure size 432x216 with 2 Axes>"
      ]
     },
     "metadata": {
      "needs_background": "light"
     },
     "output_type": "display_data"
    }
   ],
   "source": [
    "male = df['tvtot'][(df['gndr'] == 1.0) & (df['year'] == 6)]\n",
    "female = df['tvtot'][(df['gndr'] == 2.0) & (df['year'] == 6)]\n",
    "\n",
    "fig, axs = plt.subplots(1, 2, figsize=(6, 3))\n",
    "\n",
    "axs[0].hist(male.dropna())\n",
    "axs[1].hist(female.dropna())\n",
    "\n",
    "fig.text(0.5, 0, '2012 TV Total')\n",
    "axs[0].set_title('Male')\n",
    "axs[1].set_title('Female')\n",
    "    \n",
    "plt.tight_layout()\n",
    "plt.show()"
   ]
  },
  {
   "cell_type": "code",
   "execution_count": 23,
   "metadata": {},
   "outputs": [
    {
     "name": "stdout",
     "output_type": "stream",
     "text": [
      "Male mean: 3.90\n",
      "Female mean: 3.94\n",
      "Ttest_indResult(statistic=-0.6899928109209502, pvalue=0.49023604027095813)\n"
     ]
    }
   ],
   "source": [
    "print('Male mean: {0:.2f}'.format(male.mean()))\n",
    "print('Female mean: {0:.2f}'.format(female.mean()))  \n",
    "print(stats.ttest_ind(male, \n",
    "                    female,\n",
    "                    nan_policy='omit'\n",
    "                    ))"
   ]
  },
  {
   "cell_type": "markdown",
   "metadata": {},
   "source": [
    "there is no difference in reported tv watching time for men vs. women during 2012."
   ]
  },
  {
   "cell_type": "markdown",
   "metadata": {},
   "source": [
    "## 4. Who was more likely to believe people were fair in 2012, people living with a partner or people living alone?"
   ]
  },
  {
   "cell_type": "code",
   "execution_count": 24,
   "metadata": {},
   "outputs": [
    {
     "data": {
      "text/html": [
       "<div>\n",
       "<style scoped>\n",
       "    .dataframe tbody tr th:only-of-type {\n",
       "        vertical-align: middle;\n",
       "    }\n",
       "\n",
       "    .dataframe tbody tr th {\n",
       "        vertical-align: top;\n",
       "    }\n",
       "\n",
       "    .dataframe thead th {\n",
       "        text-align: right;\n",
       "    }\n",
       "</style>\n",
       "<table border=\"1\" class=\"dataframe\">\n",
       "  <thead>\n",
       "    <tr style=\"text-align: right;\">\n",
       "      <th></th>\n",
       "      <th>cntry</th>\n",
       "      <th>idno</th>\n",
       "      <th>year</th>\n",
       "      <th>tvtot</th>\n",
       "      <th>ppltrst</th>\n",
       "      <th>pplfair</th>\n",
       "      <th>pplhlp</th>\n",
       "      <th>happy</th>\n",
       "      <th>sclmeet</th>\n",
       "      <th>sclact</th>\n",
       "      <th>gndr</th>\n",
       "      <th>agea</th>\n",
       "      <th>partner</th>\n",
       "    </tr>\n",
       "  </thead>\n",
       "  <tbody>\n",
       "    <tr>\n",
       "      <td>0</td>\n",
       "      <td>CH</td>\n",
       "      <td>5.0</td>\n",
       "      <td>6</td>\n",
       "      <td>3.0</td>\n",
       "      <td>3.0</td>\n",
       "      <td>10.0</td>\n",
       "      <td>5.0</td>\n",
       "      <td>8.0</td>\n",
       "      <td>5.0</td>\n",
       "      <td>4.0</td>\n",
       "      <td>2.0</td>\n",
       "      <td>60.0</td>\n",
       "      <td>1.0</td>\n",
       "    </tr>\n",
       "  </tbody>\n",
       "</table>\n",
       "</div>"
      ],
      "text/plain": [
       "  cntry  idno  year  tvtot  ppltrst  pplfair  pplhlp  happy  sclmeet  sclact  \\\n",
       "0    CH   5.0     6    3.0      3.0     10.0     5.0    8.0      5.0     4.0   \n",
       "\n",
       "   gndr  agea  partner  \n",
       "0   2.0  60.0      1.0  "
      ]
     },
     "execution_count": 24,
     "metadata": {},
     "output_type": "execute_result"
    }
   ],
   "source": [
    "df.head(1)\n",
    "#partner 1 = lives with someone\n",
    "#partner 2 = lives alone\n",
    "# year 6 = 2012"
   ]
  },
  {
   "cell_type": "code",
   "execution_count": 25,
   "metadata": {},
   "outputs": [
    {
     "data": {
      "image/png": "[encoded data removed]",
      "text/plain": [
       "<Figure size 432x216 with 2 Axes>"
      ]
     },
     "metadata": {
      "needs_background": "light"
     },
     "output_type": "display_data"
    }
   ],
   "source": [
    "partner = df['pplfair'][(df['partner'] == 1.0) & (df['year'] == 6)]\n",
    "alone = df['pplfair'][(df['partner'] == 2.0) & (df['year'] == 6)]\n",
    "\n",
    "fig, axs = plt.subplots(1, 2, figsize=(6, 3))\n",
    "\n",
    "axs[0].hist(partner.dropna())\n",
    "axs[1].hist(alone.dropna())\n",
    "\n",
    "fig.text(0.5, 0, '2012 Fairness')\n",
    "axs[0].set_title('Lives with Partner')\n",
    "axs[1].set_title('Lives Alone')\n",
    "    \n",
    "plt.tight_layout()\n",
    "plt.show()"
   ]
  },
  {
   "cell_type": "code",
   "execution_count": 26,
   "metadata": {},
   "outputs": [
    {
     "name": "stdout",
     "output_type": "stream",
     "text": [
      "Lives with partner mean: 6.08\n",
      "Lives alone mean: 5.86\n",
      "Ttest_indResult(statistic=3.3201033970362084, pvalue=0.0009073952609876207)\n"
     ]
    }
   ],
   "source": [
    "print('Lives with partner mean: {0:.2f}'.format(partner.mean()))\n",
    "print('Lives alone mean: {0:.2f}'.format(alone.mean()))  \n",
    "print(stats.ttest_ind(partner, \n",
    "                    alone,\n",
    "                    nan_policy='omit'\n",
    "                    ))"
   ]
  },
  {
   "cell_type": "markdown",
   "metadata": {},
   "source": [
    "People living with a partner were more likely to believe people were fair in 2012 than living alone."
   ]
  },
  {
   "cell_type": "markdown",
   "metadata": {},
   "source": [
    "## 5. Pick three or four of the countries in the sample and compare how often people met socially in 2014. Are there differences, and if so, which countries stand out?"
   ]
  },
  {
   "cell_type": "code",
   "execution_count": 29,
   "metadata": {},
   "outputs": [
    {
     "name": "stdout",
     "output_type": "stream",
     "text": [
      "['ES', 'NO', 'SE']\n"
     ]
    },
    {
     "data": {
      "text/html": [
       "<div>\n",
       "<style scoped>\n",
       "    .dataframe tbody tr th:only-of-type {\n",
       "        vertical-align: middle;\n",
       "    }\n",
       "\n",
       "    .dataframe tbody tr th {\n",
       "        vertical-align: top;\n",
       "    }\n",
       "\n",
       "    .dataframe thead th {\n",
       "        text-align: right;\n",
       "    }\n",
       "</style>\n",
       "<table border=\"1\" class=\"dataframe\">\n",
       "  <thead>\n",
       "    <tr style=\"text-align: right;\">\n",
       "      <th></th>\n",
       "      <th>cntry</th>\n",
       "      <th>idno</th>\n",
       "      <th>year</th>\n",
       "      <th>tvtot</th>\n",
       "      <th>ppltrst</th>\n",
       "      <th>pplfair</th>\n",
       "      <th>pplhlp</th>\n",
       "      <th>happy</th>\n",
       "      <th>sclmeet</th>\n",
       "      <th>sclact</th>\n",
       "      <th>gndr</th>\n",
       "      <th>agea</th>\n",
       "      <th>partner</th>\n",
       "    </tr>\n",
       "  </thead>\n",
       "  <tbody>\n",
       "    <tr>\n",
       "      <td>0</td>\n",
       "      <td>CH</td>\n",
       "      <td>5.0</td>\n",
       "      <td>6</td>\n",
       "      <td>3.0</td>\n",
       "      <td>3.0</td>\n",
       "      <td>10.0</td>\n",
       "      <td>5.0</td>\n",
       "      <td>8.0</td>\n",
       "      <td>5.0</td>\n",
       "      <td>4.0</td>\n",
       "      <td>2.0</td>\n",
       "      <td>60.0</td>\n",
       "      <td>1.0</td>\n",
       "    </tr>\n",
       "  </tbody>\n",
       "</table>\n",
       "</div>"
      ],
      "text/plain": [
       "  cntry  idno  year  tvtot  ppltrst  pplfair  pplhlp  happy  sclmeet  sclact  \\\n",
       "0    CH   5.0     6    3.0      3.0     10.0     5.0    8.0      5.0     4.0   \n",
       "\n",
       "   gndr  agea  partner  \n",
       "0   2.0  60.0      1.0  "
      ]
     },
     "execution_count": 29,
     "metadata": {},
     "output_type": "execute_result"
    }
   ],
   "source": [
    "social = countries[3:]\n",
    "print(social)\n",
    "df.head(1)"
   ]
  },
  {
   "cell_type": "code",
   "execution_count": 30,
   "metadata": {},
   "outputs": [],
   "source": [
    "ES_meet = df['sclmeet'][(df['cntry'] == 'ES') & (df['year'] == 7)].dropna()\n",
    "NO_meet = df['sclmeet'][(df['cntry'] == 'NO') & (df['year'] == 7)].dropna()\n",
    "SE_meet = df['sclmeet'][(df['cntry'] == 'SE') & (df['year'] == 7)].dropna()"
   ]
  },
  {
   "cell_type": "code",
   "execution_count": 31,
   "metadata": {},
   "outputs": [
    {
     "data": {
      "image/png": "[encoded data removed]",
      "text/plain": [
       "<Figure size 432x216 with 3 Axes>"
      ]
     },
     "metadata": {
      "needs_background": "light"
     },
     "output_type": "display_data"
    }
   ],
   "source": [
    "\n",
    "fig, axs = plt.subplots(1, 3, figsize=(6, 3))\n",
    "\n",
    "axs[0].hist(ES_meet)\n",
    "axs[1].hist(NO_meet)\n",
    "axs[2].hist(SE_meet)\n",
    "\n",
    "fig.text(0.25, 1, '2014 Number of Social Meetups w/ Friends')\n",
    "axs[0].set_title('ES')\n",
    "axs[1].set_title('NO')\n",
    "axs[2].set_title('SE')\n",
    "    \n",
    "plt.tight_layout()\n",
    "plt.show()"
   ]
  },
  {
   "cell_type": "code",
   "execution_count": 32,
   "metadata": {},
   "outputs": [
    {
     "data": {
      "image/png": "[encoded data removed]",
      "text/plain": [
       "<Figure size 432x216 with 3 Axes>"
      ]
     },
     "metadata": {
      "needs_background": "light"
     },
     "output_type": "display_data"
    }
   ],
   "source": [
    "\n",
    "fig, axs = plt.subplots(1, 3, figsize=(6, 3))\n",
    "\n",
    "axs[0].boxplot(ES_meet)\n",
    "axs[1].boxplot(NO_meet)\n",
    "axs[2].boxplot(SE_meet)\n",
    "\n",
    "fig.text(0.25, 1, '2014 Number of Social Meetups w/ Friends')\n",
    "axs[0].set_title('ES')\n",
    "axs[1].set_title('NO')\n",
    "axs[2].set_title('SE')\n",
    "    \n",
    "plt.tight_layout()\n",
    "plt.show()"
   ]
  },
  {
   "cell_type": "code",
   "execution_count": 33,
   "metadata": {},
   "outputs": [
    {
     "name": "stdout",
     "output_type": "stream",
     "text": [
      "F statistic: 3.726110434690217 \n",
      "p-value: 0.02420388186106648\n"
     ]
    }
   ],
   "source": [
    "F, p = stats.f_oneway(ES_meet, NO_meet, SE_meet)\n",
    "print(\"F statistic:\", F, \"\\np-value:\", p)"
   ]
  },
  {
   "cell_type": "code",
   "execution_count": 34,
   "metadata": {},
   "outputs": [
    {
     "name": "stdout",
     "output_type": "stream",
     "text": [
      "ES: 5.2601156069364166 1211\n",
      "NO: 5.3023255813953485 731\n",
      "SE: 5.426211453744493 908\n",
      "\n",
      " Ttest_indResult(statistic=-0.632916395870007, pvalue=0.5268628350318294)\n",
      "Ttest_indResult(statistic=-2.649547268580078, pvalue=0.00811992279651295)\n",
      "Ttest_indResult(statistic=1.8305856428076237, pvalue=0.06734412432597783)\n"
     ]
    }
   ],
   "source": [
    "print('ES:', ES_meet.mean(), ES_meet.count())\n",
    "print('NO:', NO_meet.mean(), NO_meet.count())\n",
    "print('SE:', SE_meet.mean(), SE_meet.count())\n",
    "\n",
    "print('\\n', stats.ttest_ind(ES_meet, NO_meet))\n",
    "print(stats.ttest_ind(ES_meet, SE_meet))\n",
    "print(stats.ttest_ind(SE_meet, NO_meet))"
   ]
  },
  {
   "cell_type": "markdown",
   "metadata": {},
   "source": [
    "There are significant differences between groups based on the one way ANOVA. Using an independent t-test to compare each country to one another, it looks like there is a significant difference in social encounters between ES and SE, with Sweden having more social encounters."
   ]
  },
  {
   "cell_type": "markdown",
   "metadata": {},
   "source": [
    "## 6. Pick three or four of the countries in the sample and compare how often people took part in social activities, relative to others in their age, in 2014. Are there any differences? If so, which countries stand out?"
   ]
  },
  {
   "cell_type": "code",
   "execution_count": 37,
   "metadata": {},
   "outputs": [],
   "source": [
    "ES_act = df['sclact'][(df['cntry'] == 'ES') & (df['year'] == 7)].dropna()\n",
    "NO_act = df['sclact'][(df['cntry'] == 'NO') & (df['year'] == 7)].dropna()\n",
    "SE_act = df['sclact'][(df['cntry'] == 'SE') & (df['year'] == 7)].dropna()"
   ]
  },
  {
   "cell_type": "code",
   "execution_count": 38,
   "metadata": {},
   "outputs": [
    {
     "data": {
      "image/png": "[encoded data removed]",
      "text/plain": [
       "<Figure size 432x216 with 3 Axes>"
      ]
     },
     "metadata": {
      "needs_background": "light"
     },
     "output_type": "display_data"
    }
   ],
   "source": [
    "fig, axs = plt.subplots(1, 3, figsize=(6, 3))\n",
    "\n",
    "axs[0].hist(ES_act)\n",
    "axs[1].hist(NO_act)\n",
    "axs[2].hist(SE_act)\n",
    "\n",
    "fig.text(0.1, 1, '2014 Number of Social Activities Relative to Others of the Same Age')\n",
    "axs[0].set_title('ES')\n",
    "axs[1].set_title('NO')\n",
    "axs[2].set_title('SE')\n",
    "    \n",
    "plt.tight_layout()\n",
    "plt.show()"
   ]
  },
  {
   "cell_type": "code",
   "execution_count": 39,
   "metadata": {},
   "outputs": [
    {
     "name": "stdout",
     "output_type": "stream",
     "text": [
      "F statistic: 27.753885475253163 \n",
      "p-value: 1.1583945951240228e-12\n"
     ]
    }
   ],
   "source": [
    "F, p = stats.f_oneway(ES_act, NO_act, SE_act)\n",
    "print(\"F statistic:\", F, \"\\np-value:\",p)"
   ]
  },
  {
   "cell_type": "code",
   "execution_count": 40,
   "metadata": {},
   "outputs": [
    {
     "name": "stdout",
     "output_type": "stream",
     "text": [
      "ES: 2.6168776371308016 1185\n",
      "NO: 2.859097127222982 731\n",
      "SE: 2.879424778761062 904\n",
      "\n",
      " Ttest_indResult(statistic=-5.671149129663532, pvalue=1.6345881270312057e-08)\n",
      "Ttest_indResult(statistic=-6.500257345866597, pvalue=1.000080729987386e-10)\n",
      "Ttest_indResult(statistic=0.4823216270234106, pvalue=0.6296421272017451)\n"
     ]
    }
   ],
   "source": [
    "print('ES:', ES_act.mean(), ES_act.count())\n",
    "print('NO:', NO_act.mean(), NO_act.count())\n",
    "print('SE:', SE_act.mean(), SE_act.count())\n",
    "\n",
    "print('\\n', stats.ttest_ind(ES_act, NO_act))\n",
    "print(stats.ttest_ind(ES_act, SE_act))\n",
    "print(stats.ttest_ind(SE_act, NO_act))"
   ]
  },
  {
   "cell_type": "code",
   "execution_count": null,
   "metadata": {},
   "outputs": [],
   "source": [
    "P-value from the"
   ]
  }
 ],
 "metadata": {
  "kernelspec": {
   "display_name": "Python 3",
   "language": "python",
   "name": "python3"
  },
  "language_info": {
   "codemirror_mode": {
    "name": "ipython",
    "version": 3
   },
   "file_extension": ".py",
   "mimetype": "text/x-python",
   "name": "python",
   "nbconvert_exporter": "python",
   "pygments_lexer": "ipython3",
   "version": "3.7.4"
  }
 },
 "nbformat": 4,
 "nbformat_minor": 2
}
