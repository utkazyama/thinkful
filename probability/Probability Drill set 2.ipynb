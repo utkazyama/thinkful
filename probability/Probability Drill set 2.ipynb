{
 "cells": [
  {
   "cell_type": "markdown",
   "metadata": {},
   "source": [
    "*Sufferers population: 0.5 %\n",
    "\n",
    "*Sufferer: 98% positive vs 2% negative\n",
    "\n",
    "*Non-sufferer: 10%  positive vs 90% negative "
   ]
  },
  {
   "cell_type": "markdown",
   "metadata": {},
   "source": [
    "1. Be positive\n",
    "\n",
    "P(P) = 0.005*0.98 + 0.995*0.1 = 0.0049 + 0.0995 = 0.1044"
   ]
  },
  {
   "cell_type": "markdown",
   "metadata": {},
   "source": [
    "2. Correctly diagnose a sufferer of Thripshaw's\n",
    "\n",
    "0.98"
   ]
  },
  {
   "cell_type": "markdown",
   "metadata": {},
   "source": [
    "3. Correctly identify a non-sufferer of Thripshaw’s\n",
    "\n",
    "0.9"
   ]
  },
  {
   "cell_type": "markdown",
   "metadata": {},
   "source": [
    "4. Misclassify the person\n",
    "\n",
    "P(Sufferer|Negative) + P (Non-Suf|Positive)\n",
    "\n",
    "P(Sufferer|Negative) = 0.005*0.02 = 0.0001\n",
    "P(Non-Suf|Positive) = 0.995*0.1 = 0.0995\n",
    "\n",
    "P(Sufferer|Negative) + P (Non-Suf|Positive) = 0.0001 + 0.0995 = 0.0996"
   ]
  },
  {
   "cell_type": "code",
   "execution_count": null,
   "metadata": {},
   "outputs": [],
   "source": []
  }
 ],
 "metadata": {
  "kernelspec": {
   "display_name": "Python 3",
   "language": "python",
   "name": "python3"
  },
  "language_info": {
   "codemirror_mode": {
    "name": "ipython",
    "version": 3
   },
   "file_extension": ".py",
   "mimetype": "text/x-python",
   "name": "python",
   "nbconvert_exporter": "python",
   "pygments_lexer": "ipython3",
   "version": "3.7.4"
  }
 },
 "nbformat": 4,
 "nbformat_minor": 2
}
